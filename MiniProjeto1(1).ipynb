{
 "cells": [
  {
   "cell_type": "markdown",
   "metadata": {},
   "source": [
    "# MiniProjeto 1 - Identificação de distribuições\n",
    "\n",
    "## Objetivo\n",
    "\n",
    "O objetivo deste projeto é identificar quais distribuições (pdf - funções de densidade de probabilidade - no caso contínuo, ou pmf - funções de probabilidade - no caso discreto) descrevem bem as variáveis quantitativas extraídas de *datasets*.\n",
    "\n",
    "O resultado final esperado é um relatório que identifique, com bons argumentos, modelos probabilísticos para uma variável quantitativa e uma variável qualitativa de um ou mais *datasets*.\n",
    "\n",
    "Este projeto é **estritamente individual**.\n",
    "\n",
    "\n",
    "## O que deve ser feito\n",
    "\n",
    "Você precisa escolher duas variáveis, uma quantitativa e uma qualitativa, em *datasets* públicos de sua escolha. As duas variáveis podem vir do mesmo *dataset*.\n",
    "\n",
    "Limpe e prepare os dados para processamento (tratando valores `NaN`, `N/A`, por exemplo). Fique atento ao dicionário de dados (se houver) para identificar quais colunas de fato são quantitativas e eventualmente remover valores inválidos.\n",
    "\n",
    "A seguir, estude as variáveis escolhidas e procure identificar DUAS possíveis funções que podem descrever sua probabilidade de ocorrência.\n",
    "\n",
    "Sugerimos que o trabalho siga as seguintes fases:\n",
    "\n",
    "1. Seleção de um *dataset* e escolha de variáveis quantitativas adequadas.\n",
    "2. Limpeza do *dataset*, se necessário.\n",
    "3. Inspeção visual da distribuição das variáveis escolhidas - usando um histograma, por exemplo.\n",
    "4. Formulação de hipóteses sobre a forma da distribuição dos dados.\n",
    "5. Tentativa de estimar os parâmetros da família de distribuições escolhida no item acima a partir dos dados. Obs: As distribuições do pacote `scipy.stats` têm uma função chamada `fit()` que procura estimar os parâmetros a partir do conjunto de dados. Cada distribuição possui parâmetros estimados diferentes.\n",
    "6. Análise do histrograma vs. o plot teórico de cada distribuição escolhida.\n",
    "7. Análise da frequência relativa acumulada vs. a função de probabilidade acumulada (cdf) de cada.\n",
    "8. Análise do Q-Q-Plot (quantil amostral vs. quantil teórico).\n",
    "9. Teste de aderência para a distribuição. Como você irá comparar o resultado dos dois ajustes?\n",
    "10. Escreva uma conclusão sobre os resultados obtidos.\n",
    "\n",
    "Não há restrições em relação à base de dados a utilizar, **desde que não seja a mesma base da PNAD já usada na disciplina**. Aconselha-se evitar variáveis de bases com pequeno tamanho amostral.\n",
    "\n",
    "Tornamos disponível uma [Lista de datasets](https://docs.google.com/document/d/1zzc__WZp-gVrpK6zHqfDZr0vyqz2FwyTKIM2TtoEZ-g/pub \"Datasets interessantes\") que pode ajudar nesta fase do trabalho. Você não precisa ficar restrito a esta lista.\n",
    "\n",
    "## Entregáveis esperados e datas\n",
    "\n",
    "Item | Data | Descrição\n",
    "---|---|---\n",
    "Indicação de dataset | 14/09/2016 | Indicar datasets e variáveis de interesse.\n",
    "Relatório final| 21/09/2016| Notebook completo com os itens descritos acima.\n"
   ]
  },
  {
   "cell_type": "code",
   "execution_count": null,
   "metadata": {
    "collapsed": true
   },
   "outputs": [],
   "source": []
  }
 ],
 "metadata": {
  "kernelspec": {
   "display_name": "Python 3",
   "language": "python",
   "name": "python3"
  },
  "language_info": {
   "codemirror_mode": {
    "name": "ipython",
    "version": 3
   },
   "file_extension": ".py",
   "mimetype": "text/x-python",
   "name": "python",
   "nbconvert_exporter": "python",
   "pygments_lexer": "ipython3",
   "version": "3.5.1"
  }
 },
 "nbformat": 4,
 "nbformat_minor": 0
}
