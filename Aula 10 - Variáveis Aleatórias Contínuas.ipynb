{
 "cells": [
  {
   "cell_type": "markdown",
   "metadata": {},
   "source": [
    "#Aula 10\n",
    "\n",
    "**Referência de Leitura:**\n",
    "1. Magalhães e Lima (7ª. Edição): pág. 177 a 220 - Variáveis aleatórias contínuas\n",
    "\n",
    "**Hoje:**\n",
    "1. Variáveis aleatórias contínuas\n",
    "2. Propriedades de uma variável Aleatória\n",
    "3. Modelos de v.a. contínuas\n",
    "\n",
    "**Próxima aula:**\n",
    "1. Escolher um dataset para o Miniprojeto 1."
   ]
  },
  {
   "cell_type": "code",
   "execution_count": 16,
   "metadata": {
    "collapsed": false
   },
   "outputs": [],
   "source": [
    "%matplotlib inline\n",
    "\n",
    "#Bibliotecas necessárias\n",
    "from scipy.stats import norm, expon\n",
    "import pandas as pd"
   ]
  },
  {
   "cell_type": "markdown",
   "metadata": {},
   "source": [
    "1) Gere 1000 valores de uma distribuição Normal¹ utilizando a função rvs(). Usar média zero e desvio padrão 1, ou seja, X~N(0,1). <br />\n",
    "    1.1) Faça o histograma de X.<br />\n",
    "\n",
    "¹http://docs.scipy.org/doc/scipy/reference/generated/scipy.stats.norm.html"
   ]
  },
  {
   "cell_type": "code",
   "execution_count": null,
   "metadata": {
    "collapsed": false
   },
   "outputs": [],
   "source": []
  },
  {
   "cell_type": "markdown",
   "metadata": {},
   "source": [
    "1.2) Mostre que se $Y = aX + b$, então:<br />\n",
    "    1.2.1) $\\mu_y=a\\mu_x+b$<br />\n",
    "    1.2.1) $\\sigma_y=a\\sigma_x$<br />\n",
    "1.3) Faça o histograma de Y. Qual a distribuição de Y?"
   ]
  },
  {
   "cell_type": "code",
   "execution_count": null,
   "metadata": {
    "collapsed": false
   },
   "outputs": [],
   "source": []
  },
  {
   "cell_type": "markdown",
   "metadata": {},
   "source": [
    "2.1) Faça o gráfico da função pdf() para X~N(0,1). Usar o domínio [-4,4].<br />"
   ]
  },
  {
   "cell_type": "code",
   "execution_count": null,
   "metadata": {
    "collapsed": false
   },
   "outputs": [],
   "source": []
  },
  {
   "cell_type": "markdown",
   "metadata": {},
   "source": [
    "2.2) Faça o gráfico da função cdf() para X~N(0,1). Ainda usar o domínio [-4,4].<br />"
   ]
  },
  {
   "cell_type": "code",
   "execution_count": null,
   "metadata": {
    "collapsed": false
   },
   "outputs": [],
   "source": []
  },
  {
   "cell_type": "markdown",
   "metadata": {},
   "source": [
    "3.2) Faça o gráfico da função ppf() para X~N(0,1). Ajustar o domínio correto.<br />"
   ]
  },
  {
   "cell_type": "code",
   "execution_count": null,
   "metadata": {
    "collapsed": false
   },
   "outputs": [],
   "source": []
  },
  {
   "cell_type": "markdown",
   "metadata": {},
   "source": [
    "2.4) Faça uma comparação das três funções com as funções utilizadas na Aula 09 para v.a. discretas.<br />"
   ]
  },
  {
   "cell_type": "code",
   "execution_count": 33,
   "metadata": {
    "collapsed": true
   },
   "outputs": [],
   "source": []
  },
  {
   "cell_type": "markdown",
   "metadata": {},
   "source": [
    "3) Faça o gráfico da função de densidade de probabilidade exponencial para os seguintes lambdas. Analise o resultado."
   ]
  },
  {
   "cell_type": "code",
   "execution_count": 1,
   "metadata": {
    "collapsed": false
   },
   "outputs": [],
   "source": [
    "lamb = [1, 2, 4, 8]\n"
   ]
  },
  {
   "cell_type": "markdown",
   "metadata": {},
   "source": [
    "4.1) Faça o gráfico da função de probabilidade normal para os seguintes $\\mu$. Usar desvio padrão 1. Analise o resultado."
   ]
  },
  {
   "cell_type": "code",
   "execution_count": 2,
   "metadata": {
    "collapsed": false
   },
   "outputs": [],
   "source": [
    "mu = [-2, 0, 2, 4]\n"
   ]
  },
  {
   "cell_type": "markdown",
   "metadata": {
    "collapsed": true
   },
   "source": [
    "4.2) Faça o gráfico da função de probabilidade normal para os seguintes $\\sigma$. Usar média zero. Analise o resultado."
   ]
  },
  {
   "cell_type": "code",
   "execution_count": 3,
   "metadata": {
    "collapsed": false
   },
   "outputs": [],
   "source": [
    "sigma = [1, 2, 4, 8]\n"
   ]
  },
  {
   "cell_type": "markdown",
   "metadata": {
    "collapsed": true
   },
   "source": [
    "- Fazer os exercícios do capítulo 6 do Magalhães, pag 211.<br />\n",
    "- Tarefa: Montar um notebook com exemplo de uso das pdfs: expon, norm, qui2, gamma, f e t. Identificar o que é loc and scale de cada função (e parametros extras se existir). Comparar a fórmula da pdf e da documentação do scipy.stats."
   ]
  },
  {
   "cell_type": "code",
   "execution_count": null,
   "metadata": {
    "collapsed": true
   },
   "outputs": [],
   "source": []
  }
 ],
 "metadata": {
  "anaconda-cloud": {},
  "kernelspec": {
   "display_name": "Python 3",
   "language": "python",
   "name": "python3"
  },
  "language_info": {
   "codemirror_mode": {
    "name": "ipython",
    "version": 3
   },
   "file_extension": ".py",
   "mimetype": "text/x-python",
   "name": "python",
   "nbconvert_exporter": "python",
   "pygments_lexer": "ipython3",
   "version": "3.5.1"
  }
 },
 "nbformat": 4,
 "nbformat_minor": 0
}
