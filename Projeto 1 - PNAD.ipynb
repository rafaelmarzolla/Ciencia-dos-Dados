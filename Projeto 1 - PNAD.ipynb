{
 "cells": [
  {
   "cell_type": "markdown",
   "metadata": {},
   "source": [
    "**Projeto 1 - PNAD**\n",
    "\n"
   ]
  },
  {
   "cell_type": "markdown",
   "metadata": {},
   "source": [
    "O projeto 1 de Ciencia dos Dados, teve como obejtivo analisar o banco de dados da PNAD do ponto de vista dos aposentados, se utilizando de diversas estratégias e ferramentas de análise estatística.\n",
    "Minha análise sobre os aposentados basea-se em estudar como o nível de educação e a idade com o indivíduo começou a trabalhar influenciam na sua renda de como aposentado. Para isso utilizaremos as variaveis:\n",
    "V6007(Curso mais elevado que frequentou anteriormente);\n",
    "V9892(Idade com que comecou a trabalhar);\n",
    "V4803(Anos de estudo);\n",
    "V4745(Nível de intrucao mais elevado);\n",
    "V1252(Rendimento mensal da aposentadoria federal);\n",
    "e V1255(Rendimento de pensão da previdencia''"
   ]
  },
  {
   "cell_type": "code",
   "execution_count": 4,
   "metadata": {
    "collapsed": true
   },
   "outputs": [],
   "source": [
    "%matplotlib inline\n",
    "\n",
    "import os\n",
    "import pandas as pd\n",
    "import matplotlib.pyplot as plt\n",
    "from pandas.tools.plotting import scatter_matrix\n",
    "import numpy as np\n",
    "os.chdir (\"C:\\\\Users\\\\Avell\\\\Desktop\\\\Insper\\\\3˚ Semestre\\\\Ciencia_dos_Dados_DP\\\\Projeto 1\")"
   ]
  },
  {
   "cell_type": "code",
   "execution_count": 5,
   "metadata": {
    "collapsed": false
   },
   "outputs": [],
   "source": [
    "pnad = pd.read_csv('pes2013R.csv')"
   ]
  },
  {
   "cell_type": "code",
   "execution_count": 6,
   "metadata": {
    "collapsed": false,
    "scrolled": true
   },
   "outputs": [
    {
     "data": {
      "text/plain": [
       "<bound method NDFrame.head of         Unnamed: 0  V0101  UF  V0102  V0103  V0301  V0302  V3031  V3032  \\\n",
       "34              35   2013  11     23      3      1      4     16      4   \n",
       "74              75   2013  11     31      1      3      2      4      4   \n",
       "75              76   2013  11     31      1      4      4     13     12   \n",
       "87              88   2013  11     31      6      1      2     24      3   \n",
       "171            172   2013  11     40     15      1      2      7     11   \n",
       "186            187   2013  11     58      4      1      2      1      8   \n",
       "187            188   2013  11     58      4      2      4     28     12   \n",
       "206            207   2013  11     58     12      1      4      0     20   \n",
       "262            263   2013  11     66     10      1      4     13      6   \n",
       "312            313   2013  11     74     12      1      2     25     12   \n",
       "324            325   2013  11     82      1      1      2     12      9   \n",
       "325            326   2013  11     82      1      2      4      1     12   \n",
       "335            336   2013  11     82      4      2      4     18      1   \n",
       "352            353   2013  11     82     11      1      4      2      2   \n",
       "375            376   2013  11     90      6      1      4     18      3   \n",
       "412            413   2013  11     90     15      1      4      8      1   \n",
       "472            473   2013  11    104      2      1      4     25      5   \n",
       "474            475   2013  11    104      3      1      4      6     12   \n",
       "475            476   2013  11    104      4      1      4      2     10   \n",
       "477            478   2013  11    104      5      1      4      8      7   \n",
       "492            493   2013  11    112      4      1      4      8      1   \n",
       "493            494   2013  11    112      4      2      2      9      6   \n",
       "503            504   2013  11    112      8      1      4     10     11   \n",
       "506            507   2013  11    112      9      1      2     26     10   \n",
       "509            510   2013  11    112     10      2      4      0     20   \n",
       "510            511   2013  11    120      1      1      4     16      1   \n",
       "511            512   2013  11    120      1      2      2      0     20   \n",
       "516            517   2013  11    120      4      1      2     16      1   \n",
       "517            518   2013  11    120      4      2      4     25     12   \n",
       "524            525   2013  11    120      6      4      2     29     12   \n",
       "...            ...    ...  ..    ...    ...    ...    ...    ...    ...   \n",
       "361860      361861   2013  53   1990     15      1      2     17      6   \n",
       "361881      361882   2013  53   2008      9      2      2      2      5   \n",
       "361885      361886   2013  53   2008     11      1      4      8      5   \n",
       "361911      361912   2013  53   2016      6      1      4     29      6   \n",
       "361936      361937   2013  53   2016     12      1      2     14      6   \n",
       "362092      362093   2013  53   2040     12      1      2      1     10   \n",
       "362097      362098   2013  53   2040     13      1      4      5      5   \n",
       "362104      362105   2013  53   2040     15      1      4     12      9   \n",
       "362105      362106   2013  53   2040     15      2      2     27     11   \n",
       "362172      362173   2013  53   2067      4      2      4     11      6   \n",
       "362198      362199   2013  53   2075      1      1      2     11      3   \n",
       "362208      362209   2013  53   2075      4      3      4     13      2   \n",
       "362228      362229   2013  53   2075     10      1      4     20      1   \n",
       "362248      362249   2013  53   2075     17      1      2      0     20   \n",
       "362271      362272   2013  53   2083      6      2      2     15      6   \n",
       "362328      362329   2013  53   2091      9      4      4     29      1   \n",
       "362346      362347   2013  53   2091     15      2      2      9      6   \n",
       "362375      362376   2013  53   2105      3      1      4      1      5   \n",
       "362395      362396   2013  53   2113      2      1      2     22      1   \n",
       "362399      362400   2013  53   2113      4      1      2      9      5   \n",
       "362455      362456   2013  53   2121      9      1      4     29      6   \n",
       "362462      362463   2013  53   2121     12      2      2      0     20   \n",
       "362481      362482   2013  53   2130      2      1      2     11      2   \n",
       "362482      362483   2013  53   2130      2      2      4     17      6   \n",
       "362503      362504   2013  53   2130     13      1      2      9      8   \n",
       "362504      362505   2013  53   2130     14      1      2      6      2   \n",
       "362506      362507   2013  53   2130     15      1      2      5      3   \n",
       "362507      362508   2013  53   2130     15      2      4     23      7   \n",
       "362508      362509   2013  53   2130     15      3      2     20     11   \n",
       "362509      362510   2013  53   2130     15      4      4     14     11   \n",
       "\n",
       "        V3033    ...     V4741         V4742  V4743  V4745  V4746  V4747  \\\n",
       "34       1949    ...       1.0  1.178000e+03    4.0      2    1.0    2.0   \n",
       "74       1935    ...       7.0  3.720000e+02    3.0      1    2.0    NaN   \n",
       "75       1937    ...       7.0  3.720000e+02    3.0      1    2.0    NaN   \n",
       "87       1945    ...       3.0  5.590000e+02    3.0      2    2.0    NaN   \n",
       "171      1967    ...       2.0  6.890000e+02    4.0      2    2.0    NaN   \n",
       "186      1939    ...       2.0  6.780000e+02    3.0      1    2.0    NaN   \n",
       "187      1954    ...       2.0  6.780000e+02    3.0      2    2.0    NaN   \n",
       "206        69    ...       2.0  3.390000e+02    2.0      1    2.0    NaN   \n",
       "262      1951    ...       3.0  1.000000e+12   99.0      2    2.0    NaN   \n",
       "312      1939    ...       1.0  1.210000e+03    4.0      1    2.0    NaN   \n",
       "324      1933    ...       2.0  6.780000e+02    3.0      1    2.0    NaN   \n",
       "325      1942    ...       2.0  6.780000e+02    3.0      1    2.0    NaN   \n",
       "335      1956    ...       5.0  3.350000e+02    2.0      2    1.0    1.0   \n",
       "352      1942    ...       1.0  7.400000e+02    4.0      2    1.0    1.0   \n",
       "375      1970    ...       6.0  3.390000e+02    2.0      2    2.0    NaN   \n",
       "412      1949    ...       5.0  2.780000e+02    2.0      1    2.0    NaN   \n",
       "472      1957    ...       2.0  2.850000e+03    6.0      5    1.0    1.0   \n",
       "474      1935    ...       1.0  1.356000e+03    4.0      1    2.0    NaN   \n",
       "475      1960    ...       2.0  1.000000e+03    4.0      7    2.0    NaN   \n",
       "477      1937    ...       1.0  1.356000e+03    4.0      2    2.0    NaN   \n",
       "492      1966    ...       2.0  7.780000e+02    4.0      1    1.0    1.0   \n",
       "493      1960    ...       2.0  7.780000e+02    4.0      1    2.0    NaN   \n",
       "503      1949    ...       3.0  6.360000e+02    3.0      1    2.0    NaN   \n",
       "506      1951    ...       2.0  3.390000e+02    2.0      1    1.0    1.0   \n",
       "509        50    ...       2.0  6.890000e+02    4.0      2    1.0    1.0   \n",
       "510      1942    ...       2.0  8.780000e+02    4.0      1    1.0    1.0   \n",
       "511        75    ...       2.0  8.780000e+02    4.0      2    1.0    1.0   \n",
       "516      1939    ...       3.0  4.520000e+02    3.0      1    1.0    1.0   \n",
       "517      1943    ...       3.0  4.520000e+02    3.0      1    2.0    NaN   \n",
       "524      1938    ...       4.0  9.190000e+02    4.0      1    2.0    NaN   \n",
       "...       ...    ...       ...           ...    ...    ...    ...    ...   \n",
       "361860   1961    ...       3.0  1.000000e+12   99.0      2    2.0    NaN   \n",
       "361881   1940    ...       2.0  2.829000e+03    6.0      3    1.0    2.0   \n",
       "361885   1950    ...       1.0  6.780000e+02    3.0      2    2.0    NaN   \n",
       "361911   1958    ...       3.0  4.590000e+02    3.0      2    2.0    NaN   \n",
       "361936   1963    ...       5.0  4.260000e+02    3.0      5    2.0    NaN   \n",
       "362092   1962    ...       5.0  1.967000e+03    5.0      5    2.0    NaN   \n",
       "362097   1953    ...       4.0  3.390000e+02    2.0      1    2.0    NaN   \n",
       "362104   1955    ...       2.0  7.640000e+02    4.0      2    2.0    NaN   \n",
       "362105   1953    ...       2.0  7.640000e+02    4.0      2    2.0    NaN   \n",
       "362172   1972    ...       3.0  1.066000e+03    4.0      7    2.0    NaN   \n",
       "362198   1945    ...       1.0  2.226000e+03    6.0      1    1.0    1.0   \n",
       "362208   1995    ...       7.0  2.160000e+02    2.0      2    2.0    NaN   \n",
       "362228   1974    ...       1.0  1.278000e+03    4.0      2    1.0    2.0   \n",
       "362248     56    ...       6.0  1.000000e+12   99.0      2    2.0    NaN   \n",
       "362271   1955    ...       2.0  1.000000e+12   99.0      2    1.0    2.0   \n",
       "362328   1951    ...       5.0  9.350000e+02    4.0      1    2.0    NaN   \n",
       "362346   1950    ...       2.0  1.290000e+03    4.0      2    2.0    NaN   \n",
       "362375   1953    ...       1.0  1.278000e+03    4.0      5    2.0    NaN   \n",
       "362395   1960    ...       2.0  2.700000e+03    6.0      5    2.0    NaN   \n",
       "362399   1961    ...       3.0  1.266000e+03    4.0      5    2.0    NaN   \n",
       "362455   1932    ...       3.0  1.168000e+03    4.0      1    2.0    NaN   \n",
       "362462     65    ...       6.0  1.000000e+12   99.0      1    2.0    NaN   \n",
       "362481   1938    ...       2.0  1.010000e+04    7.0      7    2.0    NaN   \n",
       "362482   1923    ...       2.0  1.010000e+04    7.0      7    2.0    NaN   \n",
       "362503   1938    ...       1.0  1.300000e+04    7.0      7    1.0    2.0   \n",
       "362504   1956    ...       2.0  7.000000e+03    7.0      7    2.0    NaN   \n",
       "362506   1955    ...       6.0  9.200000e+03    7.0      7    1.0    2.0   \n",
       "362507   1955    ...       6.0  9.200000e+03    7.0      7    1.0    2.0   \n",
       "362508   1915    ...       6.0  9.200000e+03    7.0      3    2.0    NaN   \n",
       "362509   1930    ...       6.0  9.200000e+03    7.0      2    2.0    NaN   \n",
       "\n",
       "        V4748  V4749         V4750     V9993  \n",
       "34        2.0    1.0  1.178000e+03  20150428  \n",
       "74        NaN    2.0  6.780000e+02  20150428  \n",
       "75        NaN    2.0  6.780000e+02  20150428  \n",
       "87        NaN    2.0  5.590000e+02  20150428  \n",
       "171       NaN    2.0  6.890000e+02  20150428  \n",
       "186       NaN    2.0  6.780000e+02  20150428  \n",
       "187       NaN    2.0  6.780000e+02  20150428  \n",
       "206       NaN    2.0  3.390000e+02  20150428  \n",
       "262       NaN    2.0  1.000000e+12  20150428  \n",
       "312       NaN    2.0  1.210000e+03  20150428  \n",
       "324       NaN    2.0  6.780000e+02  20150428  \n",
       "325       NaN    2.0  6.780000e+02  20150428  \n",
       "335       1.0    1.0  4.890000e+02  20150428  \n",
       "352       1.0    1.0  7.400000e+02  20150428  \n",
       "375       NaN    2.0  3.390000e+02  20150428  \n",
       "412       1.0    1.0  2.780000e+02  20150428  \n",
       "472       1.0    1.0  2.850000e+03  20150428  \n",
       "474       NaN    2.0  1.356000e+03  20150428  \n",
       "475       NaN    2.0  1.000000e+03  20150428  \n",
       "477       NaN    2.0  1.356000e+03  20150428  \n",
       "492       1.0    1.0  7.780000e+02  20150428  \n",
       "493       NaN    2.0  7.780000e+02  20150428  \n",
       "503       NaN    2.0  6.360000e+02  20150428  \n",
       "506       1.0    1.0  3.390000e+02  20150428  \n",
       "509       1.0    1.0  6.890000e+02  20150428  \n",
       "510       1.0    1.0  8.780000e+02  20150428  \n",
       "511       1.0    1.0  8.780000e+02  20150428  \n",
       "516       1.0    1.0  4.520000e+02  20150428  \n",
       "517       NaN    2.0  4.520000e+02  20150428  \n",
       "524       NaN    2.0  9.190000e+02  20150428  \n",
       "...       ...    ...           ...       ...  \n",
       "361860    NaN    2.0  1.000000e+12  20150428  \n",
       "361881    2.0    1.0  2.829000e+03  20150428  \n",
       "361885    NaN    2.0  6.780000e+02  20150428  \n",
       "361911    NaN    2.0  4.590000e+02  20150428  \n",
       "361936    NaN    2.0  4.260000e+02  20150428  \n",
       "362092    NaN    2.0  1.967000e+03  20150428  \n",
       "362097    NaN    2.0  3.390000e+02  20150428  \n",
       "362104    NaN    2.0  7.640000e+02  20150428  \n",
       "362105    2.0    1.0  7.640000e+02  20150428  \n",
       "362172    NaN    2.0  1.066000e+03  20150428  \n",
       "362198    1.0    1.0  2.226000e+03  20150428  \n",
       "362208    NaN    2.0  2.160000e+02  20150428  \n",
       "362228    2.0    1.0  1.278000e+03  20150428  \n",
       "362248    NaN    2.0  1.000000e+12  20150428  \n",
       "362271    2.0    1.0  1.000000e+12  20150428  \n",
       "362328    NaN    2.0  9.350000e+02  20150428  \n",
       "362346    2.0    1.0  1.290000e+03  20150428  \n",
       "362375    NaN    2.0  1.278000e+03  20150428  \n",
       "362395    NaN    2.0  2.700000e+03  20150428  \n",
       "362399    NaN    2.0  1.266000e+03  20150428  \n",
       "362455    NaN    2.0  1.168000e+03  20150428  \n",
       "362462    NaN    2.0  1.000000e+12  20150428  \n",
       "362481    NaN    2.0  1.010000e+04  20150428  \n",
       "362482    NaN    2.0  1.010000e+04  20150428  \n",
       "362503    2.0    1.0  1.300000e+04  20150428  \n",
       "362504    NaN    2.0  7.000000e+03  20150428  \n",
       "362506    2.0    1.0  2.610000e+04  20150428  \n",
       "362507    2.0    1.0  2.610000e+04  20150428  \n",
       "362508    NaN    2.0  1.000000e+03  20150428  \n",
       "362509    NaN    2.0  1.000000e+03  20150428  \n",
       "\n",
       "[37506 rows x 331 columns]>"
      ]
     },
     "execution_count": 6,
     "metadata": {},
     "output_type": "execute_result"
    }
   ],
   "source": [
    "apos = pnad[pnad.V9122==2] #o primeiro termo filtra o dataframe deixando apenas os aposentados na variavel, o segundo transforma todos os valores NaN em nulos, de maneira a se trabalhar melhor com os mesmos.\n",
    "apos.head"
   ]
  },
  {
   "cell_type": "code",
   "execution_count": 7,
   "metadata": {
    "collapsed": false
   },
   "outputs": [
    {
     "data": {
      "text/plain": [
       "(37506, 331)"
      ]
     },
     "execution_count": 7,
     "metadata": {},
     "output_type": "execute_result"
    }
   ],
   "source": [
    "apos.shape"
   ]
  },
  {
   "cell_type": "code",
   "execution_count": 108,
   "metadata": {
    "collapsed": false
   },
   "outputs": [],
   "source": [
    "V6007 = pnad.V6007 #Curso mais elevado que frequentou anteriormente\n",
    "V9892 = pnad.V9892 #Idade com que comecou a trabalhar\n",
    "#V9124 = pnad.V9124 #Recebia normalmente rendimento que não era proveniente de trabalho \n",
    "V1251 = pnad.V1251 #Recebia rendimento de aposentado federal\n",
    "#V1257 = pnad.V1257 #Recebia rendimento de outro fundo de aposentadoria\n",
    "#V1266 = pnad.V1266 #Recebia rendimento de aluguel\n",
    "V1267 = pnad.V1267 #Rendimento do aluguel\n",
    "V4803 = pnad.V4803 #Anos de estudo\n",
    "V4745 = pnad.V4745 #Nível de intrucao mais elevado\n",
    "#V7127 = pnad.V7127 #Valor do rendimento mensal \n",
    "V1252 = pnad.V1252 #Rendimento mensal da aposentadoria federal\n",
    "V1255 = pnad.V1255 #Rendimento de pensão da previdencia"
   ]
  },
  {
   "cell_type": "code",
   "execution_count": 9,
   "metadata": {
    "collapsed": false
   },
   "outputs": [],
   "source": [
    "#Curso mais elevado que frequentou anteriormente, se refere à pessoas que não frequentavam, mas anteriormente , frequentou escola ou creche.\n",
    "aposV6007 =apos[~apos.V6007.isnull()]"
   ]
  },
  {
   "cell_type": "code",
   "execution_count": 10,
   "metadata": {
    "collapsed": false
   },
   "outputs": [
    {
     "data": {
      "text/plain": [
       "30404"
      ]
     },
     "execution_count": 10,
     "metadata": {},
     "output_type": "execute_result"
    }
   ],
   "source": [
    "n6007 = aposV6007.shape[0] #numero de linhas da tabela\n",
    "n6007"
   ]
  },
  {
   "cell_type": "code",
   "execution_count": 11,
   "metadata": {
    "collapsed": false
   },
   "outputs": [
    {
     "data": {
      "text/plain": [
       "(30404, 331)"
      ]
     },
     "execution_count": 11,
     "metadata": {},
     "output_type": "execute_result"
    }
   ],
   "source": [
    "aposV6007.shape"
   ]
  },
  {
   "cell_type": "code",
   "execution_count": 12,
   "metadata": {
    "collapsed": false
   },
   "outputs": [],
   "source": [
    "tb1 = (aposV6007.V6007.value_counts()/n6007*100).round(decimals=1) #frequencia relativa dos dados da tabela, no caso da coluna"
   ]
  },
  {
   "cell_type": "markdown",
   "metadata": {},
   "source": [
    "**Legenda**\n",
    "//Curso mais elevado frequentado anteriormente pelos entrevistados.\n",
    "\n",
    "\n",
    "01\tElementar (primário).\n",
    "02\tMédio 1º ciclo (ginasial, etc.).\n",
    "03\tMédio 2º ciclo (científico, clássico, etc.).\n",
    "04\tRegular do ensino fundamental ou do 1º grau.\n",
    "05\tRegular do ensino médio ou do 2º grau.\n",
    "06\tEducação de jovens e adultos ou supletivo do ensino fundamental ouo 1º grau.\n",
    "07\tEducação de jovens e adultos ou supletivo de ensino médio ou do 2º grau.\n",
    "08\tSuperior de graduação.\n",
    "09\tMestrado ou doutorado.\n",
    "10\tAlfabetização de jovens e adultos.\n",
    "11\tCreche.\n",
    "12\tClasse de alfabetização - CA.\n",
    "13\tMaternal, jardim de infância etc.\n"
   ]
  },
  {
   "cell_type": "code",
   "execution_count": 13,
   "metadata": {
    "collapsed": false
   },
   "outputs": [],
   "source": [
    "#tb1.plot(kind='pie')"
   ]
  },
  {
   "cell_type": "code",
   "execution_count": 14,
   "metadata": {
    "collapsed": false,
    "scrolled": false
   },
   "outputs": [],
   "source": [
    "#tb1.plot(kind='bar')"
   ]
  },
  {
   "cell_type": "code",
   "execution_count": 15,
   "metadata": {
    "collapsed": false,
    "scrolled": true
   },
   "outputs": [
    {
     "data": {
      "text/plain": [
       "<matplotlib.axes._subplots.AxesSubplot at 0x2070bcf70b8>"
      ]
     },
     "execution_count": 15,
     "metadata": {},
     "output_type": "execute_result"
    },
    {
     "data": {
      "image/png": "[encoded data removed]",
      "text/plain": [
       "<matplotlib.figure.Figure at 0x2070bcf89e8>"
      ]
     },
     "metadata": {},
     "output_type": "display_data"
    }
   ],
   "source": [
    "aposV6007.V6007.hist()"
   ]
  },
  {
   "cell_type": "code",
   "execution_count": 16,
   "metadata": {
    "collapsed": false
   },
   "outputs": [
    {
     "data": {
      "text/plain": [
       "<matplotlib.axes._subplots.AxesSubplot at 0x2070bd6dbe0>"
      ]
     },
     "execution_count": 16,
     "metadata": {},
     "output_type": "execute_result"
    },
    {
     "data": {
      "image/png": "[encoded data removed]",
      "text/plain": [
       "<matplotlib.figure.Figure at 0x2070bcf8b70>"
      ]
     },
     "metadata": {},
     "output_type": "display_data"
    }
   ],
   "source": [
    "tb1.hist()"
   ]
  },
  {
   "cell_type": "code",
   "execution_count": 17,
   "metadata": {
    "collapsed": false
   },
   "outputs": [
    {
     "data": {
      "text/plain": [
       "{'boxes': [<matplotlib.lines.Line2D at 0x2070bafbeb8>],\n",
       " 'caps': [<matplotlib.lines.Line2D at 0x2070bbdf978>,\n",
       "  <matplotlib.lines.Line2D at 0x2070bbdfa90>],\n",
       " 'fliers': [<matplotlib.lines.Line2D at 0x2070bba8b00>],\n",
       " 'means': [],\n",
       " 'medians': [<matplotlib.lines.Line2D at 0x2070bba82e8>],\n",
       " 'whiskers': [<matplotlib.lines.Line2D at 0x2070bbb1908>,\n",
       "  <matplotlib.lines.Line2D at 0x2070bbb1a20>]}"
      ]
     },
     "execution_count": 17,
     "metadata": {},
     "output_type": "execute_result"
    },
    {
     "data": {
      "image/png": "[encoded data removed]",
      "text/plain": [
       "<matplotlib.figure.Figure at 0x2070c970f28>"
      ]
     },
     "metadata": {},
     "output_type": "display_data"
    }
   ],
   "source": [
    "plt.boxplot(list(aposV6007.V6007))"
   ]
  },
  {
   "cell_type": "code",
   "execution_count": 18,
   "metadata": {
    "collapsed": false
   },
   "outputs": [
    {
     "data": {
      "text/plain": [
       "10051"
      ]
     },
     "execution_count": 18,
     "metadata": {},
     "output_type": "execute_result"
    }
   ],
   "source": [
    "#Idade com que comecou a trabalhar\n",
    "aposV9892 =apos[~apos.V9892.isnull()]\n",
    "n9892 = aposV9892.shape[0]\n",
    "n9892"
   ]
  },
  {
   "cell_type": "code",
   "execution_count": 19,
   "metadata": {
    "collapsed": false,
    "scrolled": true
   },
   "outputs": [],
   "source": [
    "tb2 = (aposV9892.V9892.value_counts()/n9892*100).round(decimals=1) #frequencia relativa dos dados da tabela, no caso da coluna"
   ]
  },
  {
   "cell_type": "code",
   "execution_count": 20,
   "metadata": {
    "collapsed": true
   },
   "outputs": [],
   "source": [
    "faixas = (0, 5, 10, 15, 20, 25, 30)"
   ]
  },
  {
   "cell_type": "markdown",
   "metadata": {},
   "source": [
    "**Legenda**\n",
    "Valores representam a idade em que os entrevistados começara a trabalhar, na faixa de 4 a 30 anos."
   ]
  },
  {
   "cell_type": "code",
   "execution_count": 21,
   "metadata": {
    "collapsed": false
   },
   "outputs": [],
   "source": [
    "#tb2.plot(kind='pie')"
   ]
  },
  {
   "cell_type": "code",
   "execution_count": 22,
   "metadata": {
    "collapsed": false,
    "scrolled": false
   },
   "outputs": [],
   "source": [
    "#tb2.plot(kind='bar')"
   ]
  },
  {
   "cell_type": "code",
   "execution_count": 23,
   "metadata": {
    "collapsed": false,
    "scrolled": true
   },
   "outputs": [
    {
     "data": {
      "text/plain": [
       "<matplotlib.axes._subplots.AxesSubplot at 0x2070b974550>"
      ]
     },
     "execution_count": 23,
     "metadata": {},
     "output_type": "execute_result"
    },
    {
     "data": {
      "image/png": "[encoded data removed]",
      "text/plain": [
       "<matplotlib.figure.Figure at 0x2070bd38400>"
      ]
     },
     "metadata": {},
     "output_type": "display_data"
    }
   ],
   "source": [
    "aposV9892.V9892.hist(bins=faixas)"
   ]
  },
  {
   "cell_type": "code",
   "execution_count": 24,
   "metadata": {
    "collapsed": false
   },
   "outputs": [
    {
     "data": {
      "text/plain": [
       "<matplotlib.axes._subplots.AxesSubplot at 0x2070ba60550>"
      ]
     },
     "execution_count": 24,
     "metadata": {},
     "output_type": "execute_result"
    },
    {
     "data": {
      "image/png": "[encoded data removed]",
      "text/plain": [
       "<matplotlib.figure.Figure at 0x2070bdb78d0>"
      ]
     },
     "metadata": {},
     "output_type": "display_data"
    }
   ],
   "source": [
    "tb2.hist()"
   ]
  },
  {
   "cell_type": "code",
   "execution_count": 25,
   "metadata": {
    "collapsed": false,
    "scrolled": true
   },
   "outputs": [
    {
     "data": {
      "text/plain": [
       "{'boxes': [<matplotlib.lines.Line2D at 0x2070bb2f630>],\n",
       " 'caps': [<matplotlib.lines.Line2D at 0x2070bb529e8>,\n",
       "  <matplotlib.lines.Line2D at 0x2070bb5d940>],\n",
       " 'fliers': [<matplotlib.lines.Line2D at 0x2070bb2c9b0>],\n",
       " 'means': [],\n",
       " 'medians': [<matplotlib.lines.Line2D at 0x2070bb5da58>],\n",
       " 'whiskers': [<matplotlib.lines.Line2D at 0x2070bb2ff98>,\n",
       "  <matplotlib.lines.Line2D at 0x2070bb528d0>]}"
      ]
     },
     "execution_count": 25,
     "metadata": {},
     "output_type": "execute_result"
    },
    {
     "data": {
      "image/png": "[encoded data removed]",
      "text/plain": [
       "<matplotlib.figure.Figure at 0x2070be8cdd8>"
      ]
     },
     "metadata": {},
     "output_type": "display_data"
    }
   ],
   "source": [
    "plt.boxplot(list(aposV9892.V9892))"
   ]
  },
  {
   "cell_type": "code",
   "execution_count": 26,
   "metadata": {
    "collapsed": false
   },
   "outputs": [
    {
     "data": {
      "text/plain": [
       "12.498258879713461"
      ]
     },
     "execution_count": 26,
     "metadata": {},
     "output_type": "execute_result"
    }
   ],
   "source": [
    "aposV9892.V9892.mean()"
   ]
  },
  {
   "cell_type": "code",
   "execution_count": 27,
   "metadata": {
    "collapsed": false
   },
   "outputs": [
    {
     "data": {
      "text/plain": [
       "12.0"
      ]
     },
     "execution_count": 27,
     "metadata": {},
     "output_type": "execute_result"
    }
   ],
   "source": [
    "aposV9892.V9892.median()"
   ]
  },
  {
   "cell_type": "code",
   "execution_count": 28,
   "metadata": {
    "collapsed": false,
    "scrolled": true
   },
   "outputs": [
    {
     "data": {
      "text/plain": [
       "0    10.0\n",
       "dtype: float64"
      ]
     },
     "execution_count": 28,
     "metadata": {},
     "output_type": "execute_result"
    }
   ],
   "source": [
    "aposV9892.V9892.mode()"
   ]
  },
  {
   "cell_type": "code",
   "execution_count": 29,
   "metadata": {
    "collapsed": false
   },
   "outputs": [
    {
     "data": {
      "text/plain": [
       "23.433902440834633"
      ]
     },
     "execution_count": 29,
     "metadata": {},
     "output_type": "execute_result"
    }
   ],
   "source": [
    "aposV9892.V9892.var()"
   ]
  },
  {
   "cell_type": "code",
   "execution_count": 30,
   "metadata": {
    "collapsed": false
   },
   "outputs": [],
   "source": [
    "#Recebia normalmente rendimento que não era proveniente de trabalho \n",
    "#aposV9124 = apos[~apos.V9124.isnull()]\n",
    "#n9124 = aposV9124.shape[0]\n",
    "#n9124"
   ]
  },
  {
   "cell_type": "code",
   "execution_count": 31,
   "metadata": {
    "collapsed": false,
    "scrolled": true
   },
   "outputs": [],
   "source": [
    "#tb3 = (aposV9124.V9124.value_counts()/n9124*100).round(decimals=1) #frequencia relativa dos dados da tabela, no caso da coluna"
   ]
  },
  {
   "cell_type": "code",
   "execution_count": 32,
   "metadata": {
    "collapsed": false
   },
   "outputs": [
    {
     "data": {
      "text/plain": [
       "37506"
      ]
     },
     "execution_count": 32,
     "metadata": {},
     "output_type": "execute_result"
    }
   ],
   "source": [
    "#Recebia rendimento de aposentado federal\n",
    "aposV1251 = apos[~apos.V1251.isnull()]\n",
    "n1251 = aposV1251.shape[0]\n",
    "n1251"
   ]
  },
  {
   "cell_type": "code",
   "execution_count": 33,
   "metadata": {
    "collapsed": true
   },
   "outputs": [],
   "source": [
    "tb4 = (aposV1251.V1251.value_counts()/n1251*100).round(decimals=1) #frequencia relativa dos dados da tabela, no caso da coluna"
   ]
  },
  {
   "cell_type": "code",
   "execution_count": 34,
   "metadata": {
    "collapsed": false
   },
   "outputs": [],
   "source": [
    "#tb4.plot(kind='pie')"
   ]
  },
  {
   "cell_type": "code",
   "execution_count": 35,
   "metadata": {
    "collapsed": false
   },
   "outputs": [],
   "source": [
    "#tb4.plot(kind='bar')"
   ]
  },
  {
   "cell_type": "code",
   "execution_count": 36,
   "metadata": {
    "collapsed": false
   },
   "outputs": [],
   "source": [
    "#Recebia rendimento de outro fundo de aposentadoria\n",
    "#aposV1257 = apos[~apos.V1257.isnull()]\n",
    "#n1257 = aposV1257.shape[0]\n",
    "#n1257"
   ]
  },
  {
   "cell_type": "code",
   "execution_count": 37,
   "metadata": {
    "collapsed": true
   },
   "outputs": [],
   "source": [
    "#tb5 = (aposV1257.V1257.value_counts()/n1257*100).round(decimals=1) #frequencia relativa dos dados da tabela, no caso da coluna"
   ]
  },
  {
   "cell_type": "code",
   "execution_count": 38,
   "metadata": {
    "collapsed": false
   },
   "outputs": [],
   "source": [
    "#Recebia rendimento de aluguel\n",
    "#aposV1266 = apos[~apos.V1266.isnull()]\n",
    "#n1266 = aposV1266.shape[0]\n",
    "#n1266"
   ]
  },
  {
   "cell_type": "code",
   "execution_count": 39,
   "metadata": {
    "collapsed": true
   },
   "outputs": [],
   "source": [
    "#tb6 = (aposV1266.V1266.value_counts()/n1266*100).round(decimals=1) #frequencia relativa dos dados da tabela, no caso da coluna"
   ]
  },
  {
   "cell_type": "code",
   "execution_count": 40,
   "metadata": {
    "collapsed": false
   },
   "outputs": [
    {
     "data": {
      "text/plain": [
       "37506"
      ]
     },
     "execution_count": 40,
     "metadata": {},
     "output_type": "execute_result"
    }
   ],
   "source": [
    "#Anos de estudo\n",
    "aposV4803 = apos[~apos.V4803.isnull()]\n",
    "n4803 = aposV4803.shape[0]\n",
    "n4803"
   ]
  },
  {
   "cell_type": "code",
   "execution_count": 41,
   "metadata": {
    "collapsed": true
   },
   "outputs": [],
   "source": [
    "tb7 = (aposV4803.V4803.value_counts()/n4803*100).round(decimals=1) #frequencia relativa dos dados da tabela, no caso da coluna"
   ]
  },
  {
   "cell_type": "markdown",
   "metadata": {},
   "source": [
    "**Legenda**\n",
    "Anos de estudo dos entrevistados.\n",
    "\n",
    "01\tSem instrução e menos de 1 ano\n",
    "02\t1 ano\n",
    "03\t2 anos\n",
    "04\t3 anos\n",
    "05\t4 anos\n",
    "06\t5 anos\n",
    "07\t6 anos\n",
    "08\t7 anos\n",
    "09\t8 anos\n",
    "10\t9 anos\n",
    "11\t10 anos\n",
    "12\t11 anos\n",
    "13\t12 anos\n",
    "14\t13 anos\n",
    "15\t14 anos\n",
    "16\t15 anos ou mais\n",
    "17\tNão determinados \n"
   ]
  },
  {
   "cell_type": "code",
   "execution_count": 42,
   "metadata": {
    "collapsed": false
   },
   "outputs": [],
   "source": [
    "#tb7.plot(kind='pie')"
   ]
  },
  {
   "cell_type": "code",
   "execution_count": 43,
   "metadata": {
    "collapsed": false,
    "scrolled": false
   },
   "outputs": [],
   "source": [
    "#tb7.plot(kind='bar')"
   ]
  },
  {
   "cell_type": "code",
   "execution_count": 44,
   "metadata": {
    "collapsed": false,
    "scrolled": true
   },
   "outputs": [
    {
     "data": {
      "text/plain": [
       "<matplotlib.axes._subplots.AxesSubplot at 0x2070c93c9e8>"
      ]
     },
     "execution_count": 44,
     "metadata": {},
     "output_type": "execute_result"
    },
    {
     "data": {
      "image/png": "[encoded data removed]",
      "text/plain": [
       "<matplotlib.figure.Figure at 0x2070ba4d898>"
      ]
     },
     "metadata": {},
     "output_type": "display_data"
    }
   ],
   "source": [
    "aposV4803.V4803.hist()"
   ]
  },
  {
   "cell_type": "code",
   "execution_count": 45,
   "metadata": {
    "collapsed": false
   },
   "outputs": [
    {
     "data": {
      "text/plain": [
       "<matplotlib.axes._subplots.AxesSubplot at 0x2070be428d0>"
      ]
     },
     "execution_count": 45,
     "metadata": {},
     "output_type": "execute_result"
    },
    {
     "data": {
      "image/png": "[encoded data removed]",
      "text/plain": [
       "<matplotlib.figure.Figure at 0x2070c872ac8>"
      ]
     },
     "metadata": {},
     "output_type": "display_data"
    }
   ],
   "source": [
    "tb7.hist()"
   ]
  },
  {
   "cell_type": "code",
   "execution_count": 46,
   "metadata": {
    "collapsed": false
   },
   "outputs": [
    {
     "data": {
      "text/plain": [
       "{'boxes': [<matplotlib.lines.Line2D at 0x20704df60b8>],\n",
       " 'caps': [<matplotlib.lines.Line2D at 0x20704dfab38>,\n",
       "  <matplotlib.lines.Line2D at 0x20704dfac50>],\n",
       " 'fliers': [<matplotlib.lines.Line2D at 0x20704e00cc0>],\n",
       " 'means': [],\n",
       " 'medians': [<matplotlib.lines.Line2D at 0x20704e004a8>],\n",
       " 'whiskers': [<matplotlib.lines.Line2D at 0x20704df6ac8>,\n",
       "  <matplotlib.lines.Line2D at 0x20704df6be0>]}"
      ]
     },
     "execution_count": 46,
     "metadata": {},
     "output_type": "execute_result"
    },
    {
     "data": {
      "image/png": "[encoded data removed]",
      "text/plain": [
       "<matplotlib.figure.Figure at 0x2070ba23518>"
      ]
     },
     "metadata": {},
     "output_type": "display_data"
    }
   ],
   "source": [
    "plt.boxplot(list(aposV4803.V4803))"
   ]
  },
  {
   "cell_type": "code",
   "execution_count": 47,
   "metadata": {
    "collapsed": false
   },
   "outputs": [
    {
     "data": {
      "text/plain": [
       "0    1\n",
       "dtype: int64"
      ]
     },
     "execution_count": 47,
     "metadata": {},
     "output_type": "execute_result"
    }
   ],
   "source": [
    "aposV4803.V4803.mode() #Esse valor faz sentido porque os dados estão agrupados por faixas."
   ]
  },
  {
   "cell_type": "code",
   "execution_count": 48,
   "metadata": {
    "collapsed": false
   },
   "outputs": [
    {
     "data": {
      "text/plain": [
       "37506"
      ]
     },
     "execution_count": 48,
     "metadata": {},
     "output_type": "execute_result"
    }
   ],
   "source": [
    "#Nível de intrucao mais elevado\n",
    "aposV4745 = apos[~apos.V4745.isnull()]\n",
    "n4745 = aposV4745.shape[0]\n",
    "n4745"
   ]
  },
  {
   "cell_type": "code",
   "execution_count": 49,
   "metadata": {
    "collapsed": true
   },
   "outputs": [],
   "source": [
    "tb8 = (aposV4745.V4745.value_counts()/n4745*100).round(decimals=1) #frequencia relativa dos dados da tabela, no caso da coluna"
   ]
  },
  {
   "cell_type": "markdown",
   "metadata": {},
   "source": [
    "**Legenda**\n",
    "Nível de instrução mais elevado alcançado pelos entrevistados.\n",
    "\n",
    "1\tSem instrução\n",
    "2\tFundamental incompleto ou equivalente\n",
    "3\tFundamental completo ou equivalente\n",
    "4\tMédio incompleto ou equivalente\n",
    "5\tMédio completo ou equivalente\n",
    "6\tSuperior incompleto ou equivalente\n",
    "7\tSuperior completo \n",
    "8\tNão determinado\n"
   ]
  },
  {
   "cell_type": "code",
   "execution_count": 50,
   "metadata": {
    "collapsed": false
   },
   "outputs": [],
   "source": [
    "#tb8.plot(kind='pie')"
   ]
  },
  {
   "cell_type": "code",
   "execution_count": 51,
   "metadata": {
    "collapsed": false
   },
   "outputs": [],
   "source": [
    "#tb8.plot(kind='bar')"
   ]
  },
  {
   "cell_type": "code",
   "execution_count": 52,
   "metadata": {
    "collapsed": false,
    "scrolled": true
   },
   "outputs": [
    {
     "data": {
      "text/plain": [
       "<matplotlib.axes._subplots.AxesSubplot at 0x2070bc01898>"
      ]
     },
     "execution_count": 52,
     "metadata": {},
     "output_type": "execute_result"
    },
    {
     "data": {
      "image/png": "[encoded data removed]",
      "text/plain": [
       "<matplotlib.figure.Figure at 0x20704dbe7f0>"
      ]
     },
     "metadata": {},
     "output_type": "display_data"
    }
   ],
   "source": [
    "aposV4745.V4745.hist()"
   ]
  },
  {
   "cell_type": "code",
   "execution_count": 53,
   "metadata": {
    "collapsed": false
   },
   "outputs": [
    {
     "data": {
      "text/plain": [
       "<matplotlib.axes._subplots.AxesSubplot at 0x2070bbecf60>"
      ]
     },
     "execution_count": 53,
     "metadata": {},
     "output_type": "execute_result"
    },
    {
     "data": {
      "image/png": "[encoded data removed]",
      "text/plain": [
       "<matplotlib.figure.Figure at 0x2070ba0a2b0>"
      ]
     },
     "metadata": {},
     "output_type": "display_data"
    }
   ],
   "source": [
    "tb7.hist()"
   ]
  },
  {
   "cell_type": "code",
   "execution_count": 54,
   "metadata": {
    "collapsed": false
   },
   "outputs": [],
   "source": [
    "#plt.boxplot(list(aposV4745.V4745))"
   ]
  },
  {
   "cell_type": "code",
   "execution_count": 55,
   "metadata": {
    "collapsed": false
   },
   "outputs": [],
   "source": [
    "#aposV7127 = apos[~apos.V7127.isnull()]\n",
    "#n7127 = aposV7127.shape[0]\n",
    "#n7127"
   ]
  },
  {
   "cell_type": "code",
   "execution_count": 56,
   "metadata": {
    "collapsed": false
   },
   "outputs": [
    {
     "data": {
      "text/plain": [
       "36805"
      ]
     },
     "execution_count": 56,
     "metadata": {},
     "output_type": "execute_result"
    }
   ],
   "source": [
    "#Rendimento da aposentadoria da previdencia federal\n",
    "aposV1252 = apos[(~apos.V1252.isnull()) & (apos.V1252!='999999999999')]\n",
    "n1252 = aposV1252.shape[0]\n",
    "n1252"
   ]
  },
  {
   "cell_type": "code",
   "execution_count": 57,
   "metadata": {
    "collapsed": false
   },
   "outputs": [
    {
     "name": "stderr",
     "output_type": "stream",
     "text": [
      "C:\\Users\\Avell\\Anaconda3\\lib\\site-packages\\ipykernel\\__main__.py:1: SettingWithCopyWarning: \n",
      "A value is trying to be set on a copy of a slice from a DataFrame.\n",
      "Try using .loc[row_indexer,col_indexer] = value instead\n",
      "\n",
      "See the caveats in the documentation: http://pandas.pydata.org/pandas-docs/stable/indexing.html#indexing-view-versus-copy\n",
      "  if __name__ == '__main__':\n"
     ]
    }
   ],
   "source": [
    "aposV1252['V1252'] = aposV1252.V1252.astype(float)"
   ]
  },
  {
   "cell_type": "code",
   "execution_count": 58,
   "metadata": {
    "collapsed": true
   },
   "outputs": [],
   "source": [
    "tb13 = (aposV1252.V1252.value_counts()/n1252*100).round(decimals=1) #frequencia relativa dos dados da tabela, no caso da coluna"
   ]
  },
  {
   "cell_type": "code",
   "execution_count": 59,
   "metadata": {
    "collapsed": false
   },
   "outputs": [
    {
     "data": {
      "text/plain": [
       "678.0"
      ]
     },
     "execution_count": 59,
     "metadata": {},
     "output_type": "execute_result"
    }
   ],
   "source": [
    "aposV1252.V1252.median()"
   ]
  },
  {
   "cell_type": "code",
   "execution_count": 60,
   "metadata": {
    "collapsed": false
   },
   "outputs": [
    {
     "data": {
      "text/plain": [
       "1285.3431055563103"
      ]
     },
     "execution_count": 60,
     "metadata": {},
     "output_type": "execute_result"
    }
   ],
   "source": [
    "aposV1252.V1252.mean()"
   ]
  },
  {
   "cell_type": "code",
   "execution_count": 61,
   "metadata": {
    "collapsed": false
   },
   "outputs": [
    {
     "data": {
      "text/plain": [
       "0    678.0\n",
       "dtype: float64"
      ]
     },
     "execution_count": 61,
     "metadata": {},
     "output_type": "execute_result"
    }
   ],
   "source": [
    "aposV1252.V1252.mode()"
   ]
  },
  {
   "cell_type": "markdown",
   "metadata": {},
   "source": [
    "**Legenda**\n",
    "Os valores representados mostram quais valores os aposentados recebem da previdecia federal."
   ]
  },
  {
   "cell_type": "code",
   "execution_count": 62,
   "metadata": {
    "collapsed": false,
    "scrolled": true
   },
   "outputs": [],
   "source": [
    "#tb13.plot(kind='pie')"
   ]
  },
  {
   "cell_type": "code",
   "execution_count": 63,
   "metadata": {
    "collapsed": true
   },
   "outputs": [],
   "source": [
    "divisoes = (0, 1000, 2000, 3000, 4000, 5000, 6000)"
   ]
  },
  {
   "cell_type": "code",
   "execution_count": 64,
   "metadata": {
    "collapsed": false
   },
   "outputs": [
    {
     "data": {
      "text/plain": [
       "<matplotlib.axes._subplots.AxesSubplot at 0x2070beb86a0>"
      ]
     },
     "execution_count": 64,
     "metadata": {},
     "output_type": "execute_result"
    },
    {
     "data": {
      "image/png": "[encoded data removed]",
      "text/plain": [
       "<matplotlib.figure.Figure at 0x2070c939eb8>"
      ]
     },
     "metadata": {},
     "output_type": "display_data"
    }
   ],
   "source": [
    "aposV1252.V1252.hist(bins=divisoes)"
   ]
  },
  {
   "cell_type": "code",
   "execution_count": 65,
   "metadata": {
    "collapsed": false,
    "scrolled": true
   },
   "outputs": [
    {
     "data": {
      "text/plain": [
       "{'boxes': [<matplotlib.lines.Line2D at 0x2070d44e208>],\n",
       " 'caps': [<matplotlib.lines.Line2D at 0x2070d454c88>,\n",
       "  <matplotlib.lines.Line2D at 0x2070d454da0>],\n",
       " 'fliers': [<matplotlib.lines.Line2D at 0x2070d459e10>],\n",
       " 'means': [],\n",
       " 'medians': [<matplotlib.lines.Line2D at 0x2070d4595f8>],\n",
       " 'whiskers': [<matplotlib.lines.Line2D at 0x2070d44ec18>,\n",
       "  <matplotlib.lines.Line2D at 0x2070d44ed30>]}"
      ]
     },
     "execution_count": 65,
     "metadata": {},
     "output_type": "execute_result"
    },
    {
     "data": {
      "image/png": "[encoded data removed]",
      "text/plain": [
       "<matplotlib.figure.Figure at 0x2070beae208>"
      ]
     },
     "metadata": {},
     "output_type": "display_data"
    }
   ],
   "source": [
    "plt.boxplot(list(aposV1252.V1252))"
   ]
  },
  {
   "cell_type": "code",
   "execution_count": 66,
   "metadata": {
    "collapsed": false
   },
   "outputs": [
    {
     "data": {
      "text/plain": [
       "3489"
      ]
     },
     "execution_count": 66,
     "metadata": {},
     "output_type": "execute_result"
    }
   ],
   "source": [
    "#Rendimento de pensão da previdencia\n",
    "aposV1255 = apos[(~apos.V1255.isnull()) & (apos.V1255!='999999999999') & (apos.V1255!='           .')]\n",
    "n1255 = aposV1255.shape[0]\n",
    "n1255"
   ]
  },
  {
   "cell_type": "code",
   "execution_count": 67,
   "metadata": {
    "collapsed": false
   },
   "outputs": [
    {
     "name": "stderr",
     "output_type": "stream",
     "text": [
      "C:\\Users\\Avell\\Anaconda3\\lib\\site-packages\\ipykernel\\__main__.py:1: SettingWithCopyWarning: \n",
      "A value is trying to be set on a copy of a slice from a DataFrame.\n",
      "Try using .loc[row_indexer,col_indexer] = value instead\n",
      "\n",
      "See the caveats in the documentation: http://pandas.pydata.org/pandas-docs/stable/indexing.html#indexing-view-versus-copy\n",
      "  if __name__ == '__main__':\n"
     ]
    }
   ],
   "source": [
    "aposV1255['V1255'] = aposV1255.V1255.astype(float)"
   ]
  },
  {
   "cell_type": "code",
   "execution_count": 68,
   "metadata": {
    "collapsed": false
   },
   "outputs": [],
   "source": [
    "teste = pd.to_numeric(aposV1255.V1255)"
   ]
  },
  {
   "cell_type": "code",
   "execution_count": 69,
   "metadata": {
    "collapsed": false,
    "scrolled": true
   },
   "outputs": [
    {
     "data": {
      "text/plain": [
       "474        678.0\n",
       "477        678.0\n",
       "503        900.0\n",
       "542        678.0\n",
       "664        678.0\n",
       "862        678.0\n",
       "1094       678.0\n",
       "1121       678.0\n",
       "1154       678.0\n",
       "1164       678.0\n",
       "1247       678.0\n",
       "1323       678.0\n",
       "1708       678.0\n",
       "1783       320.0\n",
       "1810       678.0\n",
       "2251       678.0\n",
       "2332       678.0\n",
       "2599      1000.0\n",
       "2723       678.0\n",
       "2734       678.0\n",
       "2737       678.0\n",
       "3234      1200.0\n",
       "3478      1300.0\n",
       "3670      1500.0\n",
       "4744       678.0\n",
       "4841       678.0\n",
       "4976       678.0\n",
       "5069       678.0\n",
       "5198       678.0\n",
       "5614       678.0\n",
       "           ...  \n",
       "353733    2000.0\n",
       "353897    2000.0\n",
       "353956     670.0\n",
       "354161     678.0\n",
       "354265     678.0\n",
       "354272     400.0\n",
       "354280    8000.0\n",
       "354515    1200.0\n",
       "355329     678.0\n",
       "355577     678.0\n",
       "356126     678.0\n",
       "356147     678.0\n",
       "356161     678.0\n",
       "356167     678.0\n",
       "356780     850.0\n",
       "357059     550.0\n",
       "357811    1200.0\n",
       "358213     679.0\n",
       "359595    1600.0\n",
       "359611     622.0\n",
       "359637     700.0\n",
       "359669     678.0\n",
       "359716     678.0\n",
       "359749    1900.0\n",
       "360121    3500.0\n",
       "360440     678.0\n",
       "360971     678.0\n",
       "361124    1200.0\n",
       "361585    7000.0\n",
       "361695    7500.0\n",
       "Name: V1255, dtype: float64"
      ]
     },
     "execution_count": 69,
     "metadata": {},
     "output_type": "execute_result"
    }
   ],
   "source": [
    "aposV1255.V1255"
   ]
  },
  {
   "cell_type": "code",
   "execution_count": 70,
   "metadata": {
    "collapsed": false,
    "scrolled": true
   },
   "outputs": [
    {
     "data": {
      "text/plain": [
       "<matplotlib.axes._subplots.AxesSubplot at 0x2070d40e358>"
      ]
     },
     "execution_count": 70,
     "metadata": {},
     "output_type": "execute_result"
    },
    {
     "data": {
      "image/png": "[encoded data removed]",
      "text/plain": [
       "<matplotlib.figure.Figure at 0x2070d4099e8>"
      ]
     },
     "metadata": {},
     "output_type": "display_data"
    }
   ],
   "source": [
    "teste.plot(kind='hist')"
   ]
  },
  {
   "cell_type": "code",
   "execution_count": 71,
   "metadata": {
    "collapsed": true
   },
   "outputs": [],
   "source": [
    "tb14 = (aposV1255.V1255.value_counts()/n1255*100).round(decimals=1) #frequencia relativa dos dados da tabela, no caso da coluna"
   ]
  },
  {
   "cell_type": "code",
   "execution_count": 72,
   "metadata": {
    "collapsed": false,
    "scrolled": true
   },
   "outputs": [
    {
     "data": {
      "text/plain": [
       "678.0"
      ]
     },
     "execution_count": 72,
     "metadata": {},
     "output_type": "execute_result"
    }
   ],
   "source": [
    "aposV1255.V1255.median()"
   ]
  },
  {
   "cell_type": "code",
   "execution_count": 73,
   "metadata": {
    "collapsed": false
   },
   "outputs": [
    {
     "data": {
      "text/plain": [
       "0    678.0\n",
       "dtype: float64"
      ]
     },
     "execution_count": 73,
     "metadata": {},
     "output_type": "execute_result"
    }
   ],
   "source": [
    "aposV1255.V1255.mode()"
   ]
  },
  {
   "cell_type": "code",
   "execution_count": 74,
   "metadata": {
    "collapsed": false
   },
   "outputs": [
    {
     "data": {
      "text/plain": [
       "1032.0836916021783"
      ]
     },
     "execution_count": 74,
     "metadata": {},
     "output_type": "execute_result"
    }
   ],
   "source": [
    "aposV1255.V1255.mean()"
   ]
  },
  {
   "cell_type": "code",
   "execution_count": 75,
   "metadata": {
    "collapsed": false
   },
   "outputs": [],
   "source": [
    "divisoes1 = (0, 500, 1000, 1500, 2000, 2500, 3000, 3500, 4000, 4500, 5000, 6000)"
   ]
  },
  {
   "cell_type": "code",
   "execution_count": 76,
   "metadata": {
    "collapsed": false
   },
   "outputs": [
    {
     "data": {
      "text/plain": [
       "<matplotlib.axes._subplots.AxesSubplot at 0x2070d475dd8>"
      ]
     },
     "execution_count": 76,
     "metadata": {},
     "output_type": "execute_result"
    },
    {
     "data": {
      "image/png": "[encoded data removed]",
      "text/plain": [
       "<matplotlib.figure.Figure at 0x2070c7bdda0>"
      ]
     },
     "metadata": {},
     "output_type": "display_data"
    }
   ],
   "source": [
    "aposV1255.V1255.hist(bins=divisoes1)"
   ]
  },
  {
   "cell_type": "code",
   "execution_count": 77,
   "metadata": {
    "collapsed": false,
    "scrolled": false
   },
   "outputs": [],
   "source": [
    "#tb14.plot(kind='hist')"
   ]
  },
  {
   "cell_type": "code",
   "execution_count": 78,
   "metadata": {
    "collapsed": false
   },
   "outputs": [
    {
     "data": {
      "text/plain": [
       "<matplotlib.axes._subplots.AxesSubplot at 0x2070d3fb128>"
      ]
     },
     "execution_count": 78,
     "metadata": {},
     "output_type": "execute_result"
    },
    {
     "data": {
      "image/png": "[encoded data removed]",
      "text/plain": [
       "<matplotlib.figure.Figure at 0x2070c825908>"
      ]
     },
     "metadata": {},
     "output_type": "display_data"
    }
   ],
   "source": [
    "aposV1255.V1255.hist()"
   ]
  },
  {
   "cell_type": "code",
   "execution_count": 79,
   "metadata": {
    "collapsed": false
   },
   "outputs": [
    {
     "data": {
      "text/plain": [
       "{'boxes': [<matplotlib.lines.Line2D at 0x2070d5a54e0>],\n",
       " 'caps': [<matplotlib.lines.Line2D at 0x2070d5b0f60>,\n",
       "  <matplotlib.lines.Line2D at 0x2070d5b57b8>],\n",
       " 'fliers': [<matplotlib.lines.Line2D at 0x2070d5ba828>],\n",
       " 'means': [],\n",
       " 'medians': [<matplotlib.lines.Line2D at 0x2070d5b58d0>],\n",
       " 'whiskers': [<matplotlib.lines.Line2D at 0x2070d5a5ef0>,\n",
       "  <matplotlib.lines.Line2D at 0x2070d5b0748>]}"
      ]
     },
     "execution_count": 79,
     "metadata": {},
     "output_type": "execute_result"
    },
    {
     "data": {
      "image/png": "[encoded data removed]",
      "text/plain": [
       "<matplotlib.figure.Figure at 0x2070d5446a0>"
      ]
     },
     "metadata": {},
     "output_type": "display_data"
    }
   ],
   "source": [
    "plt.boxplot(list(teste))"
   ]
  },
  {
   "cell_type": "code",
   "execution_count": 80,
   "metadata": {
    "collapsed": false
   },
   "outputs": [],
   "source": [
    "#apos9892v1252 = apos[(~apos.V9892.isnull()) & (~apos.V1252.isnull())]\n",
    "#pp = pd.DataFrame()\n",
    "#pp['V9892'] = aposV9892.V9892\n",
    "#pp['V1252'] = aposV1252.V1252\n",
    "#pp.plot(kind=\"scatter\", x='V9892', y='V1252') #grafico de dispersão"
   ]
  },
  {
   "cell_type": "code",
   "execution_count": 81,
   "metadata": {
    "collapsed": false
   },
   "outputs": [
    {
     "data": {
      "text/plain": [
       "count    1012.000000\n",
       "mean        0.093281\n",
       "std         1.918981\n",
       "min         0.000000\n",
       "25%         0.000000\n",
       "50%         0.000000\n",
       "75%         0.000000\n",
       "max        60.800000\n",
       "Name: V1252, dtype: float64"
      ]
     },
     "execution_count": 81,
     "metadata": {},
     "output_type": "execute_result"
    }
   ],
   "source": [
    "cr = pd.crosstab(tb2, tb13)\n",
    "tb13.describe()"
   ]
  },
  {
   "cell_type": "code",
   "execution_count": 82,
   "metadata": {
    "collapsed": false,
    "scrolled": true
   },
   "outputs": [
    {
     "name": "stderr",
     "output_type": "stream",
     "text": [
      "C:\\Users\\Avell\\Anaconda3\\lib\\site-packages\\ipykernel\\__main__.py:3: SettingWithCopyWarning: \n",
      "A value is trying to be set on a copy of a slice from a DataFrame.\n",
      "Try using .loc[row_indexer,col_indexer] = value instead\n",
      "\n",
      "See the caveats in the documentation: http://pandas.pydata.org/pandas-docs/stable/indexing.html#indexing-view-versus-copy\n",
      "  app.launch_new_instance()\n"
     ]
    },
    {
     "data": {
      "text/html": [
       "<div>\n",
       "<table border=\"1\" class=\"dataframe\">\n",
       "  <thead>\n",
       "    <tr style=\"text-align: right;\">\n",
       "      <th></th>\n",
       "      <th>V9892</th>\n",
       "    </tr>\n",
       "    <tr>\n",
       "      <th>V1252</th>\n",
       "      <th></th>\n",
       "    </tr>\n",
       "  </thead>\n",
       "  <tbody>\n",
       "    <tr>\n",
       "      <th>600.0</th>\n",
       "      <td>11.200000</td>\n",
       "    </tr>\n",
       "    <tr>\n",
       "      <th>620.0</th>\n",
       "      <td>6.000000</td>\n",
       "    </tr>\n",
       "    <tr>\n",
       "      <th>622.0</th>\n",
       "      <td>17.000000</td>\n",
       "    </tr>\n",
       "    <tr>\n",
       "      <th>630.0</th>\n",
       "      <td>10.500000</td>\n",
       "    </tr>\n",
       "    <tr>\n",
       "      <th>650.0</th>\n",
       "      <td>11.000000</td>\n",
       "    </tr>\n",
       "    <tr>\n",
       "      <th>660.0</th>\n",
       "      <td>12.000000</td>\n",
       "    </tr>\n",
       "    <tr>\n",
       "      <th>665.0</th>\n",
       "      <td>6.000000</td>\n",
       "    </tr>\n",
       "    <tr>\n",
       "      <th>668.0</th>\n",
       "      <td>11.333333</td>\n",
       "    </tr>\n",
       "    <tr>\n",
       "      <th>670.0</th>\n",
       "      <td>13.000000</td>\n",
       "    </tr>\n",
       "    <tr>\n",
       "      <th>672.0</th>\n",
       "      <td>12.666667</td>\n",
       "    </tr>\n",
       "    <tr>\n",
       "      <th>675.0</th>\n",
       "      <td>13.000000</td>\n",
       "    </tr>\n",
       "    <tr>\n",
       "      <th>678.0</th>\n",
       "      <td>11.293219</td>\n",
       "    </tr>\n",
       "    <tr>\n",
       "      <th>679.0</th>\n",
       "      <td>12.042857</td>\n",
       "    </tr>\n",
       "    <tr>\n",
       "      <th>680.0</th>\n",
       "      <td>12.447761</td>\n",
       "    </tr>\n",
       "    <tr>\n",
       "      <th>681.0</th>\n",
       "      <td>9.000000</td>\n",
       "    </tr>\n",
       "    <tr>\n",
       "      <th>682.0</th>\n",
       "      <td>19.500000</td>\n",
       "    </tr>\n",
       "    <tr>\n",
       "      <th>683.0</th>\n",
       "      <td>11.000000</td>\n",
       "    </tr>\n",
       "    <tr>\n",
       "      <th>685.0</th>\n",
       "      <td>8.500000</td>\n",
       "    </tr>\n",
       "    <tr>\n",
       "      <th>687.0</th>\n",
       "      <td>15.500000</td>\n",
       "    </tr>\n",
       "    <tr>\n",
       "      <th>689.0</th>\n",
       "      <td>21.000000</td>\n",
       "    </tr>\n",
       "    <tr>\n",
       "      <th>690.0</th>\n",
       "      <td>13.500000</td>\n",
       "    </tr>\n",
       "    <tr>\n",
       "      <th>692.0</th>\n",
       "      <td>11.500000</td>\n",
       "    </tr>\n",
       "    <tr>\n",
       "      <th>695.0</th>\n",
       "      <td>7.000000</td>\n",
       "    </tr>\n",
       "    <tr>\n",
       "      <th>700.0</th>\n",
       "      <td>13.740260</td>\n",
       "    </tr>\n",
       "    <tr>\n",
       "      <th>710.0</th>\n",
       "      <td>13.000000</td>\n",
       "    </tr>\n",
       "    <tr>\n",
       "      <th>711.0</th>\n",
       "      <td>18.000000</td>\n",
       "    </tr>\n",
       "    <tr>\n",
       "      <th>714.0</th>\n",
       "      <td>15.000000</td>\n",
       "    </tr>\n",
       "    <tr>\n",
       "      <th>715.0</th>\n",
       "      <td>7.000000</td>\n",
       "    </tr>\n",
       "    <tr>\n",
       "      <th>720.0</th>\n",
       "      <td>12.769231</td>\n",
       "    </tr>\n",
       "    <tr>\n",
       "      <th>721.0</th>\n",
       "      <td>14.000000</td>\n",
       "    </tr>\n",
       "    <tr>\n",
       "      <th>...</th>\n",
       "      <td>...</td>\n",
       "    </tr>\n",
       "    <tr>\n",
       "      <th>8500.0</th>\n",
       "      <td>20.000000</td>\n",
       "    </tr>\n",
       "    <tr>\n",
       "      <th>8600.0</th>\n",
       "      <td>16.500000</td>\n",
       "    </tr>\n",
       "    <tr>\n",
       "      <th>8700.0</th>\n",
       "      <td>16.000000</td>\n",
       "    </tr>\n",
       "    <tr>\n",
       "      <th>8800.0</th>\n",
       "      <td>13.000000</td>\n",
       "    </tr>\n",
       "    <tr>\n",
       "      <th>9000.0</th>\n",
       "      <td>16.000000</td>\n",
       "    </tr>\n",
       "    <tr>\n",
       "      <th>9200.0</th>\n",
       "      <td>9.000000</td>\n",
       "    </tr>\n",
       "    <tr>\n",
       "      <th>9500.0</th>\n",
       "      <td>20.000000</td>\n",
       "    </tr>\n",
       "    <tr>\n",
       "      <th>10000.0</th>\n",
       "      <td>17.533333</td>\n",
       "    </tr>\n",
       "    <tr>\n",
       "      <th>11000.0</th>\n",
       "      <td>15.000000</td>\n",
       "    </tr>\n",
       "    <tr>\n",
       "      <th>12000.0</th>\n",
       "      <td>18.777778</td>\n",
       "    </tr>\n",
       "    <tr>\n",
       "      <th>12200.0</th>\n",
       "      <td>10.000000</td>\n",
       "    </tr>\n",
       "    <tr>\n",
       "      <th>13028.0</th>\n",
       "      <td>21.000000</td>\n",
       "    </tr>\n",
       "    <tr>\n",
       "      <th>13200.0</th>\n",
       "      <td>21.000000</td>\n",
       "    </tr>\n",
       "    <tr>\n",
       "      <th>13500.0</th>\n",
       "      <td>21.500000</td>\n",
       "    </tr>\n",
       "    <tr>\n",
       "      <th>13581.0</th>\n",
       "      <td>25.000000</td>\n",
       "    </tr>\n",
       "    <tr>\n",
       "      <th>14000.0</th>\n",
       "      <td>14.750000</td>\n",
       "    </tr>\n",
       "    <tr>\n",
       "      <th>14500.0</th>\n",
       "      <td>18.000000</td>\n",
       "    </tr>\n",
       "    <tr>\n",
       "      <th>15000.0</th>\n",
       "      <td>17.400000</td>\n",
       "    </tr>\n",
       "    <tr>\n",
       "      <th>16500.0</th>\n",
       "      <td>15.000000</td>\n",
       "    </tr>\n",
       "    <tr>\n",
       "      <th>17000.0</th>\n",
       "      <td>18.000000</td>\n",
       "    </tr>\n",
       "    <tr>\n",
       "      <th>18000.0</th>\n",
       "      <td>16.333333</td>\n",
       "    </tr>\n",
       "    <tr>\n",
       "      <th>19000.0</th>\n",
       "      <td>20.000000</td>\n",
       "    </tr>\n",
       "    <tr>\n",
       "      <th>19400.0</th>\n",
       "      <td>15.000000</td>\n",
       "    </tr>\n",
       "    <tr>\n",
       "      <th>19500.0</th>\n",
       "      <td>5.000000</td>\n",
       "    </tr>\n",
       "    <tr>\n",
       "      <th>19800.0</th>\n",
       "      <td>16.000000</td>\n",
       "    </tr>\n",
       "    <tr>\n",
       "      <th>20000.0</th>\n",
       "      <td>12.333333</td>\n",
       "    </tr>\n",
       "    <tr>\n",
       "      <th>22000.0</th>\n",
       "      <td>19.500000</td>\n",
       "    </tr>\n",
       "    <tr>\n",
       "      <th>25000.0</th>\n",
       "      <td>18.000000</td>\n",
       "    </tr>\n",
       "    <tr>\n",
       "      <th>26000.0</th>\n",
       "      <td>6.000000</td>\n",
       "    </tr>\n",
       "    <tr>\n",
       "      <th>27000.0</th>\n",
       "      <td>15.000000</td>\n",
       "    </tr>\n",
       "  </tbody>\n",
       "</table>\n",
       "<p>463 rows × 1 columns</p>\n",
       "</div>"
      ],
      "text/plain": [
       "             V9892\n",
       "V1252             \n",
       "600.0    11.200000\n",
       "620.0     6.000000\n",
       "622.0    17.000000\n",
       "630.0    10.500000\n",
       "650.0    11.000000\n",
       "660.0    12.000000\n",
       "665.0     6.000000\n",
       "668.0    11.333333\n",
       "670.0    13.000000\n",
       "672.0    12.666667\n",
       "675.0    13.000000\n",
       "678.0    11.293219\n",
       "679.0    12.042857\n",
       "680.0    12.447761\n",
       "681.0     9.000000\n",
       "682.0    19.500000\n",
       "683.0    11.000000\n",
       "685.0     8.500000\n",
       "687.0    15.500000\n",
       "689.0    21.000000\n",
       "690.0    13.500000\n",
       "692.0    11.500000\n",
       "695.0     7.000000\n",
       "700.0    13.740260\n",
       "710.0    13.000000\n",
       "711.0    18.000000\n",
       "714.0    15.000000\n",
       "715.0     7.000000\n",
       "720.0    12.769231\n",
       "721.0    14.000000\n",
       "...            ...\n",
       "8500.0   20.000000\n",
       "8600.0   16.500000\n",
       "8700.0   16.000000\n",
       "8800.0   13.000000\n",
       "9000.0   16.000000\n",
       "9200.0    9.000000\n",
       "9500.0   20.000000\n",
       "10000.0  17.533333\n",
       "11000.0  15.000000\n",
       "12000.0  18.777778\n",
       "12200.0  10.000000\n",
       "13028.0  21.000000\n",
       "13200.0  21.000000\n",
       "13500.0  21.500000\n",
       "13581.0  25.000000\n",
       "14000.0  14.750000\n",
       "14500.0  18.000000\n",
       "15000.0  17.400000\n",
       "16500.0  15.000000\n",
       "17000.0  18.000000\n",
       "18000.0  16.333333\n",
       "19000.0  20.000000\n",
       "19400.0  15.000000\n",
       "19500.0   5.000000\n",
       "19800.0  16.000000\n",
       "20000.0  12.333333\n",
       "22000.0  19.500000\n",
       "25000.0  18.000000\n",
       "26000.0   6.000000\n",
       "27000.0  15.000000\n",
       "\n",
       "[463 rows x 1 columns]"
      ]
     },
     "execution_count": 82,
     "metadata": {},
     "output_type": "execute_result"
    }
   ],
   "source": [
    "#Tabela pivot das variaveis V9892(Idade com que comecou a trabalhar), e V1252(Renda da aposentadoria federal).\n",
    "apos9892v1252 = apos[(~apos.V9892.isnull()) & (~apos.V1252.isnull()) & (apos.V1252!='999999999999')]\n",
    "apos9892v1252['V1252'] = apos9892v1252.V1252.astype(float)\n",
    "\n",
    "pivot1 = apos9892v1252.pivot_table(values=[\"V9892\"], index=[\"V1252\"], aggfunc=np.mean)\n",
    "pivot1"
   ]
  },
  {
   "cell_type": "code",
   "execution_count": 83,
   "metadata": {
    "collapsed": false,
    "scrolled": true
   },
   "outputs": [
    {
     "data": {
      "text/html": [
       "<div>\n",
       "<table border=\"1\" class=\"dataframe\">\n",
       "  <thead>\n",
       "    <tr style=\"text-align: right;\">\n",
       "      <th></th>\n",
       "      <th>V9892</th>\n",
       "    </tr>\n",
       "    <tr>\n",
       "      <th>V1255</th>\n",
       "      <th></th>\n",
       "    </tr>\n",
       "  </thead>\n",
       "  <tbody>\n",
       "    <tr>\n",
       "      <th>.</th>\n",
       "      <td>12.499355</td>\n",
       "    </tr>\n",
       "    <tr>\n",
       "      <th>000000000145</th>\n",
       "      <td>12.000000</td>\n",
       "    </tr>\n",
       "    <tr>\n",
       "      <th>000000000210</th>\n",
       "      <td>12.000000</td>\n",
       "    </tr>\n",
       "    <tr>\n",
       "      <th>000000000300</th>\n",
       "      <td>9.500000</td>\n",
       "    </tr>\n",
       "    <tr>\n",
       "      <th>000000000339</th>\n",
       "      <td>8.000000</td>\n",
       "    </tr>\n",
       "    <tr>\n",
       "      <th>000000000340</th>\n",
       "      <td>10.000000</td>\n",
       "    </tr>\n",
       "    <tr>\n",
       "      <th>000000000410</th>\n",
       "      <td>12.000000</td>\n",
       "    </tr>\n",
       "    <tr>\n",
       "      <th>000000000440</th>\n",
       "      <td>12.000000</td>\n",
       "    </tr>\n",
       "    <tr>\n",
       "      <th>000000000622</th>\n",
       "      <td>31.000000</td>\n",
       "    </tr>\n",
       "    <tr>\n",
       "      <th>000000000660</th>\n",
       "      <td>12.000000</td>\n",
       "    </tr>\n",
       "    <tr>\n",
       "      <th>000000000670</th>\n",
       "      <td>7.250000</td>\n",
       "    </tr>\n",
       "    <tr>\n",
       "      <th>000000000678</th>\n",
       "      <td>10.983015</td>\n",
       "    </tr>\n",
       "    <tr>\n",
       "      <th>000000000679</th>\n",
       "      <td>9.000000</td>\n",
       "    </tr>\n",
       "    <tr>\n",
       "      <th>000000000680</th>\n",
       "      <td>15.000000</td>\n",
       "    </tr>\n",
       "    <tr>\n",
       "      <th>000000000682</th>\n",
       "      <td>30.000000</td>\n",
       "    </tr>\n",
       "    <tr>\n",
       "      <th>000000000687</th>\n",
       "      <td>15.000000</td>\n",
       "    </tr>\n",
       "    <tr>\n",
       "      <th>000000000700</th>\n",
       "      <td>18.666667</td>\n",
       "    </tr>\n",
       "    <tr>\n",
       "      <th>000000000722</th>\n",
       "      <td>18.000000</td>\n",
       "    </tr>\n",
       "    <tr>\n",
       "      <th>000000000724</th>\n",
       "      <td>7.000000</td>\n",
       "    </tr>\n",
       "    <tr>\n",
       "      <th>000000000750</th>\n",
       "      <td>12.500000</td>\n",
       "    </tr>\n",
       "    <tr>\n",
       "      <th>000000000800</th>\n",
       "      <td>13.800000</td>\n",
       "    </tr>\n",
       "    <tr>\n",
       "      <th>000000000860</th>\n",
       "      <td>7.000000</td>\n",
       "    </tr>\n",
       "    <tr>\n",
       "      <th>000000000900</th>\n",
       "      <td>16.750000</td>\n",
       "    </tr>\n",
       "    <tr>\n",
       "      <th>000000000935</th>\n",
       "      <td>18.000000</td>\n",
       "    </tr>\n",
       "    <tr>\n",
       "      <th>000000000980</th>\n",
       "      <td>19.000000</td>\n",
       "    </tr>\n",
       "    <tr>\n",
       "      <th>000000001000</th>\n",
       "      <td>13.833333</td>\n",
       "    </tr>\n",
       "    <tr>\n",
       "      <th>000000001010</th>\n",
       "      <td>15.000000</td>\n",
       "    </tr>\n",
       "    <tr>\n",
       "      <th>000000001017</th>\n",
       "      <td>10.000000</td>\n",
       "    </tr>\n",
       "    <tr>\n",
       "      <th>000000001020</th>\n",
       "      <td>14.000000</td>\n",
       "    </tr>\n",
       "    <tr>\n",
       "      <th>000000001057</th>\n",
       "      <td>8.000000</td>\n",
       "    </tr>\n",
       "    <tr>\n",
       "      <th>...</th>\n",
       "      <td>...</td>\n",
       "    </tr>\n",
       "    <tr>\n",
       "      <th>000000001140</th>\n",
       "      <td>15.000000</td>\n",
       "    </tr>\n",
       "    <tr>\n",
       "      <th>000000001190</th>\n",
       "      <td>12.000000</td>\n",
       "    </tr>\n",
       "    <tr>\n",
       "      <th>000000001200</th>\n",
       "      <td>17.727273</td>\n",
       "    </tr>\n",
       "    <tr>\n",
       "      <th>000000001230</th>\n",
       "      <td>29.000000</td>\n",
       "    </tr>\n",
       "    <tr>\n",
       "      <th>000000001300</th>\n",
       "      <td>19.000000</td>\n",
       "    </tr>\n",
       "    <tr>\n",
       "      <th>000000001356</th>\n",
       "      <td>10.000000</td>\n",
       "    </tr>\n",
       "    <tr>\n",
       "      <th>000000001357</th>\n",
       "      <td>18.000000</td>\n",
       "    </tr>\n",
       "    <tr>\n",
       "      <th>000000001380</th>\n",
       "      <td>11.000000</td>\n",
       "    </tr>\n",
       "    <tr>\n",
       "      <th>000000001400</th>\n",
       "      <td>14.000000</td>\n",
       "    </tr>\n",
       "    <tr>\n",
       "      <th>000000001450</th>\n",
       "      <td>18.000000</td>\n",
       "    </tr>\n",
       "    <tr>\n",
       "      <th>000000001500</th>\n",
       "      <td>15.500000</td>\n",
       "    </tr>\n",
       "    <tr>\n",
       "      <th>000000001600</th>\n",
       "      <td>9.333333</td>\n",
       "    </tr>\n",
       "    <tr>\n",
       "      <th>000000001800</th>\n",
       "      <td>17.500000</td>\n",
       "    </tr>\n",
       "    <tr>\n",
       "      <th>000000002000</th>\n",
       "      <td>19.833333</td>\n",
       "    </tr>\n",
       "    <tr>\n",
       "      <th>000000002034</th>\n",
       "      <td>12.000000</td>\n",
       "    </tr>\n",
       "    <tr>\n",
       "      <th>000000002075</th>\n",
       "      <td>20.000000</td>\n",
       "    </tr>\n",
       "    <tr>\n",
       "      <th>000000002100</th>\n",
       "      <td>48.000000</td>\n",
       "    </tr>\n",
       "    <tr>\n",
       "      <th>000000002200</th>\n",
       "      <td>22.000000</td>\n",
       "    </tr>\n",
       "    <tr>\n",
       "      <th>000000002300</th>\n",
       "      <td>20.000000</td>\n",
       "    </tr>\n",
       "    <tr>\n",
       "      <th>000000002400</th>\n",
       "      <td>12.000000</td>\n",
       "    </tr>\n",
       "    <tr>\n",
       "      <th>000000002500</th>\n",
       "      <td>11.333333</td>\n",
       "    </tr>\n",
       "    <tr>\n",
       "      <th>000000003000</th>\n",
       "      <td>15.500000</td>\n",
       "    </tr>\n",
       "    <tr>\n",
       "      <th>000000003100</th>\n",
       "      <td>12.000000</td>\n",
       "    </tr>\n",
       "    <tr>\n",
       "      <th>000000003128</th>\n",
       "      <td>14.000000</td>\n",
       "    </tr>\n",
       "    <tr>\n",
       "      <th>000000003300</th>\n",
       "      <td>16.000000</td>\n",
       "    </tr>\n",
       "    <tr>\n",
       "      <th>000000003600</th>\n",
       "      <td>21.000000</td>\n",
       "    </tr>\n",
       "    <tr>\n",
       "      <th>000000004500</th>\n",
       "      <td>13.500000</td>\n",
       "    </tr>\n",
       "    <tr>\n",
       "      <th>000000005000</th>\n",
       "      <td>17.333333</td>\n",
       "    </tr>\n",
       "    <tr>\n",
       "      <th>000000005200</th>\n",
       "      <td>9.000000</td>\n",
       "    </tr>\n",
       "    <tr>\n",
       "      <th>000000006000</th>\n",
       "      <td>19.000000</td>\n",
       "    </tr>\n",
       "  </tbody>\n",
       "</table>\n",
       "<p>63 rows × 1 columns</p>\n",
       "</div>"
      ],
      "text/plain": [
       "                  V9892\n",
       "V1255                  \n",
       "           .  12.499355\n",
       "000000000145  12.000000\n",
       "000000000210  12.000000\n",
       "000000000300   9.500000\n",
       "000000000339   8.000000\n",
       "000000000340  10.000000\n",
       "000000000410  12.000000\n",
       "000000000440  12.000000\n",
       "000000000622  31.000000\n",
       "000000000660  12.000000\n",
       "000000000670   7.250000\n",
       "000000000678  10.983015\n",
       "000000000679   9.000000\n",
       "000000000680  15.000000\n",
       "000000000682  30.000000\n",
       "000000000687  15.000000\n",
       "000000000700  18.666667\n",
       "000000000722  18.000000\n",
       "000000000724   7.000000\n",
       "000000000750  12.500000\n",
       "000000000800  13.800000\n",
       "000000000860   7.000000\n",
       "000000000900  16.750000\n",
       "000000000935  18.000000\n",
       "000000000980  19.000000\n",
       "000000001000  13.833333\n",
       "000000001010  15.000000\n",
       "000000001017  10.000000\n",
       "000000001020  14.000000\n",
       "000000001057   8.000000\n",
       "...                 ...\n",
       "000000001140  15.000000\n",
       "000000001190  12.000000\n",
       "000000001200  17.727273\n",
       "000000001230  29.000000\n",
       "000000001300  19.000000\n",
       "000000001356  10.000000\n",
       "000000001357  18.000000\n",
       "000000001380  11.000000\n",
       "000000001400  14.000000\n",
       "000000001450  18.000000\n",
       "000000001500  15.500000\n",
       "000000001600   9.333333\n",
       "000000001800  17.500000\n",
       "000000002000  19.833333\n",
       "000000002034  12.000000\n",
       "000000002075  20.000000\n",
       "000000002100  48.000000\n",
       "000000002200  22.000000\n",
       "000000002300  20.000000\n",
       "000000002400  12.000000\n",
       "000000002500  11.333333\n",
       "000000003000  15.500000\n",
       "000000003100  12.000000\n",
       "000000003128  14.000000\n",
       "000000003300  16.000000\n",
       "000000003600  21.000000\n",
       "000000004500  13.500000\n",
       "000000005000  17.333333\n",
       "000000005200   9.000000\n",
       "000000006000  19.000000\n",
       "\n",
       "[63 rows x 1 columns]"
      ]
     },
     "execution_count": 83,
     "metadata": {},
     "output_type": "execute_result"
    }
   ],
   "source": [
    "apos9892v1255 = apos[(~apos.V9892.isnull()) & (~apos.V1255.isnull()) & (apos.V1255!='999999999999') & (apos.V1255!='           .')]\n",
    "#apos9892v1255['V1255'] = apos9892v1255.V1255.astype(float)\n",
    "teste = pd.to_numeric(apos9892v1255.V1255)\n",
    "\n",
    "pivot2 = apos9892v1252.pivot_table(values=[\"V9892\"], index=[\"V1255\"], aggfunc=np.mean)\n",
    "pivot2"
   ]
  },
  {
   "cell_type": "code",
   "execution_count": 84,
   "metadata": {
    "collapsed": false
   },
   "outputs": [
    {
     "name": "stderr",
     "output_type": "stream",
     "text": [
      "C:\\Users\\Avell\\Anaconda3\\lib\\site-packages\\ipykernel\\__main__.py:4: SettingWithCopyWarning: \n",
      "A value is trying to be set on a copy of a slice from a DataFrame.\n",
      "Try using .loc[row_indexer,col_indexer] = value instead\n",
      "\n",
      "See the caveats in the documentation: http://pandas.pydata.org/pandas-docs/stable/indexing.html#indexing-view-versus-copy\n"
     ]
    }
   ],
   "source": [
    "#Tabela pivot das variaveis V4083(Anos de estudo) e V1252(Rendimento da aposentadoria federal)\n",
    "apos4803v1252 = apos[(~apos.V4803.isnull()) & (~apos.V1252.isnull()) & (apos.V1252!='999999999999')]\n",
    "#apos4803v1252.shape[0]\n",
    "apos4803v1252['V1252'] = apos4803v1252.V1252.astype(float)"
   ]
  },
  {
   "cell_type": "code",
   "execution_count": 85,
   "metadata": {
    "collapsed": false,
    "scrolled": true
   },
   "outputs": [
    {
     "data": {
      "text/html": [
       "<div>\n",
       "<table border=\"1\" class=\"dataframe\">\n",
       "  <thead>\n",
       "    <tr style=\"text-align: right;\">\n",
       "      <th></th>\n",
       "      <th>V4803</th>\n",
       "    </tr>\n",
       "    <tr>\n",
       "      <th>V1252</th>\n",
       "      <th></th>\n",
       "    </tr>\n",
       "  </thead>\n",
       "  <tbody>\n",
       "    <tr>\n",
       "      <th>465.0</th>\n",
       "      <td>12.000000</td>\n",
       "    </tr>\n",
       "    <tr>\n",
       "      <th>480.0</th>\n",
       "      <td>12.000000</td>\n",
       "    </tr>\n",
       "    <tr>\n",
       "      <th>500.0</th>\n",
       "      <td>5.000000</td>\n",
       "    </tr>\n",
       "    <tr>\n",
       "      <th>580.0</th>\n",
       "      <td>5.000000</td>\n",
       "    </tr>\n",
       "    <tr>\n",
       "      <th>600.0</th>\n",
       "      <td>5.296296</td>\n",
       "    </tr>\n",
       "    <tr>\n",
       "      <th>605.0</th>\n",
       "      <td>1.000000</td>\n",
       "    </tr>\n",
       "    <tr>\n",
       "      <th>620.0</th>\n",
       "      <td>3.714286</td>\n",
       "    </tr>\n",
       "    <tr>\n",
       "      <th>622.0</th>\n",
       "      <td>4.000000</td>\n",
       "    </tr>\n",
       "    <tr>\n",
       "      <th>625.0</th>\n",
       "      <td>2.000000</td>\n",
       "    </tr>\n",
       "    <tr>\n",
       "      <th>630.0</th>\n",
       "      <td>5.000000</td>\n",
       "    </tr>\n",
       "    <tr>\n",
       "      <th>632.0</th>\n",
       "      <td>7.000000</td>\n",
       "    </tr>\n",
       "    <tr>\n",
       "      <th>635.0</th>\n",
       "      <td>1.000000</td>\n",
       "    </tr>\n",
       "    <tr>\n",
       "      <th>638.0</th>\n",
       "      <td>4.000000</td>\n",
       "    </tr>\n",
       "    <tr>\n",
       "      <th>640.0</th>\n",
       "      <td>3.666667</td>\n",
       "    </tr>\n",
       "    <tr>\n",
       "      <th>645.0</th>\n",
       "      <td>1.000000</td>\n",
       "    </tr>\n",
       "    <tr>\n",
       "      <th>650.0</th>\n",
       "      <td>3.888889</td>\n",
       "    </tr>\n",
       "    <tr>\n",
       "      <th>658.0</th>\n",
       "      <td>6.000000</td>\n",
       "    </tr>\n",
       "    <tr>\n",
       "      <th>660.0</th>\n",
       "      <td>5.666667</td>\n",
       "    </tr>\n",
       "    <tr>\n",
       "      <th>665.0</th>\n",
       "      <td>3.750000</td>\n",
       "    </tr>\n",
       "    <tr>\n",
       "      <th>667.0</th>\n",
       "      <td>12.000000</td>\n",
       "    </tr>\n",
       "    <tr>\n",
       "      <th>668.0</th>\n",
       "      <td>5.200000</td>\n",
       "    </tr>\n",
       "    <tr>\n",
       "      <th>670.0</th>\n",
       "      <td>3.627451</td>\n",
       "    </tr>\n",
       "    <tr>\n",
       "      <th>671.0</th>\n",
       "      <td>1.000000</td>\n",
       "    </tr>\n",
       "    <tr>\n",
       "      <th>672.0</th>\n",
       "      <td>4.411765</td>\n",
       "    </tr>\n",
       "    <tr>\n",
       "      <th>673.0</th>\n",
       "      <td>7.000000</td>\n",
       "    </tr>\n",
       "    <tr>\n",
       "      <th>674.0</th>\n",
       "      <td>5.500000</td>\n",
       "    </tr>\n",
       "    <tr>\n",
       "      <th>675.0</th>\n",
       "      <td>4.777778</td>\n",
       "    </tr>\n",
       "    <tr>\n",
       "      <th>676.0</th>\n",
       "      <td>5.000000</td>\n",
       "    </tr>\n",
       "    <tr>\n",
       "      <th>677.0</th>\n",
       "      <td>2.416667</td>\n",
       "    </tr>\n",
       "    <tr>\n",
       "      <th>678.0</th>\n",
       "      <td>4.043319</td>\n",
       "    </tr>\n",
       "    <tr>\n",
       "      <th>...</th>\n",
       "      <td>...</td>\n",
       "    </tr>\n",
       "    <tr>\n",
       "      <th>14500.0</th>\n",
       "      <td>16.000000</td>\n",
       "    </tr>\n",
       "    <tr>\n",
       "      <th>14700.0</th>\n",
       "      <td>16.000000</td>\n",
       "    </tr>\n",
       "    <tr>\n",
       "      <th>15000.0</th>\n",
       "      <td>15.515152</td>\n",
       "    </tr>\n",
       "    <tr>\n",
       "      <th>15200.0</th>\n",
       "      <td>16.000000</td>\n",
       "    </tr>\n",
       "    <tr>\n",
       "      <th>15500.0</th>\n",
       "      <td>16.000000</td>\n",
       "    </tr>\n",
       "    <tr>\n",
       "      <th>15878.0</th>\n",
       "      <td>16.000000</td>\n",
       "    </tr>\n",
       "    <tr>\n",
       "      <th>16000.0</th>\n",
       "      <td>16.000000</td>\n",
       "    </tr>\n",
       "    <tr>\n",
       "      <th>16250.0</th>\n",
       "      <td>9.000000</td>\n",
       "    </tr>\n",
       "    <tr>\n",
       "      <th>16500.0</th>\n",
       "      <td>16.000000</td>\n",
       "    </tr>\n",
       "    <tr>\n",
       "      <th>17000.0</th>\n",
       "      <td>14.666667</td>\n",
       "    </tr>\n",
       "    <tr>\n",
       "      <th>17600.0</th>\n",
       "      <td>12.000000</td>\n",
       "    </tr>\n",
       "    <tr>\n",
       "      <th>17800.0</th>\n",
       "      <td>5.000000</td>\n",
       "    </tr>\n",
       "    <tr>\n",
       "      <th>17850.0</th>\n",
       "      <td>16.000000</td>\n",
       "    </tr>\n",
       "    <tr>\n",
       "      <th>18000.0</th>\n",
       "      <td>15.200000</td>\n",
       "    </tr>\n",
       "    <tr>\n",
       "      <th>19000.0</th>\n",
       "      <td>16.000000</td>\n",
       "    </tr>\n",
       "    <tr>\n",
       "      <th>19300.0</th>\n",
       "      <td>16.000000</td>\n",
       "    </tr>\n",
       "    <tr>\n",
       "      <th>19400.0</th>\n",
       "      <td>16.000000</td>\n",
       "    </tr>\n",
       "    <tr>\n",
       "      <th>19500.0</th>\n",
       "      <td>16.000000</td>\n",
       "    </tr>\n",
       "    <tr>\n",
       "      <th>19800.0</th>\n",
       "      <td>16.000000</td>\n",
       "    </tr>\n",
       "    <tr>\n",
       "      <th>20000.0</th>\n",
       "      <td>15.208333</td>\n",
       "    </tr>\n",
       "    <tr>\n",
       "      <th>20170.0</th>\n",
       "      <td>16.000000</td>\n",
       "    </tr>\n",
       "    <tr>\n",
       "      <th>22000.0</th>\n",
       "      <td>15.857143</td>\n",
       "    </tr>\n",
       "    <tr>\n",
       "      <th>23000.0</th>\n",
       "      <td>16.000000</td>\n",
       "    </tr>\n",
       "    <tr>\n",
       "      <th>24000.0</th>\n",
       "      <td>16.000000</td>\n",
       "    </tr>\n",
       "    <tr>\n",
       "      <th>25000.0</th>\n",
       "      <td>14.600000</td>\n",
       "    </tr>\n",
       "    <tr>\n",
       "      <th>25480.0</th>\n",
       "      <td>16.000000</td>\n",
       "    </tr>\n",
       "    <tr>\n",
       "      <th>26000.0</th>\n",
       "      <td>16.000000</td>\n",
       "    </tr>\n",
       "    <tr>\n",
       "      <th>27000.0</th>\n",
       "      <td>16.000000</td>\n",
       "    </tr>\n",
       "    <tr>\n",
       "      <th>28000.0</th>\n",
       "      <td>16.000000</td>\n",
       "    </tr>\n",
       "    <tr>\n",
       "      <th>33000.0</th>\n",
       "      <td>16.000000</td>\n",
       "    </tr>\n",
       "  </tbody>\n",
       "</table>\n",
       "<p>1012 rows × 1 columns</p>\n",
       "</div>"
      ],
      "text/plain": [
       "             V4803\n",
       "V1252             \n",
       "465.0    12.000000\n",
       "480.0    12.000000\n",
       "500.0     5.000000\n",
       "580.0     5.000000\n",
       "600.0     5.296296\n",
       "605.0     1.000000\n",
       "620.0     3.714286\n",
       "622.0     4.000000\n",
       "625.0     2.000000\n",
       "630.0     5.000000\n",
       "632.0     7.000000\n",
       "635.0     1.000000\n",
       "638.0     4.000000\n",
       "640.0     3.666667\n",
       "645.0     1.000000\n",
       "650.0     3.888889\n",
       "658.0     6.000000\n",
       "660.0     5.666667\n",
       "665.0     3.750000\n",
       "667.0    12.000000\n",
       "668.0     5.200000\n",
       "670.0     3.627451\n",
       "671.0     1.000000\n",
       "672.0     4.411765\n",
       "673.0     7.000000\n",
       "674.0     5.500000\n",
       "675.0     4.777778\n",
       "676.0     5.000000\n",
       "677.0     2.416667\n",
       "678.0     4.043319\n",
       "...            ...\n",
       "14500.0  16.000000\n",
       "14700.0  16.000000\n",
       "15000.0  15.515152\n",
       "15200.0  16.000000\n",
       "15500.0  16.000000\n",
       "15878.0  16.000000\n",
       "16000.0  16.000000\n",
       "16250.0   9.000000\n",
       "16500.0  16.000000\n",
       "17000.0  14.666667\n",
       "17600.0  12.000000\n",
       "17800.0   5.000000\n",
       "17850.0  16.000000\n",
       "18000.0  15.200000\n",
       "19000.0  16.000000\n",
       "19300.0  16.000000\n",
       "19400.0  16.000000\n",
       "19500.0  16.000000\n",
       "19800.0  16.000000\n",
       "20000.0  15.208333\n",
       "20170.0  16.000000\n",
       "22000.0  15.857143\n",
       "23000.0  16.000000\n",
       "24000.0  16.000000\n",
       "25000.0  14.600000\n",
       "25480.0  16.000000\n",
       "26000.0  16.000000\n",
       "27000.0  16.000000\n",
       "28000.0  16.000000\n",
       "33000.0  16.000000\n",
       "\n",
       "[1012 rows x 1 columns]"
      ]
     },
     "execution_count": 85,
     "metadata": {},
     "output_type": "execute_result"
    }
   ],
   "source": [
    "pivot3 = apos4803v1252.pivot_table(values=[\"V4803\"], index=[\"V1252\"], aggfunc=np.mean)\n",
    "pivot3"
   ]
  },
  {
   "cell_type": "code",
   "execution_count": 86,
   "metadata": {
    "collapsed": false,
    "scrolled": true
   },
   "outputs": [
    {
     "data": {
      "text/plain": [
       "1718.1762498516134"
      ]
     },
     "execution_count": 86,
     "metadata": {},
     "output_type": "execute_result"
    }
   ],
   "source": [
    "aposV9892.V9892.cov(aposV1252.V1252) #Covariancia das variaveis V9892(Idade com que começou a trabalhar) e V1252(Renda da aposentadoria federal)."
   ]
  },
  {
   "cell_type": "code",
   "execution_count": 87,
   "metadata": {
    "collapsed": false
   },
   "outputs": [
    {
     "data": {
      "text/plain": [
       "-3.007869509019656e-10"
      ]
     },
     "execution_count": 87,
     "metadata": {},
     "output_type": "execute_result"
    }
   ],
   "source": [
    "r= aposV9892.V9892.mean() - aposV9892.V9892\n",
    "r.sum()"
   ]
  },
  {
   "cell_type": "code",
   "execution_count": 88,
   "metadata": {
    "collapsed": false
   },
   "outputs": [
    {
     "data": {
      "text/plain": [
       "0.23332462271301038"
      ]
     },
     "execution_count": 88,
     "metadata": {},
     "output_type": "execute_result"
    }
   ],
   "source": [
    "aposV9892.V9892.corr(aposV1252.V1252) #Correlação das variaveis V9892(Idade com que começou a trabalhar) e V1252(Renda da aposentadoria federal)."
   ]
  },
  {
   "cell_type": "code",
   "execution_count": 89,
   "metadata": {
    "collapsed": false
   },
   "outputs": [
    {
     "data": {
      "text/plain": [
       "762.53685192243222"
      ]
     },
     "execution_count": 89,
     "metadata": {},
     "output_type": "execute_result"
    }
   ],
   "source": [
    "aposV9892.V9892.cov(aposV1255.V1255) #Covariancia das variaveis V9892(Idade com que começou a trabalhar) e V1255(Renda da pensão federal)."
   ]
  },
  {
   "cell_type": "code",
   "execution_count": 90,
   "metadata": {
    "collapsed": false
   },
   "outputs": [
    {
     "data": {
      "text/plain": [
       "0.20573792572213701"
      ]
     },
     "execution_count": 90,
     "metadata": {},
     "output_type": "execute_result"
    }
   ],
   "source": [
    "aposV9892.V9892.corr(aposV1255.V1255) #Correlação das variaveis V9892(Idade com que começou a trabalhar) e V1255(Renda da pensão federal)."
   ]
  },
  {
   "cell_type": "code",
   "execution_count": 91,
   "metadata": {
    "collapsed": false
   },
   "outputs": [
    {
     "data": {
      "text/plain": [
       "3926.3059373991432"
      ]
     },
     "execution_count": 91,
     "metadata": {},
     "output_type": "execute_result"
    }
   ],
   "source": [
    "aposV4803.V4803.cov(aposV1252.V1252) #Covariancia das variaveis V4803(Anos de estudo) e V1252(Renda da aposentadoria)."
   ]
  },
  {
   "cell_type": "code",
   "execution_count": 92,
   "metadata": {
    "collapsed": false
   },
   "outputs": [
    {
     "data": {
      "text/plain": [
       "0.46624937981800463"
      ]
     },
     "execution_count": 92,
     "metadata": {},
     "output_type": "execute_result"
    }
   ],
   "source": [
    "aposV4803.V4803.corr(aposV1252.V1252) #Correlação das variaveis V4803(Anos de estudo) e V1252(Renda da aposentadoria federal)."
   ]
  },
  {
   "cell_type": "code",
   "execution_count": 93,
   "metadata": {
    "collapsed": false
   },
   "outputs": [
    {
     "data": {
      "text/html": [
       "<div>\n",
       "<table border=\"1\" class=\"dataframe\">\n",
       "  <thead>\n",
       "    <tr style=\"text-align: right;\">\n",
       "      <th>V1252</th>\n",
       "      <th>465.0</th>\n",
       "      <th>480.0</th>\n",
       "      <th>500.0</th>\n",
       "      <th>580.0</th>\n",
       "      <th>600.0</th>\n",
       "      <th>605.0</th>\n",
       "      <th>620.0</th>\n",
       "      <th>622.0</th>\n",
       "      <th>625.0</th>\n",
       "      <th>630.0</th>\n",
       "      <th>...</th>\n",
       "      <th>20170.0</th>\n",
       "      <th>22000.0</th>\n",
       "      <th>23000.0</th>\n",
       "      <th>24000.0</th>\n",
       "      <th>25000.0</th>\n",
       "      <th>25480.0</th>\n",
       "      <th>26000.0</th>\n",
       "      <th>27000.0</th>\n",
       "      <th>28000.0</th>\n",
       "      <th>33000.0</th>\n",
       "    </tr>\n",
       "    <tr>\n",
       "      <th>V4803</th>\n",
       "      <th></th>\n",
       "      <th></th>\n",
       "      <th></th>\n",
       "      <th></th>\n",
       "      <th></th>\n",
       "      <th></th>\n",
       "      <th></th>\n",
       "      <th></th>\n",
       "      <th></th>\n",
       "      <th></th>\n",
       "      <th></th>\n",
       "      <th></th>\n",
       "      <th></th>\n",
       "      <th></th>\n",
       "      <th></th>\n",
       "      <th></th>\n",
       "      <th></th>\n",
       "      <th></th>\n",
       "      <th></th>\n",
       "      <th></th>\n",
       "      <th></th>\n",
       "    </tr>\n",
       "  </thead>\n",
       "  <tbody>\n",
       "    <tr>\n",
       "      <th>1</th>\n",
       "      <td>0</td>\n",
       "      <td>0</td>\n",
       "      <td>0</td>\n",
       "      <td>0</td>\n",
       "      <td>9</td>\n",
       "      <td>1</td>\n",
       "      <td>5</td>\n",
       "      <td>5</td>\n",
       "      <td>2</td>\n",
       "      <td>2</td>\n",
       "      <td>...</td>\n",
       "      <td>0</td>\n",
       "      <td>0</td>\n",
       "      <td>0</td>\n",
       "      <td>0</td>\n",
       "      <td>0</td>\n",
       "      <td>0</td>\n",
       "      <td>0</td>\n",
       "      <td>0</td>\n",
       "      <td>0</td>\n",
       "      <td>0</td>\n",
       "    </tr>\n",
       "    <tr>\n",
       "      <th>2</th>\n",
       "      <td>0</td>\n",
       "      <td>0</td>\n",
       "      <td>0</td>\n",
       "      <td>0</td>\n",
       "      <td>1</td>\n",
       "      <td>0</td>\n",
       "      <td>0</td>\n",
       "      <td>0</td>\n",
       "      <td>0</td>\n",
       "      <td>0</td>\n",
       "      <td>...</td>\n",
       "      <td>0</td>\n",
       "      <td>0</td>\n",
       "      <td>0</td>\n",
       "      <td>0</td>\n",
       "      <td>0</td>\n",
       "      <td>0</td>\n",
       "      <td>0</td>\n",
       "      <td>0</td>\n",
       "      <td>0</td>\n",
       "      <td>0</td>\n",
       "    </tr>\n",
       "    <tr>\n",
       "      <th>3</th>\n",
       "      <td>0</td>\n",
       "      <td>0</td>\n",
       "      <td>0</td>\n",
       "      <td>0</td>\n",
       "      <td>2</td>\n",
       "      <td>0</td>\n",
       "      <td>0</td>\n",
       "      <td>1</td>\n",
       "      <td>0</td>\n",
       "      <td>0</td>\n",
       "      <td>...</td>\n",
       "      <td>0</td>\n",
       "      <td>0</td>\n",
       "      <td>0</td>\n",
       "      <td>0</td>\n",
       "      <td>0</td>\n",
       "      <td>0</td>\n",
       "      <td>0</td>\n",
       "      <td>0</td>\n",
       "      <td>0</td>\n",
       "      <td>0</td>\n",
       "    </tr>\n",
       "    <tr>\n",
       "      <th>4</th>\n",
       "      <td>0</td>\n",
       "      <td>0</td>\n",
       "      <td>0</td>\n",
       "      <td>0</td>\n",
       "      <td>3</td>\n",
       "      <td>0</td>\n",
       "      <td>0</td>\n",
       "      <td>0</td>\n",
       "      <td>1</td>\n",
       "      <td>0</td>\n",
       "      <td>...</td>\n",
       "      <td>0</td>\n",
       "      <td>0</td>\n",
       "      <td>0</td>\n",
       "      <td>0</td>\n",
       "      <td>0</td>\n",
       "      <td>0</td>\n",
       "      <td>0</td>\n",
       "      <td>0</td>\n",
       "      <td>0</td>\n",
       "      <td>0</td>\n",
       "    </tr>\n",
       "    <tr>\n",
       "      <th>5</th>\n",
       "      <td>0</td>\n",
       "      <td>0</td>\n",
       "      <td>1</td>\n",
       "      <td>1</td>\n",
       "      <td>2</td>\n",
       "      <td>0</td>\n",
       "      <td>0</td>\n",
       "      <td>0</td>\n",
       "      <td>0</td>\n",
       "      <td>0</td>\n",
       "      <td>...</td>\n",
       "      <td>0</td>\n",
       "      <td>0</td>\n",
       "      <td>0</td>\n",
       "      <td>0</td>\n",
       "      <td>0</td>\n",
       "      <td>0</td>\n",
       "      <td>0</td>\n",
       "      <td>0</td>\n",
       "      <td>0</td>\n",
       "      <td>0</td>\n",
       "    </tr>\n",
       "    <tr>\n",
       "      <th>6</th>\n",
       "      <td>0</td>\n",
       "      <td>0</td>\n",
       "      <td>0</td>\n",
       "      <td>0</td>\n",
       "      <td>1</td>\n",
       "      <td>0</td>\n",
       "      <td>0</td>\n",
       "      <td>2</td>\n",
       "      <td>0</td>\n",
       "      <td>1</td>\n",
       "      <td>...</td>\n",
       "      <td>0</td>\n",
       "      <td>0</td>\n",
       "      <td>0</td>\n",
       "      <td>0</td>\n",
       "      <td>0</td>\n",
       "      <td>0</td>\n",
       "      <td>0</td>\n",
       "      <td>0</td>\n",
       "      <td>0</td>\n",
       "      <td>0</td>\n",
       "    </tr>\n",
       "    <tr>\n",
       "      <th>7</th>\n",
       "      <td>0</td>\n",
       "      <td>0</td>\n",
       "      <td>0</td>\n",
       "      <td>0</td>\n",
       "      <td>2</td>\n",
       "      <td>0</td>\n",
       "      <td>0</td>\n",
       "      <td>0</td>\n",
       "      <td>0</td>\n",
       "      <td>0</td>\n",
       "      <td>...</td>\n",
       "      <td>0</td>\n",
       "      <td>0</td>\n",
       "      <td>0</td>\n",
       "      <td>0</td>\n",
       "      <td>0</td>\n",
       "      <td>0</td>\n",
       "      <td>0</td>\n",
       "      <td>0</td>\n",
       "      <td>0</td>\n",
       "      <td>0</td>\n",
       "    </tr>\n",
       "    <tr>\n",
       "      <th>8</th>\n",
       "      <td>0</td>\n",
       "      <td>0</td>\n",
       "      <td>0</td>\n",
       "      <td>0</td>\n",
       "      <td>0</td>\n",
       "      <td>0</td>\n",
       "      <td>0</td>\n",
       "      <td>0</td>\n",
       "      <td>0</td>\n",
       "      <td>0</td>\n",
       "      <td>...</td>\n",
       "      <td>0</td>\n",
       "      <td>0</td>\n",
       "      <td>0</td>\n",
       "      <td>0</td>\n",
       "      <td>0</td>\n",
       "      <td>0</td>\n",
       "      <td>0</td>\n",
       "      <td>0</td>\n",
       "      <td>0</td>\n",
       "      <td>0</td>\n",
       "    </tr>\n",
       "    <tr>\n",
       "      <th>9</th>\n",
       "      <td>0</td>\n",
       "      <td>0</td>\n",
       "      <td>0</td>\n",
       "      <td>0</td>\n",
       "      <td>0</td>\n",
       "      <td>0</td>\n",
       "      <td>1</td>\n",
       "      <td>1</td>\n",
       "      <td>0</td>\n",
       "      <td>0</td>\n",
       "      <td>...</td>\n",
       "      <td>0</td>\n",
       "      <td>0</td>\n",
       "      <td>0</td>\n",
       "      <td>0</td>\n",
       "      <td>1</td>\n",
       "      <td>0</td>\n",
       "      <td>0</td>\n",
       "      <td>0</td>\n",
       "      <td>0</td>\n",
       "      <td>0</td>\n",
       "    </tr>\n",
       "    <tr>\n",
       "      <th>10</th>\n",
       "      <td>0</td>\n",
       "      <td>0</td>\n",
       "      <td>0</td>\n",
       "      <td>0</td>\n",
       "      <td>0</td>\n",
       "      <td>0</td>\n",
       "      <td>0</td>\n",
       "      <td>0</td>\n",
       "      <td>0</td>\n",
       "      <td>0</td>\n",
       "      <td>...</td>\n",
       "      <td>0</td>\n",
       "      <td>0</td>\n",
       "      <td>0</td>\n",
       "      <td>0</td>\n",
       "      <td>0</td>\n",
       "      <td>0</td>\n",
       "      <td>0</td>\n",
       "      <td>0</td>\n",
       "      <td>0</td>\n",
       "      <td>0</td>\n",
       "    </tr>\n",
       "    <tr>\n",
       "      <th>11</th>\n",
       "      <td>0</td>\n",
       "      <td>0</td>\n",
       "      <td>0</td>\n",
       "      <td>0</td>\n",
       "      <td>0</td>\n",
       "      <td>0</td>\n",
       "      <td>0</td>\n",
       "      <td>1</td>\n",
       "      <td>0</td>\n",
       "      <td>0</td>\n",
       "      <td>...</td>\n",
       "      <td>0</td>\n",
       "      <td>0</td>\n",
       "      <td>0</td>\n",
       "      <td>0</td>\n",
       "      <td>0</td>\n",
       "      <td>0</td>\n",
       "      <td>0</td>\n",
       "      <td>0</td>\n",
       "      <td>0</td>\n",
       "      <td>0</td>\n",
       "    </tr>\n",
       "    <tr>\n",
       "      <th>12</th>\n",
       "      <td>1</td>\n",
       "      <td>1</td>\n",
       "      <td>0</td>\n",
       "      <td>0</td>\n",
       "      <td>7</td>\n",
       "      <td>0</td>\n",
       "      <td>1</td>\n",
       "      <td>0</td>\n",
       "      <td>0</td>\n",
       "      <td>1</td>\n",
       "      <td>...</td>\n",
       "      <td>0</td>\n",
       "      <td>0</td>\n",
       "      <td>0</td>\n",
       "      <td>0</td>\n",
       "      <td>0</td>\n",
       "      <td>0</td>\n",
       "      <td>0</td>\n",
       "      <td>0</td>\n",
       "      <td>0</td>\n",
       "      <td>0</td>\n",
       "    </tr>\n",
       "    <tr>\n",
       "      <th>13</th>\n",
       "      <td>0</td>\n",
       "      <td>0</td>\n",
       "      <td>0</td>\n",
       "      <td>0</td>\n",
       "      <td>0</td>\n",
       "      <td>0</td>\n",
       "      <td>0</td>\n",
       "      <td>0</td>\n",
       "      <td>0</td>\n",
       "      <td>0</td>\n",
       "      <td>...</td>\n",
       "      <td>0</td>\n",
       "      <td>0</td>\n",
       "      <td>0</td>\n",
       "      <td>0</td>\n",
       "      <td>0</td>\n",
       "      <td>0</td>\n",
       "      <td>0</td>\n",
       "      <td>0</td>\n",
       "      <td>0</td>\n",
       "      <td>0</td>\n",
       "    </tr>\n",
       "    <tr>\n",
       "      <th>14</th>\n",
       "      <td>0</td>\n",
       "      <td>0</td>\n",
       "      <td>0</td>\n",
       "      <td>0</td>\n",
       "      <td>0</td>\n",
       "      <td>0</td>\n",
       "      <td>0</td>\n",
       "      <td>0</td>\n",
       "      <td>0</td>\n",
       "      <td>0</td>\n",
       "      <td>...</td>\n",
       "      <td>0</td>\n",
       "      <td>0</td>\n",
       "      <td>0</td>\n",
       "      <td>0</td>\n",
       "      <td>0</td>\n",
       "      <td>0</td>\n",
       "      <td>0</td>\n",
       "      <td>0</td>\n",
       "      <td>0</td>\n",
       "      <td>0</td>\n",
       "    </tr>\n",
       "    <tr>\n",
       "      <th>15</th>\n",
       "      <td>0</td>\n",
       "      <td>0</td>\n",
       "      <td>0</td>\n",
       "      <td>0</td>\n",
       "      <td>0</td>\n",
       "      <td>0</td>\n",
       "      <td>0</td>\n",
       "      <td>0</td>\n",
       "      <td>0</td>\n",
       "      <td>0</td>\n",
       "      <td>...</td>\n",
       "      <td>0</td>\n",
       "      <td>1</td>\n",
       "      <td>0</td>\n",
       "      <td>0</td>\n",
       "      <td>0</td>\n",
       "      <td>0</td>\n",
       "      <td>0</td>\n",
       "      <td>0</td>\n",
       "      <td>0</td>\n",
       "      <td>0</td>\n",
       "    </tr>\n",
       "    <tr>\n",
       "      <th>16</th>\n",
       "      <td>0</td>\n",
       "      <td>0</td>\n",
       "      <td>0</td>\n",
       "      <td>0</td>\n",
       "      <td>0</td>\n",
       "      <td>0</td>\n",
       "      <td>0</td>\n",
       "      <td>0</td>\n",
       "      <td>0</td>\n",
       "      <td>0</td>\n",
       "      <td>...</td>\n",
       "      <td>1</td>\n",
       "      <td>6</td>\n",
       "      <td>1</td>\n",
       "      <td>2</td>\n",
       "      <td>4</td>\n",
       "      <td>1</td>\n",
       "      <td>1</td>\n",
       "      <td>2</td>\n",
       "      <td>1</td>\n",
       "      <td>1</td>\n",
       "    </tr>\n",
       "    <tr>\n",
       "      <th>17</th>\n",
       "      <td>0</td>\n",
       "      <td>0</td>\n",
       "      <td>0</td>\n",
       "      <td>0</td>\n",
       "      <td>0</td>\n",
       "      <td>0</td>\n",
       "      <td>0</td>\n",
       "      <td>0</td>\n",
       "      <td>0</td>\n",
       "      <td>0</td>\n",
       "      <td>...</td>\n",
       "      <td>0</td>\n",
       "      <td>0</td>\n",
       "      <td>0</td>\n",
       "      <td>0</td>\n",
       "      <td>0</td>\n",
       "      <td>0</td>\n",
       "      <td>0</td>\n",
       "      <td>0</td>\n",
       "      <td>0</td>\n",
       "      <td>0</td>\n",
       "    </tr>\n",
       "  </tbody>\n",
       "</table>\n",
       "<p>17 rows × 1012 columns</p>\n",
       "</div>"
      ],
      "text/plain": [
       "V1252  465.0    480.0    500.0    580.0    600.0    605.0    620.0    622.0    \\\n",
       "V4803                                                                           \n",
       "1            0        0        0        0        9        1        5        5   \n",
       "2            0        0        0        0        1        0        0        0   \n",
       "3            0        0        0        0        2        0        0        1   \n",
       "4            0        0        0        0        3        0        0        0   \n",
       "5            0        0        1        1        2        0        0        0   \n",
       "6            0        0        0        0        1        0        0        2   \n",
       "7            0        0        0        0        2        0        0        0   \n",
       "8            0        0        0        0        0        0        0        0   \n",
       "9            0        0        0        0        0        0        1        1   \n",
       "10           0        0        0        0        0        0        0        0   \n",
       "11           0        0        0        0        0        0        0        1   \n",
       "12           1        1        0        0        7        0        1        0   \n",
       "13           0        0        0        0        0        0        0        0   \n",
       "14           0        0        0        0        0        0        0        0   \n",
       "15           0        0        0        0        0        0        0        0   \n",
       "16           0        0        0        0        0        0        0        0   \n",
       "17           0        0        0        0        0        0        0        0   \n",
       "\n",
       "V1252  625.0    630.0     ...     20170.0  22000.0  23000.0  24000.0  25000.0  \\\n",
       "V4803                     ...                                                   \n",
       "1            2        2   ...           0        0        0        0        0   \n",
       "2            0        0   ...           0        0        0        0        0   \n",
       "3            0        0   ...           0        0        0        0        0   \n",
       "4            1        0   ...           0        0        0        0        0   \n",
       "5            0        0   ...           0        0        0        0        0   \n",
       "6            0        1   ...           0        0        0        0        0   \n",
       "7            0        0   ...           0        0        0        0        0   \n",
       "8            0        0   ...           0        0        0        0        0   \n",
       "9            0        0   ...           0        0        0        0        1   \n",
       "10           0        0   ...           0        0        0        0        0   \n",
       "11           0        0   ...           0        0        0        0        0   \n",
       "12           0        1   ...           0        0        0        0        0   \n",
       "13           0        0   ...           0        0        0        0        0   \n",
       "14           0        0   ...           0        0        0        0        0   \n",
       "15           0        0   ...           0        1        0        0        0   \n",
       "16           0        0   ...           1        6        1        2        4   \n",
       "17           0        0   ...           0        0        0        0        0   \n",
       "\n",
       "V1252  25480.0  26000.0  27000.0  28000.0  33000.0  \n",
       "V4803                                               \n",
       "1            0        0        0        0        0  \n",
       "2            0        0        0        0        0  \n",
       "3            0        0        0        0        0  \n",
       "4            0        0        0        0        0  \n",
       "5            0        0        0        0        0  \n",
       "6            0        0        0        0        0  \n",
       "7            0        0        0        0        0  \n",
       "8            0        0        0        0        0  \n",
       "9            0        0        0        0        0  \n",
       "10           0        0        0        0        0  \n",
       "11           0        0        0        0        0  \n",
       "12           0        0        0        0        0  \n",
       "13           0        0        0        0        0  \n",
       "14           0        0        0        0        0  \n",
       "15           0        0        0        0        0  \n",
       "16           1        1        2        1        1  \n",
       "17           0        0        0        0        0  \n",
       "\n",
       "[17 rows x 1012 columns]"
      ]
     },
     "execution_count": 93,
     "metadata": {},
     "output_type": "execute_result"
    }
   ],
   "source": [
    "pd.crosstab(aposV4803.V4803, aposV1252.V1252)"
   ]
  },
  {
   "cell_type": "code",
   "execution_count": 94,
   "metadata": {
    "collapsed": false
   },
   "outputs": [
    {
     "data": {
      "text/plain": [
       "2367.0611709540603"
      ]
     },
     "execution_count": 94,
     "metadata": {},
     "output_type": "execute_result"
    }
   ],
   "source": [
    "aposV4803.V4803.cov(aposV1255.V1255) #Covariancia das variaveis V4803(Anos de estudo) e V1255(Renda da pensão)."
   ]
  },
  {
   "cell_type": "code",
   "execution_count": 95,
   "metadata": {
    "collapsed": false
   },
   "outputs": [
    {
     "data": {
      "text/plain": [
       "0.42084296305203894"
      ]
     },
     "execution_count": 95,
     "metadata": {},
     "output_type": "execute_result"
    }
   ],
   "source": [
    "aposV4803.V4803.corr(aposV1255.V1255) #Correlação das variaveis V4803(Anos de estudo) e V1255(Renda da pensão)."
   ]
  },
  {
   "cell_type": "code",
   "execution_count": 96,
   "metadata": {
    "collapsed": false
   },
   "outputs": [
    {
     "data": {
      "text/plain": [
       "1958.9608829591"
      ]
     },
     "execution_count": 96,
     "metadata": {},
     "output_type": "execute_result"
    }
   ],
   "source": [
    "aposV6007.V6007.cov(aposV1252.V1252) #Covariancia das variaveis V6007(Curso mais elevado que frequentou anteriormente) e V1252(Renda da aposentadoria)."
   ]
  },
  {
   "cell_type": "code",
   "execution_count": 97,
   "metadata": {
    "collapsed": false
   },
   "outputs": [
    {
     "data": {
      "text/plain": [
       "0.3806735890792956"
      ]
     },
     "execution_count": 97,
     "metadata": {},
     "output_type": "execute_result"
    }
   ],
   "source": [
    "aposV6007.V6007.corr(aposV1252.V1252) #Correlação das variaveis V6007(Curso mais elevado que frequentou anteriormente) e V1252(Renda da aposentadoria)."
   ]
  },
  {
   "cell_type": "code",
   "execution_count": 98,
   "metadata": {
    "collapsed": false
   },
   "outputs": [
    {
     "data": {
      "text/plain": [
       "0.28475718778727577"
      ]
     },
     "execution_count": 98,
     "metadata": {},
     "output_type": "execute_result"
    }
   ],
   "source": [
    "aposV6007.V6007.corr(aposV1255.V1255) #Correlação das variaveis V6007(Curso mais elevado que frequentou anteriormente) e V1255(Renda da pensão)."
   ]
  },
  {
   "cell_type": "code",
   "execution_count": 99,
   "metadata": {
    "collapsed": false
   },
   "outputs": [
    {
     "data": {
      "text/plain": [
       "1087.1715010144446"
      ]
     },
     "execution_count": 99,
     "metadata": {},
     "output_type": "execute_result"
    }
   ],
   "source": [
    "aposV6007.V6007.cov(aposV1255.V1255) #Covariancia das variaveis V6007(Curso mais elevado que frequentou anteriormente) e V1255(Renda da pensão)."
   ]
  },
  {
   "cell_type": "code",
   "execution_count": 100,
   "metadata": {
    "collapsed": false
   },
   "outputs": [
    {
     "data": {
      "text/html": [
       "<div>\n",
       "<table border=\"1\" class=\"dataframe\">\n",
       "  <thead>\n",
       "    <tr style=\"text-align: right;\">\n",
       "      <th>V9892</th>\n",
       "      <th>4.0</th>\n",
       "      <th>5.0</th>\n",
       "      <th>6.0</th>\n",
       "      <th>7.0</th>\n",
       "      <th>8.0</th>\n",
       "      <th>9.0</th>\n",
       "      <th>10.0</th>\n",
       "      <th>11.0</th>\n",
       "      <th>12.0</th>\n",
       "      <th>13.0</th>\n",
       "      <th>...</th>\n",
       "      <th>57.0</th>\n",
       "      <th>58.0</th>\n",
       "      <th>59.0</th>\n",
       "      <th>60.0</th>\n",
       "      <th>61.0</th>\n",
       "      <th>62.0</th>\n",
       "      <th>66.0</th>\n",
       "      <th>68.0</th>\n",
       "      <th>79.0</th>\n",
       "      <th>80.0</th>\n",
       "    </tr>\n",
       "    <tr>\n",
       "      <th>V6007</th>\n",
       "      <th></th>\n",
       "      <th></th>\n",
       "      <th></th>\n",
       "      <th></th>\n",
       "      <th></th>\n",
       "      <th></th>\n",
       "      <th></th>\n",
       "      <th></th>\n",
       "      <th></th>\n",
       "      <th></th>\n",
       "      <th></th>\n",
       "      <th></th>\n",
       "      <th></th>\n",
       "      <th></th>\n",
       "      <th></th>\n",
       "      <th></th>\n",
       "      <th></th>\n",
       "      <th></th>\n",
       "      <th></th>\n",
       "      <th></th>\n",
       "      <th></th>\n",
       "    </tr>\n",
       "  </thead>\n",
       "  <tbody>\n",
       "    <tr>\n",
       "      <th>1.0</th>\n",
       "      <td>6</td>\n",
       "      <td>123</td>\n",
       "      <td>229</td>\n",
       "      <td>962</td>\n",
       "      <td>1360</td>\n",
       "      <td>1002</td>\n",
       "      <td>2216</td>\n",
       "      <td>516</td>\n",
       "      <td>1828</td>\n",
       "      <td>757</td>\n",
       "      <td>...</td>\n",
       "      <td>1</td>\n",
       "      <td>1</td>\n",
       "      <td>0</td>\n",
       "      <td>2</td>\n",
       "      <td>0</td>\n",
       "      <td>1</td>\n",
       "      <td>1</td>\n",
       "      <td>1</td>\n",
       "      <td>1</td>\n",
       "      <td>1</td>\n",
       "    </tr>\n",
       "    <tr>\n",
       "      <th>2.0</th>\n",
       "      <td>0</td>\n",
       "      <td>22</td>\n",
       "      <td>27</td>\n",
       "      <td>86</td>\n",
       "      <td>138</td>\n",
       "      <td>117</td>\n",
       "      <td>282</td>\n",
       "      <td>69</td>\n",
       "      <td>291</td>\n",
       "      <td>177</td>\n",
       "      <td>...</td>\n",
       "      <td>0</td>\n",
       "      <td>0</td>\n",
       "      <td>1</td>\n",
       "      <td>1</td>\n",
       "      <td>1</td>\n",
       "      <td>0</td>\n",
       "      <td>0</td>\n",
       "      <td>0</td>\n",
       "      <td>0</td>\n",
       "      <td>0</td>\n",
       "    </tr>\n",
       "    <tr>\n",
       "      <th>3.0</th>\n",
       "      <td>1</td>\n",
       "      <td>6</td>\n",
       "      <td>10</td>\n",
       "      <td>23</td>\n",
       "      <td>49</td>\n",
       "      <td>45</td>\n",
       "      <td>79</td>\n",
       "      <td>34</td>\n",
       "      <td>105</td>\n",
       "      <td>74</td>\n",
       "      <td>...</td>\n",
       "      <td>0</td>\n",
       "      <td>0</td>\n",
       "      <td>0</td>\n",
       "      <td>0</td>\n",
       "      <td>0</td>\n",
       "      <td>0</td>\n",
       "      <td>1</td>\n",
       "      <td>0</td>\n",
       "      <td>0</td>\n",
       "      <td>0</td>\n",
       "    </tr>\n",
       "    <tr>\n",
       "      <th>4.0</th>\n",
       "      <td>11</td>\n",
       "      <td>151</td>\n",
       "      <td>295</td>\n",
       "      <td>1244</td>\n",
       "      <td>2159</td>\n",
       "      <td>1983</td>\n",
       "      <td>5043</td>\n",
       "      <td>1675</td>\n",
       "      <td>5840</td>\n",
       "      <td>3549</td>\n",
       "      <td>...</td>\n",
       "      <td>1</td>\n",
       "      <td>1</td>\n",
       "      <td>0</td>\n",
       "      <td>1</td>\n",
       "      <td>0</td>\n",
       "      <td>0</td>\n",
       "      <td>0</td>\n",
       "      <td>0</td>\n",
       "      <td>0</td>\n",
       "      <td>0</td>\n",
       "    </tr>\n",
       "    <tr>\n",
       "      <th>5.0</th>\n",
       "      <td>9</td>\n",
       "      <td>86</td>\n",
       "      <td>164</td>\n",
       "      <td>611</td>\n",
       "      <td>1006</td>\n",
       "      <td>953</td>\n",
       "      <td>2410</td>\n",
       "      <td>1047</td>\n",
       "      <td>3808</td>\n",
       "      <td>2980</td>\n",
       "      <td>...</td>\n",
       "      <td>1</td>\n",
       "      <td>1</td>\n",
       "      <td>0</td>\n",
       "      <td>0</td>\n",
       "      <td>0</td>\n",
       "      <td>0</td>\n",
       "      <td>0</td>\n",
       "      <td>0</td>\n",
       "      <td>0</td>\n",
       "      <td>0</td>\n",
       "    </tr>\n",
       "    <tr>\n",
       "      <th>6.0</th>\n",
       "      <td>0</td>\n",
       "      <td>12</td>\n",
       "      <td>33</td>\n",
       "      <td>74</td>\n",
       "      <td>107</td>\n",
       "      <td>80</td>\n",
       "      <td>202</td>\n",
       "      <td>66</td>\n",
       "      <td>189</td>\n",
       "      <td>97</td>\n",
       "      <td>...</td>\n",
       "      <td>0</td>\n",
       "      <td>0</td>\n",
       "      <td>0</td>\n",
       "      <td>0</td>\n",
       "      <td>0</td>\n",
       "      <td>0</td>\n",
       "      <td>0</td>\n",
       "      <td>0</td>\n",
       "      <td>0</td>\n",
       "      <td>0</td>\n",
       "    </tr>\n",
       "    <tr>\n",
       "      <th>7.0</th>\n",
       "      <td>1</td>\n",
       "      <td>9</td>\n",
       "      <td>15</td>\n",
       "      <td>79</td>\n",
       "      <td>70</td>\n",
       "      <td>70</td>\n",
       "      <td>186</td>\n",
       "      <td>57</td>\n",
       "      <td>273</td>\n",
       "      <td>171</td>\n",
       "      <td>...</td>\n",
       "      <td>0</td>\n",
       "      <td>0</td>\n",
       "      <td>0</td>\n",
       "      <td>0</td>\n",
       "      <td>0</td>\n",
       "      <td>0</td>\n",
       "      <td>0</td>\n",
       "      <td>0</td>\n",
       "      <td>0</td>\n",
       "      <td>0</td>\n",
       "    </tr>\n",
       "    <tr>\n",
       "      <th>8.0</th>\n",
       "      <td>4</td>\n",
       "      <td>27</td>\n",
       "      <td>40</td>\n",
       "      <td>169</td>\n",
       "      <td>259</td>\n",
       "      <td>272</td>\n",
       "      <td>501</td>\n",
       "      <td>287</td>\n",
       "      <td>1007</td>\n",
       "      <td>852</td>\n",
       "      <td>...</td>\n",
       "      <td>0</td>\n",
       "      <td>0</td>\n",
       "      <td>0</td>\n",
       "      <td>1</td>\n",
       "      <td>0</td>\n",
       "      <td>0</td>\n",
       "      <td>1</td>\n",
       "      <td>0</td>\n",
       "      <td>0</td>\n",
       "      <td>0</td>\n",
       "    </tr>\n",
       "    <tr>\n",
       "      <th>9.0</th>\n",
       "      <td>0</td>\n",
       "      <td>2</td>\n",
       "      <td>1</td>\n",
       "      <td>7</td>\n",
       "      <td>4</td>\n",
       "      <td>11</td>\n",
       "      <td>14</td>\n",
       "      <td>9</td>\n",
       "      <td>35</td>\n",
       "      <td>30</td>\n",
       "      <td>...</td>\n",
       "      <td>0</td>\n",
       "      <td>0</td>\n",
       "      <td>0</td>\n",
       "      <td>0</td>\n",
       "      <td>0</td>\n",
       "      <td>0</td>\n",
       "      <td>0</td>\n",
       "      <td>0</td>\n",
       "      <td>0</td>\n",
       "      <td>0</td>\n",
       "    </tr>\n",
       "    <tr>\n",
       "      <th>10.0</th>\n",
       "      <td>1</td>\n",
       "      <td>8</td>\n",
       "      <td>10</td>\n",
       "      <td>27</td>\n",
       "      <td>64</td>\n",
       "      <td>43</td>\n",
       "      <td>96</td>\n",
       "      <td>15</td>\n",
       "      <td>55</td>\n",
       "      <td>18</td>\n",
       "      <td>...</td>\n",
       "      <td>0</td>\n",
       "      <td>0</td>\n",
       "      <td>0</td>\n",
       "      <td>0</td>\n",
       "      <td>0</td>\n",
       "      <td>0</td>\n",
       "      <td>0</td>\n",
       "      <td>0</td>\n",
       "      <td>0</td>\n",
       "      <td>0</td>\n",
       "    </tr>\n",
       "    <tr>\n",
       "      <th>11.0</th>\n",
       "      <td>0</td>\n",
       "      <td>0</td>\n",
       "      <td>1</td>\n",
       "      <td>1</td>\n",
       "      <td>2</td>\n",
       "      <td>0</td>\n",
       "      <td>0</td>\n",
       "      <td>1</td>\n",
       "      <td>2</td>\n",
       "      <td>1</td>\n",
       "      <td>...</td>\n",
       "      <td>0</td>\n",
       "      <td>0</td>\n",
       "      <td>0</td>\n",
       "      <td>0</td>\n",
       "      <td>0</td>\n",
       "      <td>0</td>\n",
       "      <td>0</td>\n",
       "      <td>0</td>\n",
       "      <td>0</td>\n",
       "      <td>0</td>\n",
       "    </tr>\n",
       "    <tr>\n",
       "      <th>12.0</th>\n",
       "      <td>1</td>\n",
       "      <td>13</td>\n",
       "      <td>11</td>\n",
       "      <td>31</td>\n",
       "      <td>71</td>\n",
       "      <td>33</td>\n",
       "      <td>126</td>\n",
       "      <td>23</td>\n",
       "      <td>92</td>\n",
       "      <td>17</td>\n",
       "      <td>...</td>\n",
       "      <td>0</td>\n",
       "      <td>0</td>\n",
       "      <td>0</td>\n",
       "      <td>0</td>\n",
       "      <td>0</td>\n",
       "      <td>0</td>\n",
       "      <td>0</td>\n",
       "      <td>0</td>\n",
       "      <td>0</td>\n",
       "      <td>0</td>\n",
       "    </tr>\n",
       "    <tr>\n",
       "      <th>13.0</th>\n",
       "      <td>1</td>\n",
       "      <td>0</td>\n",
       "      <td>0</td>\n",
       "      <td>1</td>\n",
       "      <td>2</td>\n",
       "      <td>2</td>\n",
       "      <td>1</td>\n",
       "      <td>2</td>\n",
       "      <td>7</td>\n",
       "      <td>6</td>\n",
       "      <td>...</td>\n",
       "      <td>0</td>\n",
       "      <td>0</td>\n",
       "      <td>0</td>\n",
       "      <td>0</td>\n",
       "      <td>0</td>\n",
       "      <td>0</td>\n",
       "      <td>0</td>\n",
       "      <td>0</td>\n",
       "      <td>0</td>\n",
       "      <td>0</td>\n",
       "    </tr>\n",
       "  </tbody>\n",
       "</table>\n",
       "<p>13 rows × 62 columns</p>\n",
       "</div>"
      ],
      "text/plain": [
       "V9892  4.0   5.0   6.0   7.0   8.0   9.0   10.0  11.0  12.0  13.0  ...   57.0  \\\n",
       "V6007                                                              ...          \n",
       "1.0       6   123   229   962  1360  1002  2216   516  1828   757  ...      1   \n",
       "2.0       0    22    27    86   138   117   282    69   291   177  ...      0   \n",
       "3.0       1     6    10    23    49    45    79    34   105    74  ...      0   \n",
       "4.0      11   151   295  1244  2159  1983  5043  1675  5840  3549  ...      1   \n",
       "5.0       9    86   164   611  1006   953  2410  1047  3808  2980  ...      1   \n",
       "6.0       0    12    33    74   107    80   202    66   189    97  ...      0   \n",
       "7.0       1     9    15    79    70    70   186    57   273   171  ...      0   \n",
       "8.0       4    27    40   169   259   272   501   287  1007   852  ...      0   \n",
       "9.0       0     2     1     7     4    11    14     9    35    30  ...      0   \n",
       "10.0      1     8    10    27    64    43    96    15    55    18  ...      0   \n",
       "11.0      0     0     1     1     2     0     0     1     2     1  ...      0   \n",
       "12.0      1    13    11    31    71    33   126    23    92    17  ...      0   \n",
       "13.0      1     0     0     1     2     2     1     2     7     6  ...      0   \n",
       "\n",
       "V9892  58.0  59.0  60.0  61.0  62.0  66.0  68.0  79.0  80.0  \n",
       "V6007                                                        \n",
       "1.0       1     0     2     0     1     1     1     1     1  \n",
       "2.0       0     1     1     1     0     0     0     0     0  \n",
       "3.0       0     0     0     0     0     1     0     0     0  \n",
       "4.0       1     0     1     0     0     0     0     0     0  \n",
       "5.0       1     0     0     0     0     0     0     0     0  \n",
       "6.0       0     0     0     0     0     0     0     0     0  \n",
       "7.0       0     0     0     0     0     0     0     0     0  \n",
       "8.0       0     0     1     0     0     1     0     0     0  \n",
       "9.0       0     0     0     0     0     0     0     0     0  \n",
       "10.0      0     0     0     0     0     0     0     0     0  \n",
       "11.0      0     0     0     0     0     0     0     0     0  \n",
       "12.0      0     0     0     0     0     0     0     0     0  \n",
       "13.0      0     0     0     0     0     0     0     0     0  \n",
       "\n",
       "[13 rows x 62 columns]"
      ]
     },
     "execution_count": 100,
     "metadata": {},
     "output_type": "execute_result"
    }
   ],
   "source": [
    "pd.crosstab(V6007, V9892)"
   ]
  },
  {
   "cell_type": "code",
   "execution_count": 101,
   "metadata": {
    "collapsed": false
   },
   "outputs": [
    {
     "data": {
      "text/plain": [
       "0.29540553979984774"
      ]
     },
     "execution_count": 101,
     "metadata": {},
     "output_type": "execute_result"
    }
   ],
   "source": [
    "aposV6007.V6007.corr(aposV9892.V9892) #Correlação das variaveis V6007(Curso mais elevado que frequentou anteriormente) e V9892(Idade com que começou a trabalhar)."
   ]
  },
  {
   "cell_type": "code",
   "execution_count": 102,
   "metadata": {
    "collapsed": false
   },
   "outputs": [
    {
     "data": {
      "text/plain": [
       "1605.0245470599905"
      ]
     },
     "execution_count": 102,
     "metadata": {},
     "output_type": "execute_result"
    }
   ],
   "source": [
    "aposV4745.V4745.cov(aposV1252.V1252) #Covariancia das variaveis V4745(Nível de intrucao mais elevado) e V1252(Rendimento mensal da aposentadoria federal)."
   ]
  },
  {
   "cell_type": "code",
   "execution_count": 103,
   "metadata": {
    "collapsed": false
   },
   "outputs": [
    {
     "data": {
      "text/plain": [
       "0.49491590826240195"
      ]
     },
     "execution_count": 103,
     "metadata": {},
     "output_type": "execute_result"
    }
   ],
   "source": [
    "aposV4745.V4745.corr(aposV1252.V1252) #Correlação das variaveis V4745(Nível de intrucao mais elevado) e V1252(Rendimento mensal da aposentadoria federal)."
   ]
  },
  {
   "cell_type": "code",
   "execution_count": 104,
   "metadata": {
    "collapsed": false
   },
   "outputs": [
    {
     "data": {
      "text/plain": [
       "935.7658160904125"
      ]
     },
     "execution_count": 104,
     "metadata": {},
     "output_type": "execute_result"
    }
   ],
   "source": [
    "aposV4745.V4745.cov(aposV1255.V1255) #Covariancia das variaveis V4745(Nível de intrucao mais elevado) e V1255(Rendimento mensal da pensão federal)."
   ]
  },
  {
   "cell_type": "code",
   "execution_count": 105,
   "metadata": {
    "collapsed": false
   },
   "outputs": [
    {
     "data": {
      "text/plain": [
       "0.444111220350354"
      ]
     },
     "execution_count": 105,
     "metadata": {},
     "output_type": "execute_result"
    }
   ],
   "source": [
    "aposV4745.V4745.corr(aposV1255.V1255) #Correlação das variaveis V4745(Nível de intrucao mais elevado) e V1255(Rendimento mensal da pensão federal)."
   ]
  },
  {
   "cell_type": "code",
   "execution_count": 106,
   "metadata": {
    "collapsed": false
   },
   "outputs": [
    {
     "data": {
      "text/plain": [
       "4.2203416209174005"
      ]
     },
     "execution_count": 106,
     "metadata": {},
     "output_type": "execute_result"
    }
   ],
   "source": [
    "aposV4745.V4745.cov(aposV9892.V9892)"
   ]
  },
  {
   "cell_type": "code",
   "execution_count": 107,
   "metadata": {
    "collapsed": false
   },
   "outputs": [
    {
     "data": {
      "text/plain": [
       "0.43253865479885906"
      ]
     },
     "execution_count": 107,
     "metadata": {},
     "output_type": "execute_result"
    }
   ],
   "source": [
    "aposV4745.V4745.corr(aposV9892.V9892)"
   ]
  },
  {
   "cell_type": "markdown",
   "metadata": {},
   "source": [
    "    Assim como foi descrito no início, esta análise tinha como objetivo comprovar ou não a influencia de fatores como a idade com que o indivíduo começou a trabalhar, na sua renda de aposentado. Isto foi feito com a observação de outros fatores que poderiam influenciar na renda de um aposentado, como a quantidade de anos de estudo e seu nível de educação, partindo do principio que desta forma o indivíduo teria maiores oportunidades profissionais, alcançando tetos salariais mais altos que proporcionam aposentadorias mais fartas.\n",
    "    Através da análise numérica e gráfica realizada  acima, pode-se observar que os resultados obtidos diferem das expectativas iniciais. Foram obtidos valores de correlação na faixa de 0.29 até 0.49, isso representa valores baixos de relação entre as variaveis. Porém ao considerarmos a quantidade de pessoas analisadas nesta pesquisa, que gira em torno de 360.000, uma correlação, nos melhores casos, na casa de 0.49 é represativa dado o número expressivo de indivíduos envolvidos.\n",
    "    Portanto, através da análise podemos dizer que existe uma relação consideravel entre as variaveis descritas."
   ]
  }
 ],
 "metadata": {
  "anaconda-cloud": {},
  "kernelspec": {
   "display_name": "Python [Root]",
   "language": "python",
   "name": "Python [Root]"
  },
  "language_info": {
   "codemirror_mode": {
    "name": "ipython",
    "version": 3
   },
   "file_extension": ".py",
   "mimetype": "text/x-python",
   "name": "python",
   "nbconvert_exporter": "python",
   "pygments_lexer": "ipython3",
   "version": "3.5.2"
  }
 },
 "nbformat": 4,
 "nbformat_minor": 0
}
