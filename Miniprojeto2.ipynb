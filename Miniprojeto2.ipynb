{
 "cells": [
  {
   "cell_type": "markdown",
   "metadata": {},
   "source": [
    "# MiniProjeto 2 - Teorema do Limite Central\n",
    "\n",
    "## Objetivo\n",
    "\n",
    "O objetivo deste projeto é simular o TLC (Teorema do Limite Central). Seja:\n",
    "\n",
    "$$Y=\\frac{\\sum_{i=1}^nX_i}{n}$$\n",
    "\n",
    "Onde $X_i$ é uma amostra de **uma** distribuição qualquer. Se $X_i$ for iid (independente e identicamente distribuida), $Y$ será uma **NORMAL** $N(\\mu_y,\\sigma_y)$ onde:\n",
    "\n",
    "$$\\mu_y = \\mu_x$$\n",
    "$$\\sigma_y = \\frac{\\sigma_x}{\\sqrt{n}}$$\n",
    "\n",
    "O aluno deve realizar a simulação acima com 3 valores diferentes para n (2, 5 e 20). O resultado final esperado é um notebook que mostre e discorra sobre o resultado teórico e o obtido numericamente para diferentes parametrizações de n.\n",
    "\n",
    "Este projeto é individual.\n",
    "\n",
    "\n",
    "## O que deve ser feito\n",
    "\n",
    "1. Escolher uma distribuição qualquer, contínua ou discreta. \n",
    "2. Calcular o valor de Y para cada n. \n",
    "3. Comparar os valores de média e desvio padrão teóricos com os simulados de cada Y. \n",
    "4. Desenhar o histograma e o gráfico da pdf correspondente de cada Y.\n",
    "\n",
    "## Entregáveis esperados e datas\n",
    "\n",
    "Item | Data | Descrição\n",
    "---|---|---\n",
    "Entrega| 28/09/2016| Notebook completo com os itens descritos acima.\n"
   ]
  }
 ],
 "metadata": {
  "kernelspec": {
   "display_name": "Python 3",
   "language": "python",
   "name": "python3"
  },
  "language_info": {
   "codemirror_mode": {
    "name": "ipython",
    "version": 3
   },
   "file_extension": ".py",
   "mimetype": "text/x-python",
   "name": "python",
   "nbconvert_exporter": "python",
   "pygments_lexer": "ipython3",
   "version": "3.5.1"
  }
 },
 "nbformat": 4,
 "nbformat_minor": 0
}
