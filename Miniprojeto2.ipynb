{
 "cells": [
  {
   "cell_type": "markdown",
   "metadata": {},
   "source": [
    "# MiniProjeto 2 - Teorema do Limite Central\n",
    "\n",
    "## Objetivo\n",
    "\n",
    "O objetivo deste projeto é simular o TLC (Teorema do Limite Central). Seja:\n",
    "\n",
    "$$Y=\\frac{\\sum_{i=1}^nX_i}{n}$$\n",
    "\n",
    "Onde $X_i$ é uma amostra de **uma** distribuição qualquer. Se $X_i$ for iid (independente e identicamente distribuida), $Y$ será uma **NORMAL** $N(\\mu_y,\\sigma_y)$ onde:\n",
    "\n",
    "$$\\mu_y = \\mu_x$$\n",
    "$$\\sigma_y = \\frac{\\sigma_x}{\\sqrt{n}}$$\n",
    "\n",
    "O aluno deve realizar a simulação acima com 3 valores diferentes para n (2, 5 e 20). O resultado final esperado é um notebook que mostre e discorra sobre o resultado teórico e o obtido numericamente para diferentes parametrizações de n.\n",
    "\n",
    "Este projeto é individual.\n",
    "\n",
    "\n",
    "## O que deve ser feito\n",
    "\n",
    "1. Escolher uma distribuição qualquer, contínua ou discreta. \n",
    "2. Calcular o valor de Y para cada n. \n",
    "3. Comparar os valores de média e desvio padrão teóricos com os simulados de cada Y. \n",
    "4. Desenhar o histograma e o gráfico da pdf correspondente de cada Y.\n",
    "\n",
    "## Entregáveis esperados e datas\n",
    "\n",
    "Item | Data | Descrição\n",
    "---|---|---\n",
    "Entrega| 28/09/2016| Notebook completo com os itens descritos acima.\n"
   ]
  },
  {
   "cell_type": "code",
   "execution_count": 12,
   "metadata": {
    "collapsed": false
   },
   "outputs": [],
   "source": [
    "%matplotlib inline\n",
    "\n",
    "import os\n",
    "import pandas as pd\n",
    "import matplotlib.pyplot as plt\n",
    "from pandas.tools.plotting import scatter_matrix\n",
    "import numpy as np\n",
    "from scipy.stats import *\n",
    "from math import sqrt\n",
    "from scipy import linspace\n",
    "os.chdir (\"C:\\\\Users\\\\Avell\\\\Desktop\\\\Insper\\\\3˚ Semestre\\\\Ciencia_dos_Dados_DP\\\\Mini Projeto 2\")"
   ]
  },
  {
   "cell_type": "code",
   "execution_count": 22,
   "metadata": {
    "collapsed": false
   },
   "outputs": [
    {
     "name": "stdout",
     "output_type": "stream",
     "text": [
      "média teórica:  2\n",
      "desv teórica:  1.0\n",
      "média observado:  1.9938\n",
      "desv observado:  0.992628611314\n"
     ]
    },
    {
     "data": {
      "text/plain": [
       "<matplotlib.axes._subplots.AxesSubplot at 0x25c69f48160>"
      ]
     },
     "execution_count": 22,
     "metadata": {},
     "output_type": "execute_result"
    },
    {
     "data": {
      "image/png": "[encoded data removed]",
      "text/plain": [
       "<matplotlib.figure.Figure at 0x25c69f6c748>"
      ]
     },
     "metadata": {},
     "output_type": "display_data"
    }
   ],
   "source": [
    "n = 2\n",
    "lamb = 2\n",
    "x = poisson.rvs(lamb, size=10000)\n",
    "y = x\n",
    "\n",
    "\n",
    "y += poisson.rvs(lamb, size=10000)\n",
    "\n",
    "\n",
    "y = y/n\n",
    "\n",
    "pd.Series(y).hist(normed=True)\n",
    "print(\"média teórica: \", lamb)\n",
    "print(\"desv teórica: \", sqrt(lamb)/sqrt(n))\n",
    "print(\"média observado: \", y.mean())\n",
    "print(\"desv observado: \", y.std())\n",
    "\n",
    "#time = np.arange(0, 10000, n)\n",
    "\n",
    "#plt.plot(norm.pdf(time, loc = lamb, scale= sqrt(lamb)/sqrt(n)))\n",
    "\n",
    "x = linspace(norm.ppf(0.01, lamb, sqrt(lamb)/sqrt(n)), norm.ppf(0.99, lamb, sqrt(lamb)/sqrt(n)), 10000)\n",
    "pd.Series(norm.pdf(x, lamb, sqrt(lamb)/sqrt(n)), index=x).plot()"
   ]
  },
  {
   "cell_type": "code",
   "execution_count": 23,
   "metadata": {
    "collapsed": false
   },
   "outputs": [
    {
     "name": "stdout",
     "output_type": "stream",
     "text": [
      "média teórica:  2\n",
      "desv teórica:  0.4472135954999579\n",
      "média observado:  1.98876\n",
      "desv observado:  0.447642337587\n"
     ]
    },
    {
     "data": {
      "text/plain": [
       "<matplotlib.axes._subplots.AxesSubplot at 0x25c6b65d3c8>"
      ]
     },
     "execution_count": 23,
     "metadata": {},
     "output_type": "execute_result"
    },
    {
     "data": {
      "image/png": "[encoded data removed]",
      "text/plain": [
       "<matplotlib.figure.Figure at 0x25c69f71d30>"
      ]
     },
     "metadata": {},
     "output_type": "display_data"
    }
   ],
   "source": [
    "# n = 10\n",
    "n = 10\n",
    "lamb = 2\n",
    "x = poisson.rvs(lamb, size=10000)\n",
    "y = x\n",
    "\n",
    "\n",
    "\n",
    "\n",
    "for i in range(1, n):\n",
    "    y += poisson.rvs(lamb, size=10000)\n",
    "\n",
    "y = y/n\n",
    "\n",
    "pd.Series(y).hist(normed=True)\n",
    "print(\"média teórica: \", lamb)\n",
    "print(\"desv teórica: \", sqrt(lamb)/sqrt(n))\n",
    "print(\"média observado: \", y.mean())\n",
    "print(\"desv observado: \", y.std())\n",
    "\n",
    "#n = norm.rvs(lamb, size=10000)\n",
    "#print(n)\n",
    "\n",
    "#time = np.arange(0, 10000, n)\n",
    "\n",
    "#plt.plot(norm.pdf(time, loc = lamb, scale= sqrt(lamb)/sqrt(n)))\n",
    "x = linspace(norm.ppf(0.01, lamb, sqrt(lamb)/sqrt(n)), norm.ppf(0.99, lamb, sqrt(lamb)/sqrt(n)), 10000)\n",
    "pd.Series(norm.pdf(x, lamb, sqrt(lamb)/sqrt(n)), index=x).plot()"
   ]
  },
  {
   "cell_type": "code",
   "execution_count": 24,
   "metadata": {
    "collapsed": false
   },
   "outputs": [
    {
     "name": "stdout",
     "output_type": "stream",
     "text": [
      "média teórica:  2\n",
      "desv teórica:  0.22360679774997896\n",
      "média observado:  2.00456\n",
      "desv observado:  0.222909637297\n"
     ]
    },
    {
     "data": {
      "text/plain": [
       "<matplotlib.axes._subplots.AxesSubplot at 0x25c6b11b198>"
      ]
     },
     "execution_count": 24,
     "metadata": {},
     "output_type": "execute_result"
    },
    {
     "data": {
      "image/png": "[encoded data removed]",
      "text/plain": [
       "<matplotlib.figure.Figure at 0x25c6b26fb00>"
      ]
     },
     "metadata": {},
     "output_type": "display_data"
    }
   ],
   "source": [
    "#n = 40\n",
    "n = 40\n",
    "lamb = 2\n",
    "x = poisson.rvs(lamb, size=10000)\n",
    "y = x\n",
    "\n",
    "\n",
    "\n",
    "\n",
    "for i in range(1, n):\n",
    "    y += poisson.rvs(lamb, size=10000)\n",
    "\n",
    "y = y/n\n",
    "\n",
    "pd.Series(y).hist(normed=True)\n",
    "print(\"média teórica: \", lamb)\n",
    "print(\"desv teórica: \", sqrt(lamb)/sqrt(n))\n",
    "print(\"média observado: \", y.mean())\n",
    "print(\"desv observado: \", y.std())\n",
    "\n",
    "\n",
    "x = linspace(norm.ppf(0.01, lamb, sqrt(lamb)/sqrt(n)), norm.ppf(0.99, lamb, sqrt(lamb)/sqrt(n)), 10000)\n",
    "pd.Series(norm.pdf(x, lamb, sqrt(lamb)/sqrt(n)), index=x).plot()"
   ]
  },
  {
   "cell_type": "code",
   "execution_count": null,
   "metadata": {
    "collapsed": false
   },
   "outputs": [],
   "source": [
    "mu, sigma = 0, 0.1 # mean and standard deviation\n",
    "s = np.random.normal(mu, sigma, 1000)\n",
    "\n",
    "\n",
    "abs(mu - np.mean(s)) < 0.01\n",
    "\n",
    "\n",
    "\n",
    "\n",
    "abs(sigma - np.std(s, ddof=1)) < 0.01\n",
    "\n",
    "\n",
    "\n",
    "count, bins, ignored = plt.hist(s, 30, normed=True)\n",
    "plt.plot(bins, 1/(sigma * np.sqrt(2 * np.pi))\n",
    "np.exp( - (bins - mu)**2 / (2 * sigma**2) ),linewidth=2, color='r')\n",
    "plt.show()\n",
    "\n"
   ]
  },
  {
   "cell_type": "code",
   "execution_count": null,
   "metadata": {
    "collapsed": true
   },
   "outputs": [],
   "source": []
  },
  {
   "cell_type": "code",
   "execution_count": null,
   "metadata": {
    "collapsed": true
   },
   "outputs": [],
   "source": []
  },
  {
   "cell_type": "code",
   "execution_count": null,
   "metadata": {
    "collapsed": true
   },
   "outputs": [],
   "source": []
  },
  {
   "cell_type": "code",
   "execution_count": null,
   "metadata": {
    "collapsed": true
   },
   "outputs": [],
   "source": []
  },
  {
   "cell_type": "code",
   "execution_count": null,
   "metadata": {
    "collapsed": true
   },
   "outputs": [],
   "source": []
  },
  {
   "cell_type": "code",
   "execution_count": null,
   "metadata": {
    "collapsed": false
   },
   "outputs": [],
   "source": [
    "#from scipy.stats import poisson\n",
    "#>>> import matplotlib.pyplot as plt\n",
    "#>>> fig, ax = plt.subplots(1, 1)\n",
    "#>>> mu = 2\n",
    "#>>> mean, var, skew, kurt = poisson.stats(mu, moments='mvsk')\n",
    "#>>> x = np.arange(poisson.ppf(0.01, mu), poisson.ppf(0.99, mu))\n",
    "#>>> ax.plot(x, poisson.pmf(x, mu), 'bo', ms=8, label='poisson pmf')\n",
    "#>>> ax.vlines(x, 0, poisson.pmf(x, mu), colors='b', lw=5, alpha=0.5)\n",
    "#>>> rv = poisson(mu)\n",
    "#>>> ax.vlines(x, 0, rv.pmf(x), colors='k', linestyles='-', lw=1,label='frozen pmf')\n",
    "#>>> ax.legend(loc='best', frameon=False)\n",
    "#>>> plt.show()"
   ]
  },
  {
   "cell_type": "code",
   "execution_count": null,
   "metadata": {
    "collapsed": false
   },
   "outputs": [],
   "source": [
    "#sigma = mu**0.5\n",
    "#sigma"
   ]
  },
  {
   "cell_type": "code",
   "execution_count": null,
   "metadata": {
    "collapsed": true
   },
   "outputs": [],
   "source": []
  }
 ],
 "metadata": {
  "anaconda-cloud": {},
  "kernelspec": {
   "display_name": "Python [Root]",
   "language": "python",
   "name": "Python [Root]"
  },
  "language_info": {
   "codemirror_mode": {
    "name": "ipython",
    "version": 3
   },
   "file_extension": ".py",
   "mimetype": "text/x-python",
   "name": "python",
   "nbconvert_exporter": "python",
   "pygments_lexer": "ipython3",
   "version": "3.5.2"
  }
 },
 "nbformat": 4,
 "nbformat_minor": 0
}
