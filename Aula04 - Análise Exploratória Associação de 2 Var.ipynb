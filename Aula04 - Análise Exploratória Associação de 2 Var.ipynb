{
 "cells": [
  {
   "cell_type": "markdown",
   "metadata": {},
   "source": [
    "#Encontro 05\n",
    "\n",
    "**Referência de Leitura:**\n",
    "1. Leitura prévia necessária: Montgomery et al (5ª. Edição): Seção 2.6 (pág. 46) e Exemplo 6.1 (pág. 306).\n",
    "\n",
    "**Hoje:**\n",
    "1. Analisar, graficamente, a associação entre duas variáveis quantitativas.\n",
    "2. Compreender a medida nomeada coeficiente de covariância, no que tange ao significado da fórmula e uso do valor resultante para descrever associação entre variáveis.\n",
    "3. Avaliar vantagens e desvantagens do coeficiente de covariância e buscar alternativa que compense seu mau uso (coeficiente de correlação).\n",
    "4. Interpretar, descritivamente, valores dos coeficientes linear e angular para qualquer problema prático.\n",
    "5. Fechamento do conteúdo.\n",
    "\n",
    "**Próxima aula:**\n",
    "1. Estudo para o Projeto 1! - Manipular a PNAD"
   ]
  },
  {
   "cell_type": "markdown",
   "metadata": {},
   "source": [
    "___\n",
    "Inicialmente, a base de dados Mundo.txt será explorada com intuito de entender a associação entre algumas de suas variáveis quantitativas. Esse conjunto de dados contém alguns indicadores socioeconômicos referentes ao ano de 2008 para 85 países, os quais são:  \n",
    "X1: população em milhares de habitantes  \n",
    "X2: densidade populacional  \n",
    "X3: % de população urbana  \n",
    "X4: expectativa de vida feminina  \n",
    "X5: expectativa de vida masculina  \n",
    "X6: crescimento populacional  \n",
    "X7: mortalidade infantil  \n",
    "X8: PIB per capita  \n",
    "X9: % de mulheres alfabetizadas  \n",
    "X10: população em 100.000 habitantes  \n",
    "\n",
    "Os comandos abaixo abrem a base de dados:"
   ]
  },
  {
   "cell_type": "code",
   "execution_count": 1,
   "metadata": {
    "collapsed": false
   },
   "outputs": [],
   "source": [
    "%matplotlib inline\n",
    "\n",
    "import os\n",
    "import pandas as pd\n"
   ]
  },
  {
   "cell_type": "code",
   "execution_count": 2,
   "metadata": {
    "collapsed": false
   },
   "outputs": [
    {
     "data": {
      "text/html": [
       "<div>\n",
       "<table border=\"1\" class=\"dataframe\">\n",
       "  <thead>\n",
       "    <tr style=\"text-align: right;\">\n",
       "      <th></th>\n",
       "      <th>Mundo</th>\n",
       "      <th>X1</th>\n",
       "      <th>X2</th>\n",
       "      <th>X3</th>\n",
       "      <th>X4</th>\n",
       "      <th>X5</th>\n",
       "      <th>X6</th>\n",
       "      <th>X7</th>\n",
       "      <th>X8</th>\n",
       "      <th>X9</th>\n",
       "      <th>X10</th>\n",
       "    </tr>\n",
       "  </thead>\n",
       "  <tbody>\n",
       "    <tr>\n",
       "      <th>0</th>\n",
       "      <td>1</td>\n",
       "      <td>20500</td>\n",
       "      <td>25</td>\n",
       "      <td>18</td>\n",
       "      <td>44</td>\n",
       "      <td>45</td>\n",
       "      <td>3</td>\n",
       "      <td>168</td>\n",
       "      <td>205</td>\n",
       "      <td>14</td>\n",
       "      <td>0.21</td>\n",
       "    </tr>\n",
       "    <tr>\n",
       "      <th>1</th>\n",
       "      <td>2</td>\n",
       "      <td>33900</td>\n",
       "      <td>12</td>\n",
       "      <td>86</td>\n",
       "      <td>75</td>\n",
       "      <td>68</td>\n",
       "      <td>1</td>\n",
       "      <td>26</td>\n",
       "      <td>3408</td>\n",
       "      <td>95</td>\n",
       "      <td>0.34</td>\n",
       "    </tr>\n",
       "    <tr>\n",
       "      <th>2</th>\n",
       "      <td>3</td>\n",
       "      <td>3700</td>\n",
       "      <td>126</td>\n",
       "      <td>68</td>\n",
       "      <td>75</td>\n",
       "      <td>68</td>\n",
       "      <td>1</td>\n",
       "      <td>27</td>\n",
       "      <td>5000</td>\n",
       "      <td>100</td>\n",
       "      <td>0.04</td>\n",
       "    </tr>\n",
       "    <tr>\n",
       "      <th>3</th>\n",
       "      <td>4</td>\n",
       "      <td>17800</td>\n",
       "      <td>2</td>\n",
       "      <td>85</td>\n",
       "      <td>80</td>\n",
       "      <td>74</td>\n",
       "      <td>1</td>\n",
       "      <td>7</td>\n",
       "      <td>16848</td>\n",
       "      <td>100</td>\n",
       "      <td>0.18</td>\n",
       "    </tr>\n",
       "    <tr>\n",
       "      <th>4</th>\n",
       "      <td>5</td>\n",
       "      <td>7400</td>\n",
       "      <td>86</td>\n",
       "      <td>54</td>\n",
       "      <td>75</td>\n",
       "      <td>67</td>\n",
       "      <td>1</td>\n",
       "      <td>35</td>\n",
       "      <td>3000</td>\n",
       "      <td>100</td>\n",
       "      <td>0.07</td>\n",
       "    </tr>\n",
       "  </tbody>\n",
       "</table>\n",
       "</div>"
      ],
      "text/plain": [
       "   Mundo     X1   X2  X3  X4  X5  X6   X7     X8   X9   X10\n",
       "0      1  20500   25  18  44  45   3  168    205   14  0.21\n",
       "1      2  33900   12  86  75  68   1   26   3408   95  0.34\n",
       "2      3   3700  126  68  75  68   1   27   5000  100  0.04\n",
       "3      4  17800    2  85  80  74   1    7  16848  100  0.18\n",
       "4      5   7400   86  54  75  67   1   35   3000  100  0.07"
      ]
     },
     "execution_count": 2,
     "metadata": {},
     "output_type": "execute_result"
    }
   ],
   "source": [
    "Mundo = pd.read_table('Mundo.txt')\n",
    "Mundo.head()"
   ]
  },
  {
   "cell_type": "markdown",
   "metadata": {},
   "source": [
    "Faça o histograma e calcule a média e a mediana da variável X3. Dá para inferir algo sobre a sua distribuição?"
   ]
  },
  {
   "cell_type": "code",
   "execution_count": null,
   "metadata": {
    "collapsed": false
   },
   "outputs": [],
   "source": []
  },
  {
   "cell_type": "markdown",
   "metadata": {},
   "source": [
    "Calcule a variância e desvio padrão de X3. Discorra sobre a diferença entre as duas medidas. Como elas afetam a distribuição?"
   ]
  },
  {
   "cell_type": "code",
   "execution_count": null,
   "metadata": {
    "collapsed": true
   },
   "outputs": [],
   "source": []
  },
  {
   "cell_type": "markdown",
   "metadata": {},
   "source": [
    "___\n",
    "A análise bidimensional tem como objetivo encontrar associação ou relação entre as variáveis quantitativas. Essas relações podem ser identificadas através de gráficos ou medidas numéricas. Entende-se por associação a mudança de opinião sobre o comportamento de uma variável na presença de informação sobre a segunda variável.\n",
    "\n",
    "1) Um gráfico de dispersão pode ser utilizado para compreender a relação (ou seja, associação) entre duas variáveis quantitativas. Faça o gráfico de dispersão entre X3 e X4, X3 e X5, X3 e X6, X3 e X7. Escolha e interprete um dos gráficos."
   ]
  },
  {
   "cell_type": "code",
   "execution_count": null,
   "metadata": {
    "collapsed": false
   },
   "outputs": [],
   "source": []
  },
  {
   "cell_type": "markdown",
   "metadata": {},
   "source": [
    "___\n",
    "O gráfico de dispersão é uma ferramenta descritiva simples, porém útil para examinar uma possível relação entre variáveis quantitativas. A literatura estatística apresenta uma medida, nomeada de covariância:\n",
    "\n",
    "$$\\mathrm{Cov}(X, Y) = \\frac{1}{n} \\sum^n_{i=1}(x_i - \\overline{x})(y_i - \\overline{y}) \\quad\\quad\\quad\\quad (1)$$"
   ]
  },
  {
   "cell_type": "markdown",
   "metadata": {},
   "source": [
    "2) Calcule a covariância dos pares utilizados no item 1. O que pode ser dito sobre os valores obtidos? Os valores dizem algo em magnitude? Contraste as interpretações gráficas e os resultados das covariâncias."
   ]
  },
  {
   "cell_type": "code",
   "execution_count": null,
   "metadata": {
    "collapsed": true
   },
   "outputs": [],
   "source": []
  },
  {
   "cell_type": "markdown",
   "metadata": {},
   "source": [
    "3) *Ignorando o sinal*, as variáveis Mortalidade Infantil (`X7`) e %População Urbana (`X3`) possui um coeficiente de covariância maior, mas a associação não parece ser mais forte, por exemplo, do que a observada entre as variáveis Expectativa de vida feminina (`X4`) e %População Urbana (`X3`). Achar outra medida e comparar com o resultado da covariância."
   ]
  },
  {
   "cell_type": "code",
   "execution_count": null,
   "metadata": {
    "collapsed": false
   },
   "outputs": [],
   "source": []
  },
  {
   "cell_type": "markdown",
   "metadata": {},
   "source": [
    "___\n",
    "4) Ajuste de reta apenas para interpretação dos coeficientes:\n",
    "\n",
    "Para um novo país (que não faz parte da amostra), sabe-se que o % de população urbana é igual a 73. \n",
    "Qual deve ser a expectativa de vida feminina esperada para esse novo país?\n",
    "\n",
    "A solução pode ser pelo ajuste de uma reta: no caso, uma reta depende de um coeficiente linear (*a*) e de um coeficiente angular (*b*) e pode ser matematicamente expressa por:\n",
    "\n",
    "$$\\hat{y} = a + bx$$\n",
    "\n",
    "Ainda sem entrar em detalhes, esses coeficientes devem ser obtidos a partir dos dados utilizando algumas medidas-resumo pelas seguintes expressões:\n",
    "\n",
    "$$b = \\frac{\\mathrm{Cov}(X, Y)}{\\mathrm{Var}(X)}$$\n",
    "\n",
    "$$a = \\overline{y} - b\\overline{x}$$\n",
    "\n",
    "Calcule esses coeficientes linear e angular e interprete-os para o problema em questão. Coloque a reta no gráfico de dispersão feito acima.\n",
    "\n",
    "Considerando essa reta ajustada, qual deve ser a expectativa de vida feminina em um país com 73% da população vivendo na região urbana?"
   ]
  },
  {
   "cell_type": "code",
   "execution_count": null,
   "metadata": {
    "collapsed": false
   },
   "outputs": [],
   "source": []
  },
  {
   "cell_type": "markdown",
   "metadata": {
    "collapsed": true
   },
   "source": [
    "\n",
    "\n",
    "\n",
    "\n",
    "\n",
    "\n",
    "\n",
    "\n",
    "\n",
    "\n",
    "\n",
    "\n",
    "\n",
    "\n"
   ]
  }
 ],
 "metadata": {
  "kernelspec": {
   "display_name": "Python 3",
   "language": "python",
   "name": "python3"
  },
  "language_info": {
   "codemirror_mode": {
    "name": "ipython",
    "version": 3
   },
   "file_extension": ".py",
   "mimetype": "text/x-python",
   "name": "python",
   "nbconvert_exporter": "python",
   "pygments_lexer": "ipython3",
   "version": "3.5.1"
  }
 },
 "nbformat": 4,
 "nbformat_minor": 0
}
