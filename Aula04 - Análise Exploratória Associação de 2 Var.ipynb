{
 "cells": [
  {
   "cell_type": "markdown",
   "metadata": {},
   "source": [
    "#Encontro 05\n",
    "\n",
    "**Referência de Leitura:**\n",
    "1. Leitura prévia necessária: Montgomery et al (5ª. Edição): Seção 2.6 (pág. 46) e Exemplo 6.1 (pág. 306).\n",
    "\n",
    "**Hoje:**\n",
    "1. Analisar, graficamente, a associação entre duas variáveis quantitativas.\n",
    "2. Compreender a medida nomeada coeficiente de covariância, no que tange ao significado da fórmula e uso do valor resultante para descrever associação entre variáveis.\n",
    "3. Avaliar vantagens e desvantagens do coeficiente de covariância e buscar alternativa que compense seu mau uso (coeficiente de correlação).\n",
    "4. Interpretar, descritivamente, valores dos coeficientes linear e angular para qualquer problema prático.\n",
    "5. Fechamento do conteúdo.\n",
    "\n",
    "**Próxima aula:**\n",
    "1. Estudo para o Projeto 1! - Manipular a PNAD"
   ]
  },
  {
   "cell_type": "markdown",
   "metadata": {},
   "source": [
    "___\n",
    "Inicialmente, a base de dados Mundo.txt será explorada com intuito de entender a associação entre algumas de suas variáveis quantitativas. Esse conjunto de dados contém alguns indicadores socioeconômicos referentes ao ano de 2008 para 85 países, os quais são:  \n",
    "X1: população em milhares de habitantes  \n",
    "X2: densidade populacional  \n",
    "X3: % de população urbana  \n",
    "X4: expectativa de vida feminina  \n",
    "X5: expectativa de vida masculina  \n",
    "X6: crescimento populacional  \n",
    "X7: mortalidade infantil  \n",
    "X8: PIB per capita  \n",
    "X9: % de mulheres alfabetizadas  \n",
    "X10: população em 100.000 habitantes  \n",
    "\n",
    "Os comandos abaixo abrem a base de dados:"
   ]
  },
  {
   "cell_type": "code",
   "execution_count": 2,
   "metadata": {
    "collapsed": false
   },
   "outputs": [],
   "source": [
    "%matplotlib inline\n",
    "\n",
    "import os\n",
    "import pandas as pd\n",
    "import matplotlib as plt\n",
    "from pandas.tools.plotting import scatter_matrix\n",
    "import numpy as np\n",
    "os.chdir (\"C:\\\\Users\\\\Avell\\\\Desktop\\\\Insper\\\\3˚ Semestre\\\\Ciencia_dos_Dados_DP\")"
   ]
  },
  {
   "cell_type": "code",
   "execution_count": 3,
   "metadata": {
    "collapsed": false
   },
   "outputs": [
    {
     "data": {
      "text/html": [
       "<div>\n",
       "<table border=\"1\" class=\"dataframe\">\n",
       "  <thead>\n",
       "    <tr style=\"text-align: right;\">\n",
       "      <th></th>\n",
       "      <th>Mundo</th>\n",
       "      <th>X1</th>\n",
       "      <th>X2</th>\n",
       "      <th>X3</th>\n",
       "      <th>X4</th>\n",
       "      <th>X5</th>\n",
       "      <th>X6</th>\n",
       "      <th>X7</th>\n",
       "      <th>X8</th>\n",
       "      <th>X9</th>\n",
       "      <th>X10</th>\n",
       "    </tr>\n",
       "  </thead>\n",
       "  <tbody>\n",
       "    <tr>\n",
       "      <th>0</th>\n",
       "      <td>1</td>\n",
       "      <td>20500</td>\n",
       "      <td>25</td>\n",
       "      <td>18</td>\n",
       "      <td>44</td>\n",
       "      <td>45</td>\n",
       "      <td>3</td>\n",
       "      <td>168</td>\n",
       "      <td>205</td>\n",
       "      <td>14</td>\n",
       "      <td>0.21</td>\n",
       "    </tr>\n",
       "    <tr>\n",
       "      <th>1</th>\n",
       "      <td>2</td>\n",
       "      <td>33900</td>\n",
       "      <td>12</td>\n",
       "      <td>86</td>\n",
       "      <td>75</td>\n",
       "      <td>68</td>\n",
       "      <td>1</td>\n",
       "      <td>26</td>\n",
       "      <td>3408</td>\n",
       "      <td>95</td>\n",
       "      <td>0.34</td>\n",
       "    </tr>\n",
       "    <tr>\n",
       "      <th>2</th>\n",
       "      <td>3</td>\n",
       "      <td>3700</td>\n",
       "      <td>126</td>\n",
       "      <td>68</td>\n",
       "      <td>75</td>\n",
       "      <td>68</td>\n",
       "      <td>1</td>\n",
       "      <td>27</td>\n",
       "      <td>5000</td>\n",
       "      <td>100</td>\n",
       "      <td>0.04</td>\n",
       "    </tr>\n",
       "    <tr>\n",
       "      <th>3</th>\n",
       "      <td>4</td>\n",
       "      <td>17800</td>\n",
       "      <td>2</td>\n",
       "      <td>85</td>\n",
       "      <td>80</td>\n",
       "      <td>74</td>\n",
       "      <td>1</td>\n",
       "      <td>7</td>\n",
       "      <td>16848</td>\n",
       "      <td>100</td>\n",
       "      <td>0.18</td>\n",
       "    </tr>\n",
       "    <tr>\n",
       "      <th>4</th>\n",
       "      <td>5</td>\n",
       "      <td>7400</td>\n",
       "      <td>86</td>\n",
       "      <td>54</td>\n",
       "      <td>75</td>\n",
       "      <td>67</td>\n",
       "      <td>1</td>\n",
       "      <td>35</td>\n",
       "      <td>3000</td>\n",
       "      <td>100</td>\n",
       "      <td>0.07</td>\n",
       "    </tr>\n",
       "  </tbody>\n",
       "</table>\n",
       "</div>"
      ],
      "text/plain": [
       "   Mundo     X1   X2  X3  X4  X5  X6   X7     X8   X9   X10\n",
       "0      1  20500   25  18  44  45   3  168    205   14  0.21\n",
       "1      2  33900   12  86  75  68   1   26   3408   95  0.34\n",
       "2      3   3700  126  68  75  68   1   27   5000  100  0.04\n",
       "3      4  17800    2  85  80  74   1    7  16848  100  0.18\n",
       "4      5   7400   86  54  75  67   1   35   3000  100  0.07"
      ]
     },
     "execution_count": 3,
     "metadata": {},
     "output_type": "execute_result"
    }
   ],
   "source": [
    "Mundo = pd.read_table('Mundo.txt')\n",
    "Mundo.head()"
   ]
  },
  {
   "cell_type": "markdown",
   "metadata": {},
   "source": [
    "Faça o histograma e calcule a média e a mediana da variável X3. Dá para inferir algo sobre a sua distribuição?"
   ]
  },
  {
   "cell_type": "code",
   "execution_count": 4,
   "metadata": {
    "collapsed": false
   },
   "outputs": [
    {
     "data": {
      "text/plain": [
       "<matplotlib.axes._subplots.AxesSubplot at 0x215a5a734e0>"
      ]
     },
     "execution_count": 4,
     "metadata": {},
     "output_type": "execute_result"
    },
    {
     "data": {
      "image/png": "[encoded data removed]",
      "text/plain": [
       "<matplotlib.figure.Figure at 0x215a2aff2e8>"
      ]
     },
     "metadata": {},
     "output_type": "display_data"
    }
   ],
   "source": [
    "Mundo.X3.hist()"
   ]
  },
  {
   "cell_type": "code",
   "execution_count": 5,
   "metadata": {
    "collapsed": false
   },
   "outputs": [
    {
     "data": {
      "text/plain": [
       "53.21176470588235"
      ]
     },
     "execution_count": 5,
     "metadata": {},
     "output_type": "execute_result"
    }
   ],
   "source": [
    "Mundo.X3.mean()"
   ]
  },
  {
   "cell_type": "code",
   "execution_count": 6,
   "metadata": {
    "collapsed": false
   },
   "outputs": [
    {
     "data": {
      "text/plain": [
       "54.0"
      ]
     },
     "execution_count": 6,
     "metadata": {},
     "output_type": "execute_result"
    }
   ],
   "source": [
    "Mundo.X3.median()"
   ]
  },
  {
   "cell_type": "markdown",
   "metadata": {},
   "source": [
    "A distribuição tem média, mediana e provavelmente a moda, tem valores iguais, dificultando a analise dos dados sem outros valores como desvio padrão, variancia ou auxilio gráfico."
   ]
  },
  {
   "cell_type": "markdown",
   "metadata": {},
   "source": [
    "Calcule a variância e desvio padrão de X3. Discorra sobre a diferença entre as duas medidas. Como elas afetam a distribuição?"
   ]
  },
  {
   "cell_type": "code",
   "execution_count": 7,
   "metadata": {
    "collapsed": false
   },
   "outputs": [
    {
     "data": {
      "text/plain": [
       "Mundo    6.091667e+02\n",
       "X1       2.719269e+10\n",
       "X2       5.795294e+05\n",
       "X3       5.873356e+02\n",
       "X4       1.150118e+02\n",
       "X5       8.835210e+01\n",
       "X6       1.367787e+00\n",
       "X7       1.462700e+03\n",
       "X8       2.201484e+07\n",
       "X9       8.183846e+02\n",
       "X10      2.719151e+00\n",
       "dtype: float64"
      ]
     },
     "execution_count": 7,
     "metadata": {},
     "output_type": "execute_result"
    }
   ],
   "source": [
    "Mundo.var()"
   ]
  },
  {
   "cell_type": "code",
   "execution_count": 8,
   "metadata": {
    "collapsed": false
   },
   "outputs": [
    {
     "data": {
      "text/plain": [
       "count     85.000000\n",
       "mean      53.211765\n",
       "std       24.235007\n",
       "min        5.000000\n",
       "25%       35.000000\n",
       "50%       54.000000\n",
       "75%       72.000000\n",
       "max      100.000000\n",
       "Name: X3, dtype: float64"
      ]
     },
     "execution_count": 8,
     "metadata": {},
     "output_type": "execute_result"
    }
   ],
   "source": [
    "Mundo.X3.describe()"
   ]
  },
  {
   "cell_type": "markdown",
   "metadata": {},
   "source": [
    "___\n",
    "A análise bidimensional tem como objetivo encontrar associação ou relação entre as variáveis quantitativas. Essas relações podem ser identificadas através de gráficos ou medidas numéricas. Entende-se por associação a mudança de opinião sobre o comportamento de uma variável na presença de informação sobre a segunda variável.\n",
    "\n",
    "1) Um gráfico de dispersão pode ser utilizado para compreender a relação (ou seja, associação) entre duas variáveis quantitativas. Faça o gráfico de dispersão entre X3 e X4, X3 e X5, X3 e X6, X3 e X7. Escolha e interprete um dos gráficos."
   ]
  },
  {
   "cell_type": "code",
   "execution_count": 9,
   "metadata": {
    "collapsed": false
   },
   "outputs": [
    {
     "data": {
      "text/plain": [
       "<matplotlib.axes._subplots.AxesSubplot at 0x215a5ebdc88>"
      ]
     },
     "execution_count": 9,
     "metadata": {},
     "output_type": "execute_result"
    },
    {
     "data": {
      "image/png": "[encoded data removed]",
      "text/plain": [
       "<matplotlib.figure.Figure at 0x215a5e25390>"
      ]
     },
     "metadata": {},
     "output_type": "display_data"
    }
   ],
   "source": [
    "Mundo.plot(kind=\"scatter\", x='X3', y='X4') #grafico de dispersão"
   ]
  },
  {
   "cell_type": "code",
   "execution_count": 10,
   "metadata": {
    "collapsed": false
   },
   "outputs": [
    {
     "data": {
      "text/plain": [
       "<matplotlib.axes._subplots.AxesSubplot at 0x215a6399da0>"
      ]
     },
     "execution_count": 10,
     "metadata": {},
     "output_type": "execute_result"
    },
    {
     "data": {
      "image/png": "[encoded data removed]",
      "text/plain": [
       "<matplotlib.figure.Figure at 0x215a63dc208>"
      ]
     },
     "metadata": {},
     "output_type": "display_data"
    }
   ],
   "source": [
    "Mundo.plot(kind=\"scatter\", x='X3', y='X5')"
   ]
  },
  {
   "cell_type": "code",
   "execution_count": 11,
   "metadata": {
    "collapsed": false
   },
   "outputs": [
    {
     "data": {
      "text/plain": [
       "<matplotlib.axes._subplots.AxesSubplot at 0x215a6415da0>"
      ]
     },
     "execution_count": 11,
     "metadata": {},
     "output_type": "execute_result"
    },
    {
     "data": {
      "image/png": "[encoded data removed]",
      "text/plain": [
       "<matplotlib.figure.Figure at 0x215a644fe48>"
      ]
     },
     "metadata": {},
     "output_type": "display_data"
    }
   ],
   "source": [
    "Mundo.plot(kind=\"scatter\", x='X3', y='X6')"
   ]
  },
  {
   "cell_type": "code",
   "execution_count": 12,
   "metadata": {
    "collapsed": false
   },
   "outputs": [
    {
     "data": {
      "text/plain": [
       "<matplotlib.axes._subplots.AxesSubplot at 0x215a6481a90>"
      ]
     },
     "execution_count": 12,
     "metadata": {},
     "output_type": "execute_result"
    },
    {
     "data": {
      "image/png": "[encoded data removed]",
      "text/plain": [
       "<matplotlib.figure.Figure at 0x215a64bb780>"
      ]
     },
     "metadata": {},
     "output_type": "display_data"
    }
   ],
   "source": [
    "Mundo.plot(kind=\"scatter\", x='X3', y='X7')"
   ]
  },
  {
   "cell_type": "markdown",
   "metadata": {},
   "source": [
    "___\n",
    "O gráfico de dispersão é uma ferramenta descritiva simples, porém útil para examinar uma possível relação entre variáveis quantitativas. A literatura estatística apresenta uma medida, nomeada de covariância:\n",
    "\n",
    "$$\\mathrm{Cov}(X, Y) = \\frac{1}{n} \\sum^n_{i=1}(x_i - \\overline{x})(y_i - \\overline{y}) \\quad\\quad\\quad\\quad (1)$$"
   ]
  },
  {
   "cell_type": "markdown",
   "metadata": {},
   "source": [
    "2) Calcule a covariância dos pares utilizados no item 1. O que pode ser dito sobre os valores obtidos? Os valores dizem algo em magnitude? Contraste as interpretações gráficas e os resultados das covariâncias."
   ]
  },
  {
   "cell_type": "code",
   "execution_count": 13,
   "metadata": {
    "collapsed": false
   },
   "outputs": [
    {
     "data": {
      "text/html": [
       "<div>\n",
       "<table border=\"1\" class=\"dataframe\">\n",
       "  <thead>\n",
       "    <tr style=\"text-align: right;\">\n",
       "      <th></th>\n",
       "      <th>Mundo</th>\n",
       "      <th>X1</th>\n",
       "      <th>X2</th>\n",
       "      <th>X3</th>\n",
       "      <th>X4</th>\n",
       "      <th>X5</th>\n",
       "      <th>X6</th>\n",
       "      <th>X7</th>\n",
       "      <th>X8</th>\n",
       "      <th>X9</th>\n",
       "      <th>X10</th>\n",
       "    </tr>\n",
       "  </thead>\n",
       "  <tbody>\n",
       "    <tr>\n",
       "      <th>Mundo</th>\n",
       "      <td>609.166667</td>\n",
       "      <td>-1.953926e+05</td>\n",
       "      <td>2.938452e+02</td>\n",
       "      <td>45.011905</td>\n",
       "      <td>14.476190</td>\n",
       "      <td>11.654762</td>\n",
       "      <td>2.380952</td>\n",
       "      <td>-114.892857</td>\n",
       "      <td>1.293756e+04</td>\n",
       "      <td>81.380952</td>\n",
       "      <td>-1.949405</td>\n",
       "    </tr>\n",
       "    <tr>\n",
       "      <th>X1</th>\n",
       "      <td>-195392.595238</td>\n",
       "      <td>2.719269e+10</td>\n",
       "      <td>-3.424834e+06</td>\n",
       "      <td>-724667.139496</td>\n",
       "      <td>-70070.475210</td>\n",
       "      <td>5839.196359</td>\n",
       "      <td>-21119.214846</td>\n",
       "      <td>336086.858403</td>\n",
       "      <td>-4.927253e+07</td>\n",
       "      <td>-217769.702241</td>\n",
       "      <td>271920.629707</td>\n",
       "    </tr>\n",
       "    <tr>\n",
       "      <th>X2</th>\n",
       "      <td>293.845238</td>\n",
       "      <td>-3.424834e+06</td>\n",
       "      <td>5.795294e+05</td>\n",
       "      <td>4702.019468</td>\n",
       "      <td>1355.159944</td>\n",
       "      <td>1370.292997</td>\n",
       "      <td>-202.429832</td>\n",
       "      <td>-5379.071569</td>\n",
       "      <td>1.301542e+06</td>\n",
       "      <td>624.080672</td>\n",
       "      <td>-34.183010</td>\n",
       "    </tr>\n",
       "    <tr>\n",
       "      <th>X3</th>\n",
       "      <td>45.011905</td>\n",
       "      <td>-7.246671e+05</td>\n",
       "      <td>4.702019e+03</td>\n",
       "      <td>587.335574</td>\n",
       "      <td>194.349860</td>\n",
       "      <td>166.230112</td>\n",
       "      <td>-7.373389</td>\n",
       "      <td>-669.999160</td>\n",
       "      <td>6.718486e+04</td>\n",
       "      <td>424.015966</td>\n",
       "      <td>-7.236227</td>\n",
       "    </tr>\n",
       "    <tr>\n",
       "      <th>X4</th>\n",
       "      <td>14.476190</td>\n",
       "      <td>-7.007048e+04</td>\n",
       "      <td>1.355160e+03</td>\n",
       "      <td>194.349860</td>\n",
       "      <td>115.011765</td>\n",
       "      <td>98.701541</td>\n",
       "      <td>-5.994818</td>\n",
       "      <td>-391.794398</td>\n",
       "      <td>2.889219e+04</td>\n",
       "      <td>251.168347</td>\n",
       "      <td>-0.699227</td>\n",
       "    </tr>\n",
       "    <tr>\n",
       "      <th>X5</th>\n",
       "      <td>11.654762</td>\n",
       "      <td>5.839196e+03</td>\n",
       "      <td>1.370293e+03</td>\n",
       "      <td>166.230112</td>\n",
       "      <td>98.701541</td>\n",
       "      <td>88.352101</td>\n",
       "      <td>-4.207003</td>\n",
       "      <td>-332.302101</td>\n",
       "      <td>2.486676e+04</td>\n",
       "      <td>200.260084</td>\n",
       "      <td>0.059401</td>\n",
       "    </tr>\n",
       "    <tr>\n",
       "      <th>X6</th>\n",
       "      <td>2.380952</td>\n",
       "      <td>-2.111921e+04</td>\n",
       "      <td>-2.024298e+02</td>\n",
       "      <td>-7.373389</td>\n",
       "      <td>-5.994818</td>\n",
       "      <td>-4.207003</td>\n",
       "      <td>1.367787</td>\n",
       "      <td>21.785574</td>\n",
       "      <td>-2.132512e+03</td>\n",
       "      <td>-20.835994</td>\n",
       "      <td>-0.211105</td>\n",
       "    </tr>\n",
       "    <tr>\n",
       "      <th>X7</th>\n",
       "      <td>-114.892857</td>\n",
       "      <td>3.360869e+05</td>\n",
       "      <td>-5.379072e+03</td>\n",
       "      <td>-669.999160</td>\n",
       "      <td>-391.794398</td>\n",
       "      <td>-332.302101</td>\n",
       "      <td>21.785574</td>\n",
       "      <td>1462.699720</td>\n",
       "      <td>-1.050186e+05</td>\n",
       "      <td>-922.479132</td>\n",
       "      <td>3.358409</td>\n",
       "    </tr>\n",
       "    <tr>\n",
       "      <th>X8</th>\n",
       "      <td>12937.559524</td>\n",
       "      <td>-4.927253e+07</td>\n",
       "      <td>1.301542e+06</td>\n",
       "      <td>67184.857143</td>\n",
       "      <td>28892.190476</td>\n",
       "      <td>24866.761905</td>\n",
       "      <td>-2132.511905</td>\n",
       "      <td>-105018.630952</td>\n",
       "      <td>2.201484e+07</td>\n",
       "      <td>57545.964286</td>\n",
       "      <td>-492.683452</td>\n",
       "    </tr>\n",
       "    <tr>\n",
       "      <th>X9</th>\n",
       "      <td>81.380952</td>\n",
       "      <td>-2.177697e+05</td>\n",
       "      <td>6.240807e+02</td>\n",
       "      <td>424.015966</td>\n",
       "      <td>251.168347</td>\n",
       "      <td>200.260084</td>\n",
       "      <td>-20.835994</td>\n",
       "      <td>-922.479132</td>\n",
       "      <td>5.754596e+04</td>\n",
       "      <td>818.384594</td>\n",
       "      <td>-2.174396</td>\n",
       "    </tr>\n",
       "    <tr>\n",
       "      <th>X10</th>\n",
       "      <td>-1.949405</td>\n",
       "      <td>2.719206e+05</td>\n",
       "      <td>-3.418301e+01</td>\n",
       "      <td>-7.236227</td>\n",
       "      <td>-0.699227</td>\n",
       "      <td>0.059401</td>\n",
       "      <td>-0.211105</td>\n",
       "      <td>3.358409</td>\n",
       "      <td>-4.926835e+02</td>\n",
       "      <td>-2.174396</td>\n",
       "      <td>2.719151</td>\n",
       "    </tr>\n",
       "  </tbody>\n",
       "</table>\n",
       "</div>"
      ],
      "text/plain": [
       "               Mundo            X1            X2             X3            X4  \\\n",
       "Mundo     609.166667 -1.953926e+05  2.938452e+02      45.011905     14.476190   \n",
       "X1    -195392.595238  2.719269e+10 -3.424834e+06 -724667.139496 -70070.475210   \n",
       "X2        293.845238 -3.424834e+06  5.795294e+05    4702.019468   1355.159944   \n",
       "X3         45.011905 -7.246671e+05  4.702019e+03     587.335574    194.349860   \n",
       "X4         14.476190 -7.007048e+04  1.355160e+03     194.349860    115.011765   \n",
       "X5         11.654762  5.839196e+03  1.370293e+03     166.230112     98.701541   \n",
       "X6          2.380952 -2.111921e+04 -2.024298e+02      -7.373389     -5.994818   \n",
       "X7       -114.892857  3.360869e+05 -5.379072e+03    -669.999160   -391.794398   \n",
       "X8      12937.559524 -4.927253e+07  1.301542e+06   67184.857143  28892.190476   \n",
       "X9         81.380952 -2.177697e+05  6.240807e+02     424.015966    251.168347   \n",
       "X10        -1.949405  2.719206e+05 -3.418301e+01      -7.236227     -0.699227   \n",
       "\n",
       "                 X5            X6             X7            X8             X9  \\\n",
       "Mundo     11.654762      2.380952    -114.892857  1.293756e+04      81.380952   \n",
       "X1      5839.196359 -21119.214846  336086.858403 -4.927253e+07 -217769.702241   \n",
       "X2      1370.292997   -202.429832   -5379.071569  1.301542e+06     624.080672   \n",
       "X3       166.230112     -7.373389    -669.999160  6.718486e+04     424.015966   \n",
       "X4        98.701541     -5.994818    -391.794398  2.889219e+04     251.168347   \n",
       "X5        88.352101     -4.207003    -332.302101  2.486676e+04     200.260084   \n",
       "X6        -4.207003      1.367787      21.785574 -2.132512e+03     -20.835994   \n",
       "X7      -332.302101     21.785574    1462.699720 -1.050186e+05    -922.479132   \n",
       "X8     24866.761905  -2132.511905 -105018.630952  2.201484e+07   57545.964286   \n",
       "X9       200.260084    -20.835994    -922.479132  5.754596e+04     818.384594   \n",
       "X10        0.059401     -0.211105       3.358409 -4.926835e+02      -2.174396   \n",
       "\n",
       "                 X10  \n",
       "Mundo      -1.949405  \n",
       "X1     271920.629707  \n",
       "X2        -34.183010  \n",
       "X3         -7.236227  \n",
       "X4         -0.699227  \n",
       "X5          0.059401  \n",
       "X6         -0.211105  \n",
       "X7          3.358409  \n",
       "X8       -492.683452  \n",
       "X9         -2.174396  \n",
       "X10         2.719151  "
      ]
     },
     "execution_count": 13,
     "metadata": {},
     "output_type": "execute_result"
    }
   ],
   "source": [
    "Mundo.cov()"
   ]
  },
  {
   "cell_type": "code",
   "execution_count": 14,
   "metadata": {
    "collapsed": false
   },
   "outputs": [
    {
     "name": "stdout",
     "output_type": "stream",
     "text": [
      "194.349859944\n",
      "166.230112045\n",
      "-7.37338935574\n",
      "-669.999159664\n"
     ]
    }
   ],
   "source": [
    "print(Mundo.X3.cov(Mundo.X4))\n",
    "print(Mundo.X3.cov(Mundo.X5))\n",
    "print(Mundo.X3.cov(Mundo.X6))\n",
    "print(Mundo.X3.cov(Mundo.X7))"
   ]
  },
  {
   "cell_type": "markdown",
   "metadata": {},
   "source": [
    "3) *Ignorando o sinal*, as variáveis Mortalidade Infantil (`X7`) e %População Urbana (`X3`) possui um coeficiente de covariância maior, mas a associação não parece ser mais forte, por exemplo, do que a observada entre as variáveis Expectativa de vida feminina (`X4`) e %População Urbana (`X3`). Achar outra medida e comparar com o resultado da covariância."
   ]
  },
  {
   "cell_type": "code",
   "execution_count": 15,
   "metadata": {
    "collapsed": false
   },
   "outputs": [
    {
     "name": "stdout",
     "output_type": "stream",
     "text": [
      "0.747773284605\n",
      "0.729723116276\n",
      "-0.260144567068\n",
      "-0.722858872017\n"
     ]
    }
   ],
   "source": [
    "print(Mundo.X3.corr(Mundo.X4))\n",
    "print(Mundo.X3.corr(Mundo.X5))\n",
    "print(Mundo.X3.corr(Mundo.X6))\n",
    "print(Mundo.X3.corr(Mundo.X7))"
   ]
  },
  {
   "cell_type": "markdown",
   "metadata": {},
   "source": [
    "___\n",
    "4) Ajuste de reta apenas para interpretação dos coeficientes:\n",
    "\n",
    "Para um novo país (que não faz parte da amostra), sabe-se que o % de população urbana é igual a 73. \n",
    "Qual deve ser a expectativa de vida feminina esperada para esse novo país?\n",
    "\n",
    "A solução pode ser pelo ajuste de uma reta: no caso, uma reta depende de um coeficiente linear (*a*) e de um coeficiente angular (*b*) e pode ser matematicamente expressa por:\n",
    "\n",
    "$$\\hat{y} = a + bx$$\n",
    "\n",
    "Ainda sem entrar em detalhes, esses coeficientes devem ser obtidos a partir dos dados utilizando algumas medidas-resumo pelas seguintes expressões:\n",
    "\n",
    "$$b = \\frac{\\mathrm{Cov}(X, Y)}{\\mathrm{Var}(X)}$$\n",
    "\n",
    "$$a = \\overline{y} - b\\overline{x}$$\n",
    "\n",
    "Calcule esses coeficientes linear e angular e interprete-os para o problema em questão. Coloque a reta no gráfico de dispersão feito acima.\n",
    "\n",
    "Considerando essa reta ajustada, qual deve ser a expectativa de vida feminina em um país com 73% da população vivendo na região urbana?"
   ]
  },
  {
   "cell_type": "code",
   "execution_count": 17,
   "metadata": {
    "collapsed": false
   },
   "outputs": [
    {
     "data": {
      "text/plain": [
       "0.33090088268341872"
      ]
     },
     "execution_count": 17,
     "metadata": {},
     "output_type": "execute_result"
    }
   ],
   "source": [
    "b1=(Mundo.X3.cov(Mundo.X4))/Mundo.X3.var()\n",
    "b1"
   ]
  },
  {
   "cell_type": "code",
   "execution_count": 18,
   "metadata": {
    "collapsed": false
   },
   "outputs": [
    {
     "data": {
      "text/plain": [
       "0.28302408254911809"
      ]
     },
     "execution_count": 18,
     "metadata": {},
     "output_type": "execute_result"
    }
   ],
   "source": [
    "b2=(Mundo.X3.cov(Mundo.X5))/Mundo.X3.var()\n",
    "b2"
   ]
  },
  {
   "cell_type": "markdown",
   "metadata": {
    "collapsed": true
   },
   "source": [
    "\n",
    "\n",
    "\n",
    "\n",
    "\n",
    "\n",
    "\n",
    "\n",
    "\n",
    "\n",
    "\n",
    "\n",
    "\n",
    "\n"
   ]
  },
  {
   "cell_type": "code",
   "execution_count": 21,
   "metadata": {
    "collapsed": false
   },
   "outputs": [
    {
     "data": {
      "text/plain": [
       "-0.012553963490825021"
      ]
     },
     "execution_count": 21,
     "metadata": {},
     "output_type": "execute_result"
    }
   ],
   "source": [
    "b3=(Mundo.X3.cov(Mundo.X6))/Mundo.X3.var()\n",
    "b3"
   ]
  },
  {
   "cell_type": "code",
   "execution_count": 22,
   "metadata": {
    "collapsed": false
   },
   "outputs": [
    {
     "data": {
      "text/plain": [
       "-1.1407433655667625"
      ]
     },
     "execution_count": 22,
     "metadata": {},
     "output_type": "execute_result"
    }
   ],
   "source": [
    "b4=(Mundo.X3.cov(Mundo.X7))/Mundo.X3.var()\n",
    "b4"
   ]
  },
  {
   "cell_type": "markdown",
   "metadata": {},
   "source": [
    "Os coeficientes b1 e b2 tem valores positivos pois o gráfico é crescente, os coeficientes b3 e b4 tem valores negativos pois os gráficos são decrescentes"
   ]
  },
  {
   "cell_type": "code",
   "execution_count": null,
   "metadata": {
    "collapsed": true
   },
   "outputs": [],
   "source": [
    "a1="
   ]
  }
 ],
 "metadata": {
  "anaconda-cloud": {},
  "kernelspec": {
   "display_name": "Python [Root]",
   "language": "python",
   "name": "Python [Root]"
  },
  "language_info": {
   "codemirror_mode": {
    "name": "ipython",
    "version": 3
   },
   "file_extension": ".py",
   "mimetype": "text/x-python",
   "name": "python",
   "nbconvert_exporter": "python",
   "pygments_lexer": "ipython3",
   "version": "3.5.2"
  }
 },
 "nbformat": 4,
 "nbformat_minor": 0
}
