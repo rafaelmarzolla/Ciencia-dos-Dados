{
 "cells": [
  {
   "cell_type": "markdown",
   "metadata": {},
   "source": [
    "#Aula 16\n",
    "\n",
    "**Referência de Leitura:**\n",
    "1. Montgomery et al. (5ª. Edição): pág. 169 a 173 e pág. 199 a 204 - Hypotheses Testing\n",
    "\n",
    "**Hoje:**\n",
    "1. Variância amostral vs Variância Populacional.\n",
    "2. T.H. para variância.\n",
    "3. T.H. para média com variância desconhecida.\n",
    "\n",
    "**Próxima aula:**\n",
    "1. Montgomery et al. (5ª. Edição): pág. 230 a 239 - Decision Making for a two samples"
   ]
  },
  {
   "cell_type": "code",
   "execution_count": null,
   "metadata": {
    "collapsed": false
   },
   "outputs": [],
   "source": [
    "%matplotlib inline\n",
    "import pandas as pd\n",
    "from scipy.stats import norm, chi2, t\n",
    "from scipy import linspace\n",
    "from math import sqrt, pi"
   ]
  },
  {
   "cell_type": "markdown",
   "metadata": {},
   "source": [
    "A variância amostral (proveniente de uma amostra) difere da variância populacional (teórico) para amostras pequenas. É dito que na variância amostral deve-se dividir por n-1 para remover o viés proveniente da estimação da média¹. Seja:<br /><br />\n",
    "Variância Populacional:\n",
    "$$\\sigma^2=\\frac{1}{n}\\sum_{i=1}^{n}(x_i-\\mu)^2$$\n",
    "Variância Amostral:\n",
    "$$s^2=\\frac{1}{n-1}\\sum_{i=1}^{n}(x_i-\\bar{x})^2$$\n",
    "\n",
    "Simular o resultado acima para uma pequena amostra. Seguir os seguintes passos:\n",
    "\n",
    "    * Gerar uma matriz de tamanho 10000 x 10 de uma normal N(0,1) [usar rvs() com size=(10000, 10)].\n",
    "    * Para cada linha (10000 linhas e 10 amostras cada linha): \n",
    "        * calcular a variância [.var()]\n",
    "        * calcular a variância com 1 grau de liberdade a menos [.var(ddof=1)]\n",
    "    * Tirar a média das 10000 variâncias calculadas\n",
    "    \n",
    "    1. Comparar os resultados. Qual é mais próxima da verdadeira?\n",
    "    2. O que acontece quando o n é grande?\n",
    "    3. Repita os passos com o desvio padrão e verifique que não convergirá. Por que?\n",
    "\n",
    "¹Montgomery et al. (5ª. Edição): pág. 152 - Example 4-1"
   ]
  },
  {
   "cell_type": "code",
   "execution_count": null,
   "metadata": {
    "collapsed": false
   },
   "outputs": [],
   "source": []
  },
  {
   "cell_type": "markdown",
   "metadata": {},
   "source": [
    "Voltando ao Teste de Hipóteses, na aula passada foi feito um exemplo onde $X\\sim{N(1000,25)}$ e tinhámos **UMA** amostra de 10 resistores. Foi realizada então o teste para média. Apesar da hipótese nula ($H_0$) ser rejeitada, ficou uma dúvida: e a variância (desvio padrão)? <br /><br />\n",
    "Ou seja, formulando o T.H. para variância, desejamos verificar:\n",
    "$$H_0: \\sigma^2 = 25^2$$\n",
    "$$H_1: \\sigma^2 \\neq 25^2$$\n",
    "<br />\n",
    "E para o teste devemos utilizar devemos utilizar:<br />\n",
    "$$\\chi^2_0=\\frac{(n-1)S^2}{\\sigma^2}\\sim{\\chi^2(n-1)}$$\n",
    "<br />Onde $\\sigma^2$ é a variância teórica e $s^2$ é a variância amostral. $\\chi^2_0$ é uma v.a. chi-quadrado com n-1 graus de liberdade. <br /><br />\n",
    "Simular: <br />\n",
    "    * Como no item anterior, simular 10000 variâncias de uma v.a. N(1000, 25).\n",
    "    * Para cada variância, calcular o valor de chi2 conforme a fórmula acima. Usar no s^2 a variância amostral medida nos resistores.\n",
    "    * Gerar o histograma e plotar a pdf da distribuição chi2 com n-1 graus de liberdade.\n",
    "    \n",
    "    1. Comparar os resultados do histograma vs pdf.\n",
    "    2. Voltando ao T.H., adotando um nível de significância de 95%, rejeito ou falho em rejeitar H0? (Cuidado: chi2 não é simétrica).\n"
   ]
  },
  {
   "cell_type": "code",
   "execution_count": null,
   "metadata": {
    "collapsed": false
   },
   "outputs": [],
   "source": []
  },
  {
   "cell_type": "markdown",
   "metadata": {},
   "source": [
    "Vamos imaginar agora se o fabricante não fornecesse nenhum dado teórico, apenas de que ele segue uma distribuição normal com a média nominal do resistor, ou seja $1M\\Omega$. Tendo o desvio padrão (ou variância) desconhecido, nos resta apenas a medida amostral dos 10 resistores. No priméiro item da aula, foi necessário tirar uma média de uma simulação muito grande (10000 vezes) para chegar a um valor próximo ao teórico, portanto não deve-se esperar que com apenas 1 amostra com 10 observações seja suficiente para descrever a medida. <br />\n",
    "Então queremos testar: <br /><br />\n",
    "$$H_0: \\mu = 1000$$\n",
    "$$H_1: \\mu \\neq 1000$$\n",
    "<br /><br />\n",
    "E para realizar o T.H. da média com uma variância desconhecida (mas ainda sabendo que X é uma normal), utilizamos a seguinte distribuição: <br />\n",
    "\n",
    "$$T=\\frac{\\bar{X}-\\mu}{S/\\sqrt{n}}\\sim{T(n-1)}$$\n",
    "<br />Onde $\\mu$ é a média teórica e $S$ é a variância amostral. $T$ é uma v.a. t com n-1 graus de liberdade. <br /><br />\n",
    "Simular:<br />\n",
    "    * Plotar a pdf da t para dof=[1, 2, 5, 10, 30].\n",
    "    * Plotar a pdf da normal N(0,1).\n",
    "    * Comparar os resultados, sobretudo nas caudas. O que podemos dizer sobre a distribuição t?\n",
    "    \n",
    "    1. Voltando ao teste de hipóteses. Com a variância desconhecida, a rejeição de H0 se mantém?"
   ]
  },
  {
   "cell_type": "code",
   "execution_count": null,
   "metadata": {
    "collapsed": false
   },
   "outputs": [],
   "source": []
  }
 ],
 "metadata": {
  "kernelspec": {
   "display_name": "Python 3",
   "language": "python",
   "name": "python3"
  },
  "language_info": {
   "codemirror_mode": {
    "name": "ipython",
    "version": 3
   },
   "file_extension": ".py",
   "mimetype": "text/x-python",
   "name": "python",
   "nbconvert_exporter": "python",
   "pygments_lexer": "ipython3",
   "version": "3.5.2"
  }
 },
 "nbformat": 4,
 "nbformat_minor": 0
}
