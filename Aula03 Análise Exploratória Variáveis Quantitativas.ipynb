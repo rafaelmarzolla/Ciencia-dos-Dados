{
 "cells": [
  {
   "cell_type": "markdown",
   "metadata": {},
   "source": [
    "#Aula 03\n",
    "\n",
    "**Referência de Leitura:**\n",
    "1.\tMagalhães e Lima (7ª. Edição): pág. 18 a 25; pág. 106 e 107 (Definição 4.1 e Exemplo 4.1).\n",
    "2.\tMontgomery et al (5ª. Edição): pág. 24 a 28.\n",
    "\n",
    "**Hoje:**\n",
    "1. Explicar vantagens e desvantagens sobre o uso da frequência ou da densidade na construção de um histograma e saber interpretá-lo. \n",
    "2.\tInterpretar o comportamento de uma variável quantitativa a partir dos formatos de um histograma e/ou um box-plot.\n",
    "3.\tInterpretar as medidas-resumo a partir do conjunto de dados.\n",
    "4.\tComparar cenários, a partir dos gráficos e medidas calculadas, para tomada de decisão.\n",
    "\n",
    "**Próxima aula:**\n",
    "1.\tMagalhães e Lima (7ª. Edição): pág. 116 e 117 (Definição 4.4 e Exemplo 4.8).\n",
    "1.\tLeitura prévia: Montgomery et al (5ª. Edição): Seção 2.6 (pág. 46) e Exemplo 6.1 (pág. 306).\n"
   ]
  },
  {
   "cell_type": "markdown",
   "metadata": {},
   "source": [
    "___\n",
    "Nessa aula, a base de dados `Salarios.txt` apresenta salários de quatro profissões diferentes: A, B, C e D. Considere que esses salários foram mensurados para mil trabalhadores escolhidos aleatoriamente dentro de cada profissão. Os comandos abaixo abrem a base de dados:"
   ]
  },
  {
   "cell_type": "code",
   "execution_count": 1,
   "metadata": {
    "collapsed": false
   },
   "outputs": [],
   "source": [
    "%matplotlib inline\n",
    "\n",
    "import os\n",
    "import pandas as pd\n",
    "\n",
    "sal = pd.read_table('Salario.txt', sep=' ')"
   ]
  },
  {
   "cell_type": "markdown",
   "metadata": {},
   "source": [
    "1)\tGerar as tabelas de frequência absoluta, frequência relativa e frequência acumulada da profissão A. Compare as especificidades de cada tabela. Discorra um pouco sobre quartis utilizando as tabelas."
   ]
  },
  {
   "cell_type": "code",
   "execution_count": null,
   "metadata": {
    "collapsed": true
   },
   "outputs": [],
   "source": []
  },
  {
   "cell_type": "markdown",
   "metadata": {},
   "source": [
    "2)\tFazer o histograma de cada profissão. Escolha a mesma quantidade de classes das tabelas acima."
   ]
  },
  {
   "cell_type": "code",
   "execution_count": null,
   "metadata": {
    "collapsed": true
   },
   "outputs": [],
   "source": []
  },
  {
   "cell_type": "markdown",
   "metadata": {},
   "source": [
    "2.1)\tRefazer os gráficos utilizando o argumento \"normed=True\". Selecione a profissão A e compare com histograma do item anterior. Compare também com as tabelas feitas no item 1."
   ]
  },
  {
   "cell_type": "code",
   "execution_count": null,
   "metadata": {
    "collapsed": true
   },
   "outputs": [],
   "source": []
  },
  {
   "cell_type": "markdown",
   "metadata": {},
   "source": [
    "___\n",
    "3)\tConsiderando a distribuição dos salários em cada profissão, descreva qual deve ser sua influência sobre as seguintes características (não faça contas):\n",
    "\n",
    "3.1.\tMedidas de tendência central: os valores tendem a agrupar ao redor de um particular ponto?\n",
    "\n",
    "3.2.\tCaudas: as probabilidades caem da mesma forma conforme se distancia, para direita e para esquerda, da faixa salarial com maior densidade? Elas podem influenciar no formato dos dados?\n",
    "\n",
    "3.3.\tOutliers (valores aberrantes): Há valores extremos que e distanciam de alguma medida central?"
   ]
  },
  {
   "cell_type": "code",
   "execution_count": null,
   "metadata": {
    "collapsed": true
   },
   "outputs": [],
   "source": []
  },
  {
   "cell_type": "markdown",
   "metadata": {},
   "source": [
    "___\n",
    "4)\tHá medidas-resumo que buscam sumarizar as informações de variáveis quantitativas representando, por exemplo, a tendência central dos dados. Nesse caso, busque os comandos para calcular as seguintes medidas:\n",
    "\n",
    "4.1.\tMédia, mediana e moda para cada profissão. Interprete o resultado."
   ]
  },
  {
   "cell_type": "code",
   "execution_count": null,
   "metadata": {
    "collapsed": true
   },
   "outputs": [],
   "source": []
  },
  {
   "cell_type": "markdown",
   "metadata": {},
   "source": [
    "___\n",
    "5) Faça o gráfico Boxplot de cada variável. Explique o conceito do Boxplot.  \n",
    "Considerando essas definições, descreva o comportamento dos salários em cada profissão. Confronte com interpretações anteriores. "
   ]
  },
  {
   "cell_type": "code",
   "execution_count": null,
   "metadata": {
    "collapsed": true
   },
   "outputs": [],
   "source": []
  },
  {
   "cell_type": "markdown",
   "metadata": {},
   "source": [
    "___\n",
    "6) Suponha que queira seguir uma das quatro profissões (A, B, C e D) e que sua decisão será guiada pelo futuro desempenho salarial que possa vim a ter. Assim, escreva um parágrafo que use os resultados desenvolvidos na aula de hoje, os quais respaldam sua escolha. Faça isso de forma clara e sucinta."
   ]
  },
  {
   "cell_type": "code",
   "execution_count": null,
   "metadata": {
    "collapsed": true
   },
   "outputs": [],
   "source": []
  }
 ],
 "metadata": {
  "anaconda-cloud": {},
  "kernelspec": {
   "display_name": "Python 3",
   "language": "python",
   "name": "python3"
  },
  "language_info": {
   "codemirror_mode": {
    "name": "ipython",
    "version": 3
   },
   "file_extension": ".py",
   "mimetype": "text/x-python",
   "name": "python",
   "nbconvert_exporter": "python",
   "pygments_lexer": "ipython3",
   "version": "3.5.1"
  }
 },
 "nbformat": 4,
 "nbformat_minor": 0
}
