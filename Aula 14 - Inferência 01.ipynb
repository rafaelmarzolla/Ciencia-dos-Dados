{
 "cells": [
  {
   "cell_type": "markdown",
   "metadata": {},
   "source": [
    "#Aula 14\n",
    "\n",
    "**Referência de Leitura:**\n",
    "1. Magalhães e Lima (7ª. Edição): pág. 244 a 245 - Estimação por intervalo\n",
    "2. Montgomery et al. (5ª. Edição): pág. 156 a 159 - Hypotheses Testing\n",
    "\n",
    "**Hoje:**\n",
    "1. Introdução ao teste de hipóteses (HT)\n",
    "\n",
    "**Próxima aula:**\n",
    "1. Montgomery et al. (5ª. Edição): pág. 148 a 186 - Decision Making for a single sample\n",
    "2. Magalhães e Lima (7ª. Edição): pág. 259 a 273 - Teste de Hipóteses"
   ]
  },
  {
   "cell_type": "markdown",
   "metadata": {},
   "source": [
    "Na Aula passada vimos que dado:\n",
    "$$Y = \\frac{\\sum_{i=1}^{n}X_i}{n}$$\n",
    "com\n",
    "$$\\mu_y = \\mu_x$$\n",
    "$$\\sigma_y = \\frac{\\sigma_x}{\\sqrt{n}}$$\n",
    "Se $X_i$ for iid (independente e identicamente distribuído) e n suficientemente grande, logo $Y\\sim{N(\\mu_y,\\sigma_y)}$, ou seja, padronizando Y temos: \n",
    "$$Z=\\frac{Y-\\mu_y}{\\sigma_y/\\sqrt{n}}\\sim{N(0,1)}$$"
   ]
  },
  {
   "cell_type": "code",
   "execution_count": 22,
   "metadata": {
    "collapsed": false
   },
   "outputs": [],
   "source": [
    "%matplotlib inline\n",
    "\n",
    "#Bibliotecas necessárias\n",
    "from scipy.stats import norm\n",
    "import pandas as pd"
   ]
  },
  {
   "cell_type": "markdown",
   "metadata": {},
   "source": [
    "**Problema**: Um fabricante de componentes eletrônicos enviou uma pequena amostra de resistores escolhidos aleatoriamente da linha de produção. Ele afirma que seus resitores são realmente precisos e a medida apresenta uma distribuição normal com média 1M$\\Omega$ e desvio padrão de 25k$\\Omega$.\n",
    "Você está em um importante projeto onde será necessária uma compra de um grande lote de peças. De posse da **amostra** enviada, você deve tomar a seguinte decisão: Você vai comprar ou não o componente deste fornecedor?<br /><br />\n",
    "Para refletir: o erro medido é exclusivamente do componente?"
   ]
  },
  {
   "cell_type": "code",
   "execution_count": null,
   "metadata": {
    "collapsed": true
   },
   "outputs": [],
   "source": [
    "x = []"
   ]
  }
 ],
 "metadata": {
  "anaconda-cloud": {},
  "kernelspec": {
   "display_name": "Python 3",
   "language": "python",
   "name": "python3"
  },
  "language_info": {
   "codemirror_mode": {
    "name": "ipython",
    "version": 3
   },
   "file_extension": ".py",
   "mimetype": "text/x-python",
   "name": "python",
   "nbconvert_exporter": "python",
   "pygments_lexer": "ipython3",
   "version": "3.5.2"
  }
 },
 "nbformat": 4,
 "nbformat_minor": 0
}
