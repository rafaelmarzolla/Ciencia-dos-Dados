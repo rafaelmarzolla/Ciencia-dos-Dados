{
 "cells": [
  {
   "cell_type": "markdown",
   "metadata": {},
   "source": [
    "#Aula 12\n",
    "\n",
    "**Referência de Leitura:**\n",
    "1. Magalhães e Lima (7ª. Edição): pág. 137 a 176 - Variáveis Bidimensionais\n",
    "2. Montgomery et al. (5ª. Edição): pág. 129 a 132 - Functions of Random Variables\n",
    "\n",
    "**Hoje:**\n",
    "1. Propriedades de variáveis aleatórias\n",
    "2. Padronização da Normal\n",
    "3. Soma e produto de v.a.\n",
    "\n",
    "**Próxima aula:**\n",
    "1. Estudar o TLC (Teorema do Limite Central) - Magalhães e Lima pág. 238 a 244 e Montgomery et al. pág. 139 a 140"
   ]
  },
  {
   "cell_type": "code",
   "execution_count": 22,
   "metadata": {
    "collapsed": false
   },
   "outputs": [],
   "source": [
    "%matplotlib inline\n",
    "\n",
    "#Bibliotecas necessárias\n",
    "from numpy import linspace\n",
    "from scipy.stats import norm, expon, chi2\n",
    "import pandas as pd"
   ]
  },
  {
   "cell_type": "markdown",
   "metadata": {},
   "source": [
    "Na Aula passada vimos que dada uma v.a. $X$ qualquer, se $Y=aX+b$, então:\n",
    "1. $\\mu_y = E[X] = a\\mu_x + b$\n",
    "2. $\\sigma_y = E[X^2]-\\mu^2 = a\\sigma_x$\n",
    "\n",
    "Portanto se $X\\sim N(\\mu,\\sigma)$ e utilizarmos $a=1/\\sigma$ e $b=\\mu/\\sigma$, o que podemos inferir sobre Y?"
   ]
  },
  {
   "cell_type": "markdown",
   "metadata": {},
   "source": [
    "Resposta:"
   ]
  },
  {
   "cell_type": "markdown",
   "metadata": {},
   "source": [
    "O resultado acima é muito importante, pois indica que podemos **padronizar** qualquer variável normal. Com isso podemos utilizar as tabelas de distribuição para calcular probabilidades.\n",
    "\n",
    "Exercício (Montgomery et al. 3-45): O esforço de compressão de uma amostra de cimento pode ser modelado como uma variável normal com média 6000 kg/cm² e desvio padrão de 100 kg/cm².<br />\n",
    "a) Qual a probabilidade da medida de esforço da amostra ser inferior a 6250 kg/cm²?<br />\n",
    "b) Qual a probabilidade da medida de esforço da amostra estar entre 5800 kg/cm² e 5900 kg/cm²?<br />\n",
    "c) Qual é a medida de esforço que é excedido por 95% das amostras?\n"
   ]
  },
  {
   "cell_type": "markdown",
   "metadata": {
    "collapsed": true
   },
   "source": [
    "Resposta:"
   ]
  },
  {
   "cell_type": "markdown",
   "metadata": {},
   "source": [
    "Resolva agora utilizando a função ppf()."
   ]
  },
  {
   "cell_type": "code",
   "execution_count": null,
   "metadata": {
    "collapsed": true
   },
   "outputs": [],
   "source": []
  },
  {
   "cell_type": "markdown",
   "metadata": {},
   "source": [
    "Agora, seja $Y = X_1 + X_2$, onde $X_1$ e $X_2$ são duas v.a. quaisquer. qual a média de Y? Qual o desvio padrão de Y?"
   ]
  },
  {
   "cell_type": "markdown",
   "metadata": {},
   "source": [
    "$\\mu_y=\\mu_{X_1}+\\mu_{X_2}$ <br />\n",
    "$\\sigma_y^2 = \\sigma_{X_1}^2+\\sigma_{X_2}^2$ (Se independentes)<br />\n",
    "$\\sigma_y^2 = \\sigma_{X_1}^2+\\sigma_{X_2}^2-2Cov(X_1,X_2)$ (Se dependentes)\n",
    "\n"
   ]
  },
  {
   "cell_type": "markdown",
   "metadata": {},
   "source": [
    "Simular $Y$, com $X_1\\sim N(0,1)$ e $X_2\\sim N(0,1)$ **independentes**. Desenhar o histograma e o fit de uma distribuição normal. Compare com as medidas "
   ]
  },
  {
   "cell_type": "code",
   "execution_count": null,
   "metadata": {
    "collapsed": false
   },
   "outputs": [],
   "source": []
  },
  {
   "cell_type": "markdown",
   "metadata": {},
   "source": [
    "Simular $Y=X^2$, com $X\\sim N(0,1)$. Desenhar o histograma e o fit de uma distribuição exponencial."
   ]
  },
  {
   "cell_type": "code",
   "execution_count": null,
   "metadata": {
    "collapsed": false
   },
   "outputs": [],
   "source": []
  },
  {
   "cell_type": "markdown",
   "metadata": {},
   "source": [
    "Simular $Y=\\sum_{i=1}^n X_i^2$, com $X_i\\sim N(0,1)$ (independentes). Desenhar o histograma e o fit de uma distribuição chi quadrado com n graus de liberdade."
   ]
  },
  {
   "cell_type": "code",
   "execution_count": null,
   "metadata": {
    "collapsed": false
   },
   "outputs": [],
   "source": []
  },
  {
   "cell_type": "markdown",
   "metadata": {},
   "source": [
    "Preparação para a próxima aula:\n",
    "1. $Y=\\sum_{i=1}^n X_i$, onde $X_i\\sim N(\\mu,\\sigma)$\n",
    "2. $Y=\\sum_{i=1}^n X_i$, onde $X_i$ é iid (independentes e igualmente distribuídas) de qualquer distribuição.\n",
    "O que podemos inferir sobre a variável Y quando n é sificientemente grande?"
   ]
  },
  {
   "cell_type": "code",
   "execution_count": null,
   "metadata": {
    "collapsed": true
   },
   "outputs": [],
   "source": []
  }
 ],
 "metadata": {
  "anaconda-cloud": {},
  "kernelspec": {
   "display_name": "Python 3",
   "language": "python",
   "name": "python3"
  },
  "language_info": {
   "codemirror_mode": {
    "name": "ipython",
    "version": 3
   },
   "file_extension": ".py",
   "mimetype": "text/x-python",
   "name": "python",
   "nbconvert_exporter": "python",
   "pygments_lexer": "ipython3",
   "version": "3.5.1"
  }
 },
 "nbformat": 4,
 "nbformat_minor": 0
}
